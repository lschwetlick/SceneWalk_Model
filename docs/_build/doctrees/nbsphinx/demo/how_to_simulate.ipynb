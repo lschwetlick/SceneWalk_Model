{
 "cells": [
  {
   "cell_type": "markdown",
   "metadata": {},
   "source": [
    "# Simulate Data from the SceneWalk Model"
   ]
  },
  {
   "cell_type": "code",
   "execution_count": 1,
   "metadata": {
    "collapsed": false,
    "execution": {
     "iopub.execute_input": "2020-03-30T15:22:38.718Z",
     "iopub.status.busy": "2020-03-30T15:22:38.711Z",
     "iopub.status.idle": "2020-03-30T15:22:39.819Z",
     "shell.execute_reply": "2020-03-30T15:22:39.827Z"
    },
    "inputHidden": false,
    "outputHidden": false
   },
   "outputs": [],
   "source": [
    "import os\n",
    "import shutil\n",
    "import sys\n",
    "from collections import OrderedDict\n",
    "import numpy as np\n",
    "from matplotlib import pyplot as plt\n",
    "from scipy.stats import norm as normal, truncnorm as truncated_normal\n",
    "import seaborn as sns\n",
    "from scenewalk.scenewalk_model_object import scenewalk as scenewalk_model\n",
    "from scenewalk.utils import loadData\n",
    "from scenewalk.simulation import simulate_dataset"
   ]
  },
  {
   "cell_type": "markdown",
   "metadata": {
    "nteract": {
     "transient": {
      "deleting": false
     }
    }
   },
   "source": [
    "Get some basis data"
   ]
  },
  {
   "cell_type": "code",
   "execution_count": 2,
   "metadata": {
    "collapsed": false,
    "execution": {
     "iopub.execute_input": "2020-03-30T15:22:40.946Z",
     "iopub.status.busy": "2020-03-30T15:22:40.940Z",
     "iopub.status.idle": "2020-03-30T15:22:40.983Z",
     "shell.execute_reply": "2020-03-30T15:22:40.988Z"
    },
    "jupyter": {
     "outputs_hidden": false,
     "source_hidden": false
    },
    "nteract": {
     "transient": {
      "deleting": false
     }
    }
   },
   "outputs": [
    {
     "name": "stdout",
     "output_type": "stream",
     "text": [
      "shortening from 35 to 5\n"
     ]
    }
   ],
   "source": [
    "dataDict = loadData.load_data(\"spst_all\")\n",
    "dataDict = loadData.shorten_set(dataDict, 5)\n",
    "x_dat, y_dat, dur_dat, im_dat, densities_dat, d_range = loadData.dataDict2vars(dataDict)"
   ]
  },
  {
   "cell_type": "markdown",
   "metadata": {},
   "source": [
    "## Scenewalk Model\n",
    "Here you define the setup of the model."
   ]
  },
  {
   "cell_type": "code",
   "execution_count": 3,
   "metadata": {
    "collapsed": false,
    "execution": {
     "iopub.execute_input": "2020-03-30T15:22:42.003Z",
     "iopub.status.busy": "2020-03-30T15:22:41.998Z",
     "iopub.status.idle": "2020-03-30T15:22:42.014Z",
     "shell.execute_reply": "2020-03-30T15:22:42.020Z"
    },
    "inputHidden": false,
    "outputHidden": false
   },
   "outputs": [
    {
     "data": {
      "text/plain": [
       "'I am a subtractive scenewalk model, initialized with zero activation, in 2 exponents mode, with om_i as a fraction, with logged z'"
      ]
     },
     "execution_count": 3,
     "metadata": {},
     "output_type": "execute_result"
    }
   ],
   "source": [
    "sw = scenewalk_model(\"subtractive\", \"zero\", \"off\", \"off\", \"off\", {'x': d_range[0], 'y': d_range[1]}, {\"logged_z\":True, \"coupled_oms\":True})\n",
    "\n",
    "sw.whoami()"
   ]
  },
  {
   "cell_type": "markdown",
   "metadata": {},
   "source": [
    "It will tell you which parameters it needs and the order if you're passing them in as a list:"
   ]
  },
  {
   "cell_type": "code",
   "execution_count": 4,
   "metadata": {
    "collapsed": false,
    "execution": {
     "iopub.execute_input": "2020-03-30T15:22:42.855Z",
     "iopub.status.busy": "2020-03-30T15:22:42.850Z",
     "iopub.status.idle": "2020-03-30T15:22:42.864Z",
     "shell.execute_reply": "2020-03-30T15:22:42.868Z"
    },
    "inputHidden": false,
    "outputHidden": false
   },
   "outputs": [
    {
     "data": {
      "text/plain": [
       "['omegaAttention',\n",
       " 'omfrac',\n",
       " 'sigmaAttention',\n",
       " 'sigmaInhib',\n",
       " 'gamma',\n",
       " 'lamb',\n",
       " 'inhibStrength',\n",
       " 'zeta']"
      ]
     },
     "execution_count": 4,
     "metadata": {},
     "output_type": "execute_result"
    }
   ],
   "source": [
    "sw.get_param_list_order()"
   ]
  },
  {
   "cell_type": "code",
   "execution_count": 5,
   "metadata": {
    "collapsed": false,
    "execution": {
     "iopub.execute_input": "2020-03-30T15:22:43.238Z",
     "iopub.status.busy": "2020-03-30T15:22:43.233Z",
     "iopub.status.idle": "2020-03-30T15:22:43.244Z",
     "shell.execute_reply": "2020-03-30T15:22:43.250Z"
    },
    "inputHidden": false,
    "outputHidden": false
   },
   "outputs": [],
   "source": [
    "param_dict = OrderedDict({\n",
    "    \"omegaAttention\": 18.5,\n",
    "    \"omfrac\": 10,\n",
    "    \"sigmaAttention\": 6,\n",
    "    \"sigmaInhib\": 12,\n",
    "    \"gamma\" : 8,\n",
    "    \"lamb\" : 0.6,\n",
    "    \"inhibStrength\" :0.7,\n",
    "    \"zeta\" : -2,\n",
    "})"
   ]
  },
  {
   "cell_type": "code",
   "execution_count": 6,
   "metadata": {
    "collapsed": false,
    "execution": {
     "iopub.execute_input": "2020-03-30T15:22:43.654Z",
     "iopub.status.busy": "2020-03-30T15:22:43.649Z",
     "iopub.status.idle": "2020-03-30T15:22:43.665Z",
     "shell.execute_reply": "2020-03-30T15:22:43.670Z"
    },
    "inputHidden": false,
    "outputHidden": false
   },
   "outputs": [
    {
     "name": "stdout",
     "output_type": "stream",
     "text": [
      "have we provided all relevant parameters?: True\n",
      "are the parameters within the defined bounds?: True\n"
     ]
    }
   ],
   "source": [
    "sw.update_params(param_dict)\n",
    "#print(sw.get_params())\n",
    "print(\"have we provided all relevant parameters?:\", sw.check_params_for_config())\n",
    "print(\"are the parameters within the defined bounds?:\", sw.check_params_in_bounds())\n"
   ]
  },
  {
   "cell_type": "markdown",
   "metadata": {
    "nteract": {
     "transient": {
      "deleting": false
     }
    }
   },
   "source": [
    "## Now Simulate"
   ]
  },
  {
   "cell_type": "code",
   "execution_count": 7,
   "metadata": {
    "collapsed": false,
    "execution": {
     "iopub.execute_input": "2020-03-30T15:22:44.788Z",
     "iopub.status.busy": "2020-03-30T15:22:44.782Z",
     "iopub.status.idle": "2020-03-30T15:23:02.642Z",
     "shell.execute_reply": "2020-03-30T15:23:02.651Z"
    },
    "jupyter": {
     "outputs_hidden": false,
     "source_hidden": false
    },
    "nteract": {
     "transient": {
      "deleting": false
     }
    }
   },
   "outputs": [
    {
     "name": "stdout",
     "output_type": "stream",
     "text": [
      "sub 0\n",
      "sub 1\n",
      "sub 2\n",
      "sub 3\n",
      "sub 4\n"
     ]
    }
   ],
   "source": [
    "sim_id = simulate_dataset.simulate(dur_dat, im_dat, densities_dat, sw, params=None, start_loc=\"center\", x_path=None, y_path=None, resample_durs=False)"
   ]
  },
  {
   "cell_type": "markdown",
   "metadata": {
    "nteract": {
     "transient": {
      "deleting": false
     }
    }
   },
   "source": [
    "## Load simulated data"
   ]
  },
  {
   "cell_type": "code",
   "execution_count": 10,
   "metadata": {
    "collapsed": false,
    "execution": {
     "iopub.execute_input": "2020-03-30T15:23:31.236Z",
     "iopub.status.busy": "2020-03-30T15:23:31.232Z",
     "iopub.status.idle": "2020-03-30T15:23:31.242Z",
     "shell.execute_reply": "2020-03-30T15:23:31.245Z"
    },
    "jupyter": {
     "outputs_hidden": false,
     "source_hidden": false
    },
    "nteract": {
     "transient": {
      "deleting": false
     }
    }
   },
   "outputs": [],
   "source": [
    "sim_dat_dict = loadData.load_sim_data(os.path.abspath(sim_id))"
   ]
  }
 ],
 "metadata": {
  "kernel_info": {
   "name": "swtemp"
  },
  "kernelspec": {
   "display_name": "swtemp",
   "language": "python",
   "name": "swtemp"
  },
  "language_info": {
   "codemirror_mode": {
    "name": "ipython",
    "version": 3
   },
   "file_extension": ".py",
   "mimetype": "text/x-python",
   "name": "python",
   "nbconvert_exporter": "python",
   "pygments_lexer": "ipython3",
   "version": "3.8.0"
  },
  "nteract": {
   "version": "0.22.0"
  }
 },
 "nbformat": 4,
 "nbformat_minor": 4
}
