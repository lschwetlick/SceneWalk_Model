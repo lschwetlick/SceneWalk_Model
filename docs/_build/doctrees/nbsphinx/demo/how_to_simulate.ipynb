{
 "cells": [
  {
   "cell_type": "markdown",
   "metadata": {},
   "source": [
    "# Simulate Data from the SceneWalk Model"
   ]
  },
  {
   "cell_type": "code",
   "execution_count": 1,
   "metadata": {
    "collapsed": false,
    "execution": {
     "iopub.execute_input": "2020-04-01T00:00:01.880Z",
     "iopub.status.busy": "2020-04-01T00:00:01.876Z",
     "iopub.status.idle": "2020-04-01T00:00:02.857Z",
     "shell.execute_reply": "2020-04-01T00:00:02.868Z"
    },
    "inputHidden": false,
    "outputHidden": false
   },
   "outputs": [],
   "source": [
    "import os\n",
    "import shutil\n",
    "import sys\n",
    "from collections import OrderedDict\n",
    "import numpy as np\n",
    "from matplotlib import pyplot as plt\n",
    "from scipy.stats import norm as normal, truncnorm as truncated_normal\n",
    "import seaborn as sns\n",
    "from scenewalk.scenewalk_model_object import scenewalk as scenewalk_model\n",
    "from scenewalk.utils import loadData\n",
    "from scenewalk.simulation import simulate_dataset"
   ]
  },
  {
   "cell_type": "markdown",
   "metadata": {
    "nteract": {
     "transient": {
      "deleting": false
     }
    }
   },
   "source": [
    "Get some basis data"
   ]
  },
  {
   "cell_type": "code",
   "execution_count": 2,
   "metadata": {
    "collapsed": false,
    "execution": {
     "iopub.execute_input": "2020-04-01T00:00:02.865Z",
     "iopub.status.busy": "2020-04-01T00:00:02.863Z",
     "iopub.status.idle": "2020-04-01T00:00:02.891Z",
     "shell.execute_reply": "2020-04-01T00:00:02.998Z"
    },
    "jupyter": {
     "outputs_hidden": false,
     "source_hidden": false
    },
    "nteract": {
     "transient": {
      "deleting": false
     }
    }
   },
   "outputs": [
    {
     "name": "stdout",
     "output_type": "stream",
     "text": [
      "shortening from 35 to 2\n"
     ]
    }
   ],
   "source": [
    "dataDict = loadData.load_data(\"spst_all\")\n",
    "dataDict = loadData.shorten_set(dataDict, 2)\n",
    "x_dat, y_dat, dur_dat, im_dat, densities_dat, d_range = loadData.dataDict2vars(dataDict)"
   ]
  },
  {
   "cell_type": "markdown",
   "metadata": {},
   "source": [
    "## Scenewalk Model\n",
    "Here you define the setup of the model."
   ]
  },
  {
   "cell_type": "code",
   "execution_count": 3,
   "metadata": {
    "collapsed": false,
    "execution": {
     "iopub.execute_input": "2020-04-01T00:00:02.912Z",
     "iopub.status.busy": "2020-04-01T00:00:02.899Z",
     "iopub.status.idle": "2020-04-01T00:00:02.921Z",
     "shell.execute_reply": "2020-04-01T00:00:03.001Z"
    },
    "inputHidden": false,
    "outputHidden": false
   },
   "outputs": [
    {
     "data": {
      "text/plain": [
       "'I am a subtractive scenewalk model, initialized with zero activation, in 2 exponents mode, with om_i as a fraction, with logged z'"
      ]
     },
     "execution_count": 3,
     "metadata": {},
     "output_type": "execute_result"
    }
   ],
   "source": [
    "sw = scenewalk_model(\"subtractive\", \"zero\", \"off\", \"off\", \"off\", {'x': d_range[0], 'y': d_range[1]}, {\"logged_z\":True, \"coupled_oms\":True})\n",
    "\n",
    "sw.whoami()"
   ]
  },
  {
   "cell_type": "markdown",
   "metadata": {},
   "source": [
    "It will tell you which parameters it needs and the order if you're passing them in as a list:"
   ]
  },
  {
   "cell_type": "code",
   "execution_count": 4,
   "metadata": {
    "collapsed": false,
    "execution": {
     "iopub.execute_input": "2020-04-01T00:00:02.930Z",
     "iopub.status.busy": "2020-04-01T00:00:02.927Z",
     "iopub.status.idle": "2020-04-01T00:00:02.936Z",
     "shell.execute_reply": "2020-04-01T00:00:03.005Z"
    },
    "inputHidden": false,
    "outputHidden": false
   },
   "outputs": [
    {
     "data": {
      "text/plain": [
       "['omegaAttention',\n",
       " 'omfrac',\n",
       " 'sigmaAttention',\n",
       " 'sigmaInhib',\n",
       " 'gamma',\n",
       " 'lamb',\n",
       " 'inhibStrength',\n",
       " 'zeta']"
      ]
     },
     "execution_count": 4,
     "metadata": {},
     "output_type": "execute_result"
    }
   ],
   "source": [
    "sw.get_param_list_order()"
   ]
  },
  {
   "cell_type": "code",
   "execution_count": 5,
   "metadata": {
    "collapsed": false,
    "execution": {
     "iopub.execute_input": "2020-04-01T00:00:02.946Z",
     "iopub.status.busy": "2020-04-01T00:00:02.942Z",
     "iopub.status.idle": "2020-04-01T00:00:02.950Z",
     "shell.execute_reply": "2020-04-01T00:00:03.008Z"
    },
    "inputHidden": false,
    "outputHidden": false
   },
   "outputs": [],
   "source": [
    "param_dict = OrderedDict({\n",
    "    \"omegaAttention\": 18.5,\n",
    "    \"omfrac\": 10,\n",
    "    \"sigmaAttention\": 6,\n",
    "    \"sigmaInhib\": 12,\n",
    "    \"gamma\" : 8,\n",
    "    \"lamb\" : 0.6,\n",
    "    \"inhibStrength\" :0.7,\n",
    "    \"zeta\" : -2,\n",
    "})"
   ]
  },
  {
   "cell_type": "code",
   "execution_count": 6,
   "metadata": {
    "collapsed": false,
    "execution": {
     "iopub.execute_input": "2020-04-01T00:00:02.959Z",
     "iopub.status.busy": "2020-04-01T00:00:02.956Z",
     "iopub.status.idle": "2020-04-01T00:00:02.965Z",
     "shell.execute_reply": "2020-04-01T00:00:03.010Z"
    },
    "inputHidden": false,
    "outputHidden": false
   },
   "outputs": [
    {
     "name": "stdout",
     "output_type": "stream",
     "text": [
      "have we provided all relevant parameters?: True\n",
      "are the parameters within the defined bounds?: True\n"
     ]
    }
   ],
   "source": [
    "sw.update_params(param_dict)\n",
    "#print(sw.get_params())\n",
    "print(\"have we provided all relevant parameters?:\", sw.check_params_for_config())\n",
    "print(\"are the parameters within the defined bounds?:\", sw.check_params_in_bounds())\n"
   ]
  },
  {
   "cell_type": "markdown",
   "metadata": {
    "nteract": {
     "transient": {
      "deleting": false
     }
    }
   },
   "source": [
    "## Now Simulate"
   ]
  },
  {
   "cell_type": "code",
   "execution_count": 7,
   "metadata": {
    "collapsed": false,
    "execution": {
     "iopub.execute_input": "2020-04-01T00:00:02.972Z",
     "iopub.status.busy": "2020-04-01T00:00:02.969Z",
     "iopub.status.idle": "2020-04-01T00:00:09.654Z",
     "shell.execute_reply": "2020-04-01T00:00:09.706Z"
    },
    "jupyter": {
     "outputs_hidden": false,
     "source_hidden": false
    },
    "nteract": {
     "transient": {
      "deleting": false
     }
    }
   },
   "outputs": [
    {
     "name": "stdout",
     "output_type": "stream",
     "text": [
      "sub 0\n",
      "sub 1\n"
     ]
    }
   ],
   "source": [
    "sim_id = simulate_dataset.simulate(dur_dat, im_dat, densities_dat, sw, params=None, start_loc=\"center\", x_path=None, y_path=None, resample_durs=False, verbose = True)"
   ]
  },
  {
   "cell_type": "markdown",
   "metadata": {
    "nteract": {
     "transient": {
      "deleting": false
     }
    }
   },
   "source": [
    "## Load simulated data"
   ]
  },
  {
   "cell_type": "code",
   "execution_count": 8,
   "metadata": {
    "collapsed": false,
    "execution": {
     "iopub.execute_input": "2020-04-01T00:00:09.664Z",
     "iopub.status.busy": "2020-04-01T00:00:09.660Z",
     "iopub.status.idle": "2020-04-01T00:00:09.669Z",
     "shell.execute_reply": "2020-04-01T00:00:09.711Z"
    },
    "jupyter": {
     "outputs_hidden": false,
     "source_hidden": false
    },
    "nteract": {
     "transient": {
      "deleting": false
     }
    }
   },
   "outputs": [],
   "source": [
    "sim_dat_dict = loadData.load_sim_data(os.path.abspath(sim_id))"
   ]
  },
  {
   "cell_type": "markdown",
   "metadata": {
    "nteract": {
     "transient": {
      "deleting": false
     }
    }
   },
   "source": [
    "## More settings for simulations"
   ]
  },
  {
   "cell_type": "markdown",
   "metadata": {
    "nteract": {
     "transient": {
      "deleting": false
     }
    }
   },
   "source": [
    "Advanced settings include\n",
    "instead of params=None you can give it a dictionary of all parameters the model needs by subject. i.e."
   ]
  },
  {
   "cell_type": "code",
   "execution_count": 9,
   "metadata": {
    "collapsed": false,
    "execution": {
     "iopub.execute_input": "2020-04-01T00:00:09.679Z",
     "iopub.status.busy": "2020-04-01T00:00:09.675Z",
     "iopub.status.idle": "2020-04-01T00:00:09.684Z",
     "shell.execute_reply": "2020-04-01T00:00:09.715Z"
    },
    "jupyter": {
     "outputs_hidden": false,
     "source_hidden": false
    },
    "nteract": {
     "transient": {
      "deleting": false
     }
    }
   },
   "outputs": [],
   "source": [
    "param_subj_dict = {\n",
    "    0 : param_dict,\n",
    "    1 : param_dict,\n",
    "    2 : param_dict,\n",
    "    3 : param_dict,\n",
    "    4 : param_dict\n",
    "}"
   ]
  },
  {
   "cell_type": "code",
   "execution_count": 10,
   "metadata": {
    "collapsed": false,
    "execution": {
     "iopub.execute_input": "2020-04-01T00:00:09.694Z",
     "iopub.status.busy": "2020-04-01T00:00:09.689Z",
     "iopub.status.idle": "2020-04-01T00:00:16.248Z",
     "shell.execute_reply": "2020-04-01T00:00:16.268Z"
    },
    "jupyter": {
     "outputs_hidden": false,
     "source_hidden": false
    },
    "nteract": {
     "transient": {
      "deleting": false
     }
    }
   },
   "outputs": [
    {
     "name": "stdout",
     "output_type": "stream",
     "text": [
      "sub 0\n",
      "sub 1\n"
     ]
    }
   ],
   "source": [
    "sim_id = simulate_dataset.simulate(dur_dat, im_dat, densities_dat, sw, params=param_subj_dict, start_loc=\"center\", x_path=None, y_path=None, resample_durs=False, verbose=True)"
   ]
  },
  {
   "cell_type": "code",
   "execution_count": 11,
   "metadata": {
    "collapsed": false,
    "execution": {
     "iopub.execute_input": "2020-04-01T00:00:16.257Z",
     "iopub.status.busy": "2020-04-01T00:00:16.254Z",
     "iopub.status.idle": "2020-04-01T00:00:16.265Z",
     "shell.execute_reply": "2020-04-01T00:00:16.270Z"
    },
    "jupyter": {
     "outputs_hidden": false,
     "source_hidden": false
    },
    "nteract": {
     "transient": {
      "deleting": false
     }
    }
   },
   "outputs": [
    {
     "data": {
      "text/plain": [
       "OrderedDict([('omegaAttention', 18.5),\n",
       "             ('omegaInhib', 1.85),\n",
       "             ('sigmaAttention', 6),\n",
       "             ('sigmaInhib', 12),\n",
       "             ('gamma', 8),\n",
       "             ('lamb', 0.6),\n",
       "             ('inhibStrength', 0.7),\n",
       "             ('zeta', 0.01)])"
      ]
     },
     "execution_count": 11,
     "metadata": {},
     "output_type": "execute_result"
    }
   ],
   "source": [
    "sw.get_params()"
   ]
  }
 ],
 "metadata": {
  "kernel_info": {
   "name": "swtemp"
  },
  "kernelspec": {
   "display_name": "swtemp",
   "language": "python",
   "name": "swtemp"
  },
  "language_info": {
   "codemirror_mode": {
    "name": "ipython",
    "version": 3
   },
   "file_extension": ".py",
   "mimetype": "text/x-python",
   "name": "python",
   "nbconvert_exporter": "python",
   "pygments_lexer": "ipython3",
   "version": "3.8.0"
  },
  "nteract": {
   "version": "0.22.0"
  }
 },
 "nbformat": 4,
 "nbformat_minor": 4
}
