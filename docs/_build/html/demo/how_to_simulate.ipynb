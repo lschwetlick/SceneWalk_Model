{
 "cells": [
  {
   "cell_type": "markdown",
   "metadata": {},
   "source": [
    "# Simulate Data from the SceneWalk Model"
   ]
  },
  {
   "cell_type": "code",
   "execution_count": 1,
   "metadata": {
    "collapsed": false,
    "execution": {
     "iopub.execute_input": "2020-03-31T11:41:46.321Z",
     "iopub.status.busy": "2020-03-31T11:41:46.318Z",
     "iopub.status.idle": "2020-03-31T11:41:47.683Z",
     "shell.execute_reply": "2020-03-31T11:41:47.700Z"
    },
    "inputHidden": false,
    "outputHidden": false
   },
   "outputs": [],
   "source": [
    "import os\n",
    "import shutil\n",
    "import sys\n",
    "from collections import OrderedDict\n",
    "import numpy as np\n",
    "from matplotlib import pyplot as plt\n",
    "from scipy.stats import norm as normal, truncnorm as truncated_normal\n",
    "import seaborn as sns\n",
    "from scenewalk.scenewalk_model_object import scenewalk as scenewalk_model\n",
    "from scenewalk.utils import loadData\n",
    "from scenewalk.simulation import simulate_dataset"
   ]
  },
  {
   "cell_type": "markdown",
   "metadata": {
    "nteract": {
     "transient": {
      "deleting": false
     }
    }
   },
   "source": [
    "Get some basis data"
   ]
  },
  {
   "cell_type": "code",
   "execution_count": 2,
   "metadata": {
    "collapsed": false,
    "execution": {
     "iopub.execute_input": "2020-03-31T11:41:47.692Z",
     "iopub.status.busy": "2020-03-31T11:41:47.689Z",
     "iopub.status.idle": "2020-03-31T11:41:47.719Z",
     "shell.execute_reply": "2020-03-31T11:41:47.728Z"
    },
    "jupyter": {
     "outputs_hidden": false,
     "source_hidden": false
    },
    "nteract": {
     "transient": {
      "deleting": false
     }
    }
   },
   "outputs": [
    {
     "name": "stdout",
     "output_type": "stream",
     "text": [
      "shortening from 35 to 5\n"
     ]
    }
   ],
   "source": [
    "dataDict = loadData.load_data(\"spst_all\")\n",
    "dataDict = loadData.shorten_set(dataDict, 5)\n",
    "x_dat, y_dat, dur_dat, im_dat, densities_dat, d_range = loadData.dataDict2vars(dataDict)"
   ]
  },
  {
   "cell_type": "markdown",
   "metadata": {},
   "source": [
    "## Scenewalk Model\n",
    "Here you define the setup of the model."
   ]
  },
  {
   "cell_type": "code",
   "execution_count": 3,
   "metadata": {
    "collapsed": false,
    "execution": {
     "iopub.execute_input": "2020-03-31T11:41:47.757Z",
     "iopub.status.busy": "2020-03-31T11:41:47.754Z",
     "iopub.status.idle": "2020-03-31T11:41:47.765Z",
     "shell.execute_reply": "2020-03-31T11:41:47.768Z"
    },
    "inputHidden": false,
    "outputHidden": false
   },
   "outputs": [
    {
     "data": {
      "text/plain": [
       "'I am a subtractive scenewalk model, initialized with zero activation, in 2 exponents mode, with om_i as a fraction, with logged z'"
      ]
     },
     "execution_count": 3,
     "metadata": {},
     "output_type": "execute_result"
    }
   ],
   "source": [
    "sw = scenewalk_model(\"subtractive\", \"zero\", \"off\", \"off\", \"off\", {'x': d_range[0], 'y': d_range[1]}, {\"logged_z\":True, \"coupled_oms\":True})\n",
    "\n",
    "sw.whoami()"
   ]
  },
  {
   "cell_type": "markdown",
   "metadata": {},
   "source": [
    "It will tell you which parameters it needs and the order if you're passing them in as a list:"
   ]
  },
  {
   "cell_type": "code",
   "execution_count": 4,
   "metadata": {
    "collapsed": false,
    "execution": {
     "iopub.execute_input": "2020-03-31T11:41:51.847Z",
     "iopub.status.busy": "2020-03-31T11:41:51.841Z",
     "iopub.status.idle": "2020-03-31T11:41:51.857Z",
     "shell.execute_reply": "2020-03-31T11:41:51.862Z"
    },
    "inputHidden": false,
    "outputHidden": false
   },
   "outputs": [
    {
     "data": {
      "text/plain": [
       "['omegaAttention',\n",
       " 'omfrac',\n",
       " 'sigmaAttention',\n",
       " 'sigmaInhib',\n",
       " 'gamma',\n",
       " 'lamb',\n",
       " 'inhibStrength',\n",
       " 'zeta']"
      ]
     },
     "execution_count": 4,
     "metadata": {},
     "output_type": "execute_result"
    }
   ],
   "source": [
    "sw.get_param_list_order()"
   ]
  },
  {
   "cell_type": "code",
   "execution_count": 6,
   "metadata": {
    "collapsed": false,
    "execution": {
     "iopub.execute_input": "2020-03-31T11:42:03.916Z",
     "iopub.status.busy": "2020-03-31T11:42:03.909Z",
     "iopub.status.idle": "2020-03-31T11:42:03.924Z",
     "shell.execute_reply": "2020-03-31T11:42:03.928Z"
    },
    "inputHidden": false,
    "outputHidden": false
   },
   "outputs": [],
   "source": [
    "param_dict = OrderedDict({\n",
    "    \"omegaAttention\": 18.5,\n",
    "    \"omfrac\": 10,\n",
    "    \"sigmaAttention\": 6,\n",
    "    \"sigmaInhib\": 12,\n",
    "    \"gamma\" : 8,\n",
    "    \"lamb\" : 0.6,\n",
    "    \"inhibStrength\" :0.7,\n",
    "    \"zeta\" : -2,\n",
    "})"
   ]
  },
  {
   "cell_type": "code",
   "execution_count": 7,
   "metadata": {
    "collapsed": false,
    "execution": {
     "iopub.execute_input": "2020-03-31T11:42:04.456Z",
     "iopub.status.busy": "2020-03-31T11:42:04.452Z",
     "iopub.status.idle": "2020-03-31T11:42:04.468Z",
     "shell.execute_reply": "2020-03-31T11:42:04.472Z"
    },
    "inputHidden": false,
    "outputHidden": false
   },
   "outputs": [
    {
     "name": "stdout",
     "output_type": "stream",
     "text": [
      "have we provided all relevant parameters?: True\n",
      "are the parameters within the defined bounds?: True\n"
     ]
    }
   ],
   "source": [
    "sw.update_params(param_dict)\n",
    "#print(sw.get_params())\n",
    "print(\"have we provided all relevant parameters?:\", sw.check_params_for_config())\n",
    "print(\"are the parameters within the defined bounds?:\", sw.check_params_in_bounds())\n"
   ]
  },
  {
   "cell_type": "markdown",
   "metadata": {
    "nteract": {
     "transient": {
      "deleting": false
     }
    }
   },
   "source": [
    "## Now Simulate"
   ]
  },
  {
   "cell_type": "code",
   "execution_count": 7,
   "metadata": {
    "collapsed": false,
    "execution": {
     "iopub.execute_input": "2020-03-30T15:22:44.788Z",
     "iopub.status.busy": "2020-03-30T15:22:44.782Z",
     "iopub.status.idle": "2020-03-30T15:23:02.642Z",
     "shell.execute_reply": "2020-03-30T15:23:02.651Z"
    },
    "jupyter": {
     "outputs_hidden": false,
     "source_hidden": false
    },
    "nteract": {
     "transient": {
      "deleting": false
     }
    }
   },
   "outputs": [
    {
     "name": "stdout",
     "output_type": "stream",
     "text": [
      "sub 0\n",
      "sub 1\n",
      "sub 2\n",
      "sub 3\n",
      "sub 4\n"
     ]
    }
   ],
   "source": [
    "sim_id = simulate_dataset.simulate(dur_dat, im_dat, densities_dat, sw, params=None, start_loc=\"center\", x_path=None, y_path=None, resample_durs=False)"
   ]
  },
  {
   "cell_type": "markdown",
   "metadata": {
    "nteract": {
     "transient": {
      "deleting": false
     }
    }
   },
   "source": [
    "## Load simulated data"
   ]
  },
  {
   "cell_type": "code",
   "execution_count": 8,
   "metadata": {
    "collapsed": false,
    "execution": {
     "iopub.execute_input": "2020-03-31T11:42:08.584Z",
     "iopub.status.busy": "2020-03-31T11:42:08.580Z",
     "iopub.status.idle": "2020-03-31T11:42:08.593Z",
     "shell.execute_reply": "2020-03-31T11:42:08.602Z"
    },
    "jupyter": {
     "outputs_hidden": false,
     "source_hidden": false
    },
    "nteract": {
     "transient": {
      "deleting": false
     }
    }
   },
   "outputs": [
    {
     "ename": "NameError",
     "evalue": "name 'sim_id' is not defined",
     "output_type": "error",
     "traceback": [
      "\u001b[0;31m---------------------------------------------------------------------------\u001b[0m",
      "\u001b[0;31mNameError\u001b[0m                                 Traceback (most recent call last)",
      "\u001b[0;32m<ipython-input-8-180fc77ac953>\u001b[0m in \u001b[0;36m<module>\u001b[0;34m\u001b[0m\n\u001b[0;32m----> 1\u001b[0;31m \u001b[0msim_dat_dict\u001b[0m \u001b[0;34m=\u001b[0m \u001b[0mloadData\u001b[0m\u001b[0;34m.\u001b[0m\u001b[0mload_sim_data\u001b[0m\u001b[0;34m(\u001b[0m\u001b[0mos\u001b[0m\u001b[0;34m.\u001b[0m\u001b[0mpath\u001b[0m\u001b[0;34m.\u001b[0m\u001b[0mabspath\u001b[0m\u001b[0;34m(\u001b[0m\u001b[0msim_id\u001b[0m\u001b[0;34m)\u001b[0m\u001b[0;34m)\u001b[0m\u001b[0;34m\u001b[0m\u001b[0;34m\u001b[0m\u001b[0m\n\u001b[0m",
      "\u001b[0;31mNameError\u001b[0m: name 'sim_id' is not defined"
     ]
    }
   ],
   "source": [
    "sim_dat_dict = loadData.load_sim_data(os.path.abspath(sim_id))"
   ]
  },
  {
   "cell_type": "markdown",
   "metadata": {
    "nteract": {
     "transient": {
      "deleting": false
     }
    }
   },
   "source": [
    "## More settings for simulations"
   ]
  },
  {
   "cell_type": "markdown",
   "metadata": {
    "nteract": {
     "transient": {
      "deleting": false
     }
    }
   },
   "source": [
    "Advanced settings include\n",
    "instead of params=None you can give it a dictionary of all parameters the model needs by subject. i.e."
   ]
  },
  {
   "cell_type": "code",
   "execution_count": 13,
   "metadata": {
    "collapsed": false,
    "execution": {
     "iopub.execute_input": "2020-03-31T11:43:39.539Z",
     "iopub.status.busy": "2020-03-31T11:43:39.535Z",
     "iopub.status.idle": "2020-03-31T11:43:39.546Z",
     "shell.execute_reply": "2020-03-31T11:43:39.552Z"
    },
    "jupyter": {
     "outputs_hidden": false,
     "source_hidden": false
    },
    "nteract": {
     "transient": {
      "deleting": false
     }
    }
   },
   "outputs": [],
   "source": [
    "param_subj_dict = {\n",
    "    0 : param_dict,\n",
    "    1 : param_dict,\n",
    "    2 : param_dict,\n",
    "    3 : param_dict,\n",
    "    4 : param_dict\n",
    "}"
   ]
  },
  {
   "cell_type": "code",
   "execution_count": 14,
   "metadata": {
    "collapsed": false,
    "execution": {
     "iopub.execute_input": "2020-03-31T11:43:41.162Z",
     "iopub.status.busy": "2020-03-31T11:43:41.159Z",
     "iopub.status.idle": "2020-03-31T11:43:59.453Z",
     "shell.execute_reply": "2020-03-31T11:43:59.455Z"
    },
    "jupyter": {
     "outputs_hidden": false,
     "source_hidden": false
    },
    "nteract": {
     "transient": {
      "deleting": false
     }
    }
   },
   "outputs": [
    {
     "name": "stdout",
     "output_type": "stream",
     "text": [
      "sub 0\n",
      "sub 1\n",
      "sub 2\n",
      "sub 3\n",
      "sub 4\n"
     ]
    }
   ],
   "source": [
    "sim_id = simulate_dataset.simulate(dur_dat, im_dat, densities_dat, sw, params=param_subj_dict, start_loc=\"center\", x_path=None, y_path=None, resample_durs=False, verbose=True)"
   ]
  },
  {
   "cell_type": "code",
   "execution_count": 16,
   "metadata": {
    "collapsed": false,
    "execution": {
     "iopub.execute_input": "2020-03-31T11:44:23.529Z",
     "iopub.status.busy": "2020-03-31T11:44:23.525Z",
     "iopub.status.idle": "2020-03-31T11:44:23.536Z",
     "shell.execute_reply": "2020-03-31T11:44:23.541Z"
    },
    "jupyter": {
     "outputs_hidden": false,
     "source_hidden": false
    },
    "nteract": {
     "transient": {
      "deleting": false
     }
    }
   },
   "outputs": [
    {
     "data": {
      "text/plain": [
       "OrderedDict([('omegaAttention', 18.5),\n",
       "             ('omegaInhib', 1.85),\n",
       "             ('sigmaAttention', 6),\n",
       "             ('sigmaInhib', 12),\n",
       "             ('gamma', 8),\n",
       "             ('lamb', 0.6),\n",
       "             ('inhibStrength', 0.7),\n",
       "             ('zeta', 0.01)])"
      ]
     },
     "execution_count": 16,
     "metadata": {},
     "output_type": "execute_result"
    }
   ],
   "source": [
    "sw.get_params()"
   ]
  },
  {
   "cell_type": "code",
   "execution_count": null,
   "metadata": {
    "collapsed": false,
    "jupyter": {
     "outputs_hidden": false,
     "source_hidden": false
    },
    "nteract": {
     "transient": {
      "deleting": false
     }
    }
   },
   "outputs": [],
   "source": []
  }
 ],
 "metadata": {
  "kernel_info": {
   "name": "swtemp"
  },
  "kernelspec": {
   "display_name": "swtemp",
   "language": "python",
   "name": "swtemp"
  },
  "language_info": {
   "codemirror_mode": {
    "name": "ipython",
    "version": 3
   },
   "file_extension": ".py",
   "mimetype": "text/x-python",
   "name": "python",
   "nbconvert_exporter": "python",
   "pygments_lexer": "ipython3",
   "version": "3.8.0"
  },
  "nteract": {
   "version": "0.22.0"
  }
 },
 "nbformat": 4,
 "nbformat_minor": 4
}
