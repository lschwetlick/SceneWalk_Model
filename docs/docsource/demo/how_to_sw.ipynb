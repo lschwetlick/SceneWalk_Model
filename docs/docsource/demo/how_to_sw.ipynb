{
  "cells": [
    {
      "cell_type": "markdown",
      "source": [
        "# Using the SceneWalk Model"
      ],
      "metadata": {}
    },
    {
      "cell_type": "code",
      "source": [
        "import os\n",
        "import shutil\n",
        "import sys\n",
        "from collections import OrderedDict\n",
        "import numpy as np\n",
        "from matplotlib import pyplot as plt\n",
        "from scipy.stats import norm as normal, truncnorm as truncated_normal\n",
        "import seaborn as sns"
      ],
      "outputs": [],
      "execution_count": 1,
      "metadata": {
        "collapsed": false,
        "outputHidden": false,
        "inputHidden": false,
        "execution": {
          "iopub.status.busy": "2020-03-28T10:08:44.688Z",
          "iopub.execute_input": "2020-03-28T10:08:44.692Z",
          "iopub.status.idle": "2020-03-28T10:08:45.692Z",
          "shell.execute_reply": "2020-03-28T10:08:45.707Z"
        }
      }
    },
    {
      "cell_type": "markdown",
      "source": [
        "First of all- get data. This will depend on your config file. Mine has the following options."
      ],
      "metadata": {
        "nteract": {
          "transient": {
            "deleting": false
          }
        }
      }
    },
    {
      "cell_type": "code",
      "source": [
        "from scenewalk.utils import loadData\n",
        "loadData.get_set_names()"
      ],
      "outputs": [
        {
          "output_type": "stream",
          "name": "stdout",
          "text": [
            "spst_all\n",
            "spst_training\n",
            "spst_test\n",
            "corpus_test\n",
            "corpus_training\n"
          ]
        }
      ],
      "execution_count": 2,
      "metadata": {
        "collapsed": false,
        "outputHidden": false,
        "inputHidden": false,
        "execution": {
          "iopub.status.busy": "2020-03-28T10:08:45.698Z",
          "iopub.execute_input": "2020-03-28T10:08:45.701Z",
          "iopub.status.idle": "2020-03-28T10:08:45.718Z",
          "shell.execute_reply": "2020-03-28T10:08:45.741Z"
        }
      }
    },
    {
      "cell_type": "code",
      "source": [
        "dataDict = loadData.load_data(\"spst_all\")\n",
        "x_dat, y_dat, dur_dat, im_dat, densities_dat, d_range = loadData.dataDict2vars(dataDict)"
      ],
      "outputs": [],
      "execution_count": 3,
      "metadata": {
        "collapsed": false,
        "jupyter": {
          "source_hidden": false,
          "outputs_hidden": false
        },
        "nteract": {
          "transient": {
            "deleting": false
          }
        },
        "execution": {
          "iopub.status.busy": "2020-03-28T10:08:45.725Z",
          "iopub.execute_input": "2020-03-28T10:08:45.729Z",
          "iopub.status.idle": "2020-03-28T10:08:45.751Z",
          "shell.execute_reply": "2020-03-28T10:08:45.744Z"
        }
      }
    },
    {
      "cell_type": "markdown",
      "source": [
        "This data is in the format: subj[Trials[Fixations[]]]"
      ],
      "metadata": {}
    },
    {
      "cell_type": "markdown",
      "source": [
        "## Scenewalk Model\n",
        "Here you define the setup of the model.The model object can "
      ],
      "metadata": {}
    },
    {
      "cell_type": "code",
      "source": [
        "from scenewalk.scenewalk_model_object import scenewalk as scenewalk_model"
      ],
      "outputs": [],
      "execution_count": 4,
      "metadata": {
        "collapsed": false,
        "outputHidden": false,
        "inputHidden": false,
        "execution": {
          "iopub.status.busy": "2020-03-28T10:08:46.834Z",
          "iopub.execute_input": "2020-03-28T10:08:46.838Z",
          "iopub.status.idle": "2020-03-28T10:08:46.845Z",
          "shell.execute_reply": "2020-03-28T10:08:46.852Z"
        }
      }
    },
    {
      "cell_type": "markdown",
      "source": [
        "The model takes the settings:\n",
        "\n",
        "- how is the inhibition combined (subtractive or divisive)\n",
        "- how is the attention map initialized (zero or cb)\n",
        "- is there a post-saccadic attention shift? (on or off)\n",
        "- is there a pre-saccadic attention shift? (on or off)\n",
        "- is there an occulomotor potential? (on, off)\n",
        "- is there slower decay on the previous fixation? (on or off)\n",
        "\n",
        "It also takes the range of the data. All data for fixations must be provided in degrees. All duration information in seconds (NOT ms).\n",
        "\n",
        "Lastly it takes a dictionary of other settings for the model, relating to how parameters are passed in and represented in the model. In this case we are estimating log zeta and coupling the two omega parameters by a divisive parameter instead of estimating them separately.\n",
        "\n",
        "The configuration below is the original SceneWalk model without attention shifts"
      ],
      "metadata": {}
    },
    {
      "cell_type": "code",
      "source": [
        "sw = scenewalk_model(\"subtractive\", \"zero\", \"off\", \"off\", \"off\", {'x': d_range[0], 'y': d_range[1]}, {\"logged_z\":True, \"coupled_oms\":True})\n",
        "\n",
        "sw.whoami()"
      ],
      "outputs": [
        {
          "output_type": "execute_result",
          "execution_count": 5,
          "data": {
            "text/plain": [
              "'I am a subtractive scenewalk model, initialized with zero activation, in 2 exponents mode, with om_i as a fraction, with logged z'"
            ]
          },
          "metadata": {}
        }
      ],
      "execution_count": 5,
      "metadata": {
        "collapsed": false,
        "outputHidden": false,
        "inputHidden": false,
        "execution": {
          "iopub.status.busy": "2020-03-28T10:08:47.338Z",
          "iopub.execute_input": "2020-03-28T10:08:47.341Z",
          "iopub.status.idle": "2020-03-28T10:08:47.350Z",
          "shell.execute_reply": "2020-03-28T10:08:47.354Z"
        }
      }
    },
    {
      "cell_type": "markdown",
      "source": [
        "It will tell you which parameters it needs and the order if you're passing them in as a list:"
      ],
      "metadata": {}
    },
    {
      "cell_type": "code",
      "source": [
        "sw.get_param_list_order()"
      ],
      "outputs": [
        {
          "output_type": "execute_result",
          "execution_count": 6,
          "data": {
            "text/plain": [
              "['omegaAttention',\n",
              " 'omfrac',\n",
              " 'sigmaAttention',\n",
              " 'sigmaInhib',\n",
              " 'gamma',\n",
              " 'lamb',\n",
              " 'inhibStrength',\n",
              " 'zeta']"
            ]
          },
          "metadata": {}
        }
      ],
      "execution_count": 6,
      "metadata": {
        "collapsed": false,
        "outputHidden": false,
        "inputHidden": false,
        "execution": {
          "iopub.status.busy": "2020-03-28T10:08:47.884Z",
          "iopub.execute_input": "2020-03-28T10:08:47.888Z",
          "iopub.status.idle": "2020-03-28T10:08:47.898Z",
          "shell.execute_reply": "2020-03-28T10:08:47.902Z"
        }
      }
    },
    {
      "cell_type": "markdown",
      "source": [
        "You can pass them in as a list **in that order(!)** or as a dictionary with those keys"
      ],
      "metadata": {}
    },
    {
      "cell_type": "code",
      "source": [
        "sw.update_params([1,2,3,4,5,6,7,1])\n",
        "sw.get_params()"
      ],
      "outputs": [
        {
          "output_type": "execute_result",
          "execution_count": 7,
          "data": {
            "text/plain": [
              "OrderedDict([('omegaAttention', 1),\n",
              "             ('omegaInhib', 0.5),\n",
              "             ('sigmaAttention', 3),\n",
              "             ('sigmaInhib', 4),\n",
              "             ('gamma', 5),\n",
              "             ('lamb', 6),\n",
              "             ('inhibStrength', 7),\n",
              "             ('zeta', 10)])"
            ]
          },
          "metadata": {}
        }
      ],
      "execution_count": 7,
      "metadata": {
        "collapsed": false,
        "outputHidden": false,
        "inputHidden": false,
        "execution": {
          "iopub.status.busy": "2020-03-28T10:08:48.571Z",
          "iopub.execute_input": "2020-03-28T10:08:48.576Z",
          "iopub.status.idle": "2020-03-28T10:08:48.586Z",
          "shell.execute_reply": "2020-03-28T10:08:48.590Z"
        }
      }
    },
    {
      "cell_type": "markdown",
      "source": [
        "The Model is defined within specific bounds. More on this elsewhere, but for roughly\n",
        "\n",
        "- **omegaAttention** float64.eps : 100000\n",
        "- **omegaInhib** float64.eps : 100000\n",
        "- **sigmaAttention** float64.eps : 100000\n",
        "- **sigmaInhib** float64.eps : 100000\n",
        "- **lamb** float64.eps : 15\n",
        "- **gamma** float64.eps : 15\n",
        "- **inhibStrength** float64.eps : 100000\n",
        "- **zeta** float64.eps : 1\n",
        "\n",
        "etc.\n"
      ],
      "metadata": {}
    },
    {
      "cell_type": "code",
      "source": [
        "# config like what the data suggest\n",
        "param_dict = OrderedDict({\n",
        "    \"omegaAttention\": 18.5,\n",
        "    \"omfrac\": 10,\n",
        "    \"sigmaAttention\": 6,\n",
        "    \"sigmaInhib\": 12,\n",
        "    \"gamma\" : 8,\n",
        "    \"lamb\" : 0.6,\n",
        "    \"inhibStrength\" :0.7,\n",
        "    \"zeta\" : -2,\n",
        "})"
      ],
      "outputs": [],
      "execution_count": 8,
      "metadata": {
        "collapsed": false,
        "outputHidden": false,
        "inputHidden": false,
        "execution": {
          "iopub.status.busy": "2020-03-28T10:08:49.369Z",
          "iopub.execute_input": "2020-03-28T10:08:49.373Z",
          "iopub.status.idle": "2020-03-28T10:08:49.378Z",
          "shell.execute_reply": "2020-03-28T10:08:49.381Z"
        }
      }
    },
    {
      "cell_type": "code",
      "source": [
        "sw.update_params(param_dict)\n",
        "#print(sw.get_params())\n",
        "print(\"have we provided all relevant parameters?:\", sw.check_params_for_config())\n",
        "print(\"are the parameters within the defined bounds?:\", sw.check_params_in_bounds())\n"
      ],
      "outputs": [
        {
          "output_type": "stream",
          "name": "stdout",
          "text": [
            "have we provided all relevant parameters?: True\n",
            "are the parameters within the defined bounds?: True\n"
          ]
        }
      ],
      "execution_count": 9,
      "metadata": {
        "collapsed": false,
        "outputHidden": false,
        "inputHidden": false,
        "execution": {
          "iopub.status.busy": "2020-03-28T10:08:49.745Z",
          "iopub.execute_input": "2020-03-28T10:08:49.748Z",
          "iopub.status.idle": "2020-03-28T10:08:49.756Z",
          "shell.execute_reply": "2020-03-28T10:08:49.759Z"
        }
      }
    },
    {
      "cell_type": "markdown",
      "source": [
        "Now we have set up our model object. It has 2 main interface functions:\n",
        "\n",
        "1. get_scanpath_likelihood: gives the likelihood of a scanpath given an image\n",
        "2. simulate_scanpath: simulates a scanpath on the image"
      ],
      "metadata": {
        "nteract": {
          "transient": {
            "deleting": false
          }
        }
      }
    },
    {
      "cell_type": "code",
      "source": [
        "subj = 1\n",
        "trial = 1\n",
        "image = im_dat[subj][trial][0]\n",
        "ll = sw.get_scanpath_likelihood(x_dat[subj][trial],\n",
        "                                y_dat[subj][trial],\n",
        "                                dur_dat[subj][trial],\n",
        "                                densities_dat[image-1])\n",
        "print(\"this scan paths sum ll, given the model and the parameters is:\", ll)"
      ],
      "outputs": [
        {
          "output_type": "stream",
          "name": "stdout",
          "text": [
            "this scan paths sum ll, given the model and the parameters is: -222.76976052646520093\n"
          ]
        }
      ],
      "execution_count": 10,
      "metadata": {
        "collapsed": false,
        "jupyter": {
          "source_hidden": false,
          "outputs_hidden": false
        },
        "nteract": {
          "transient": {
            "deleting": false
          }
        },
        "execution": {
          "iopub.status.busy": "2020-03-28T10:08:50.538Z",
          "iopub.execute_input": "2020-03-28T10:08:50.541Z",
          "iopub.status.idle": "2020-03-28T10:08:50.619Z",
          "shell.execute_reply": "2020-03-28T10:08:50.627Z"
        }
      }
    },
    {
      "cell_type": "code",
      "source": [
        "subj = 1\n",
        "trial = 1\n",
        "image = im_dat[subj][trial][0]\n",
        "x_path, y_path = sw.simulate_scanpath(dur_dat[subj][trial],\n",
        "                                      densities_dat[image-1],\n",
        "                                      [5,5])\n",
        "\n",
        "from scenewalk.plotting import sw_plot\n",
        "sw_plot.plot_path_on_map(densities_dat[image-1], x_path,y_path, sw)\n"
      ],
      "outputs": [
        {
          "output_type": "display_data",
          "data": {
            "text/plain": [
              "<Figure size 432x288 with 1 Axes>"
            ],
            "image/png": "[encoded data removed]"
          },
          "metadata": {
            "needs_background": "light"
          }
        }
      ],
      "execution_count": 12,
      "metadata": {
        "collapsed": false,
        "jupyter": {
          "source_hidden": false,
          "outputs_hidden": false
        },
        "nteract": {
          "transient": {
            "deleting": false
          }
        },
        "execution": {
          "iopub.status.busy": "2020-03-28T10:09:03.285Z",
          "iopub.execute_input": "2020-03-28T10:09:03.290Z",
          "iopub.status.idle": "2020-03-28T10:09:03.564Z",
          "shell.execute_reply": "2020-03-28T10:09:03.573Z"
        }
      }
    }
  ],
  "metadata": {
    "kernel_info": {
      "name": "swtemp"
    },
    "language_info": {
      "name": "python",
      "version": "3.8.0",
      "mimetype": "text/x-python",
      "codemirror_mode": {
        "name": "ipython",
        "version": 3
      },
      "pygments_lexer": "ipython3",
      "nbconvert_exporter": "python",
      "file_extension": ".py"
    },
    "kernelspec": {
      "name": "swtemp",
      "language": "python",
      "display_name": "swtemp"
    },
    "nteract": {
      "version": "0.22.0"
    }
  },
  "nbformat": 4,
  "nbformat_minor": 4
}