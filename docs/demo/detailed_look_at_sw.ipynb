{
 "cells": [
  {
   "cell_type": "markdown",
   "metadata": {},
   "source": [
    "# Detailed Look at the SceneWalk Code in Python\n",
    "This is a basic expanation of the original (subtractive scenewalk model)\n",
    "## Load libraries and data\n",
    "The data we are using here is from the Memory3 experiment. We import it from a csv using pandas.\n",
    "\n",
    "It may be interesting to note that the data is such that the bottom left hand corner is the axis origin."
   ]
  },
  {
   "cell_type": "code",
   "execution_count": 1,
   "metadata": {
    "collapsed": false,
    "execution": {
     "iopub.execute_input": "2020-03-28T10:36:38.476Z",
     "iopub.status.busy": "2020-03-28T10:36:38.469Z",
     "iopub.status.idle": "2020-03-28T10:36:39.562Z",
     "shell.execute_reply": "2020-03-28T10:36:39.623Z"
    },
    "inputHidden": false,
    "outputHidden": false
   },
   "outputs": [],
   "source": [
    "from scenewalk.scenewalk_model_object import scenewalk as scenewalk_model\n",
    "import numpy as np\n",
    "import pandas as pd\n",
    "import matplotlib.pyplot as plt\n",
    "import seaborn as sns\n",
    "from scenewalk.plotting.sw_plot import plot_3_maps"
   ]
  },
  {
   "cell_type": "code",
   "execution_count": 2,
   "metadata": {
    "collapsed": false,
    "execution": {
     "iopub.execute_input": "2020-03-28T10:36:39.578Z",
     "iopub.status.busy": "2020-03-28T10:36:39.571Z",
     "iopub.status.idle": "2020-03-28T10:36:40.466Z",
     "shell.execute_reply": "2020-03-28T10:36:40.589Z"
    },
    "inputHidden": false,
    "outputHidden": false
   },
   "outputs": [
    {
     "data": {
      "text/html": [
       "<div>\n",
       "<style scoped>\n",
       "    .dataframe tbody tr th:only-of-type {\n",
       "        vertical-align: middle;\n",
       "    }\n",
       "\n",
       "    .dataframe tbody tr th {\n",
       "        vertical-align: top;\n",
       "    }\n",
       "\n",
       "    .dataframe thead th {\n",
       "        text-align: right;\n",
       "    }\n",
       "</style>\n",
       "<table border=\"1\" class=\"dataframe\">\n",
       "  <thead>\n",
       "    <tr style=\"text-align: right;\">\n",
       "      <th></th>\n",
       "      <th>Unnamed: 0</th>\n",
       "      <th>Start</th>\n",
       "      <th>End</th>\n",
       "      <th>PeakVel</th>\n",
       "      <th>Ampl</th>\n",
       "      <th>sacLen</th>\n",
       "      <th>VP</th>\n",
       "      <th>trial</th>\n",
       "      <th>Img</th>\n",
       "      <th>mode</th>\n",
       "      <th>...</th>\n",
       "      <th>fixdur</th>\n",
       "      <th>blinkSac</th>\n",
       "      <th>blinkFix</th>\n",
       "      <th>viewnr</th>\n",
       "      <th>dtc</th>\n",
       "      <th>imtype2</th>\n",
       "      <th>conformity</th>\n",
       "      <th>gazepathLen</th>\n",
       "      <th>conformityNorm</th>\n",
       "      <th>conformityHans</th>\n",
       "    </tr>\n",
       "  </thead>\n",
       "  <tbody>\n",
       "    <tr>\n",
       "      <th>0</th>\n",
       "      <td>1</td>\n",
       "      <td>NaN</td>\n",
       "      <td>NaN</td>\n",
       "      <td>NaN</td>\n",
       "      <td>NaN</td>\n",
       "      <td>NaN</td>\n",
       "      <td>1</td>\n",
       "      <td>1</td>\n",
       "      <td>86</td>\n",
       "      <td>1</td>\n",
       "      <td>...</td>\n",
       "      <td>98</td>\n",
       "      <td>False</td>\n",
       "      <td>False</td>\n",
       "      <td>1</td>\n",
       "      <td>0.254938</td>\n",
       "      <td>1</td>\n",
       "      <td>0.001490</td>\n",
       "      <td>23</td>\n",
       "      <td>-13.914239</td>\n",
       "      <td>-9.390677</td>\n",
       "    </tr>\n",
       "    <tr>\n",
       "      <th>1</th>\n",
       "      <td>2</td>\n",
       "      <td>99.0</td>\n",
       "      <td>109.0</td>\n",
       "      <td>204.060792</td>\n",
       "      <td>1.493026</td>\n",
       "      <td>1.492857</td>\n",
       "      <td>1</td>\n",
       "      <td>1</td>\n",
       "      <td>86</td>\n",
       "      <td>1</td>\n",
       "      <td>...</td>\n",
       "      <td>630</td>\n",
       "      <td>False</td>\n",
       "      <td>False</td>\n",
       "      <td>1</td>\n",
       "      <td>1.744902</td>\n",
       "      <td>1</td>\n",
       "      <td>0.002793</td>\n",
       "      <td>23</td>\n",
       "      <td>-13.007765</td>\n",
       "      <td>-8.484203</td>\n",
       "    </tr>\n",
       "    <tr>\n",
       "      <th>2</th>\n",
       "      <td>3</td>\n",
       "      <td>739.0</td>\n",
       "      <td>781.0</td>\n",
       "      <td>381.255743</td>\n",
       "      <td>7.085431</td>\n",
       "      <td>5.909781</td>\n",
       "      <td>1</td>\n",
       "      <td>1</td>\n",
       "      <td>86</td>\n",
       "      <td>1</td>\n",
       "      <td>...</td>\n",
       "      <td>228</td>\n",
       "      <td>False</td>\n",
       "      <td>False</td>\n",
       "      <td>1</td>\n",
       "      <td>8.408326</td>\n",
       "      <td>1</td>\n",
       "      <td>0.001407</td>\n",
       "      <td>23</td>\n",
       "      <td>-13.996878</td>\n",
       "      <td>-9.473316</td>\n",
       "    </tr>\n",
       "    <tr>\n",
       "      <th>3</th>\n",
       "      <td>4</td>\n",
       "      <td>1009.0</td>\n",
       "      <td>1065.0</td>\n",
       "      <td>406.522941</td>\n",
       "      <td>9.542654</td>\n",
       "      <td>8.586285</td>\n",
       "      <td>1</td>\n",
       "      <td>1</td>\n",
       "      <td>86</td>\n",
       "      <td>1</td>\n",
       "      <td>...</td>\n",
       "      <td>265</td>\n",
       "      <td>False</td>\n",
       "      <td>False</td>\n",
       "      <td>1</td>\n",
       "      <td>12.847886</td>\n",
       "      <td>1</td>\n",
       "      <td>0.000376</td>\n",
       "      <td>23</td>\n",
       "      <td>-15.901115</td>\n",
       "      <td>-11.377553</td>\n",
       "    </tr>\n",
       "    <tr>\n",
       "      <th>4</th>\n",
       "      <td>5</td>\n",
       "      <td>1330.0</td>\n",
       "      <td>1362.0</td>\n",
       "      <td>481.183495</td>\n",
       "      <td>5.460476</td>\n",
       "      <td>3.963403</td>\n",
       "      <td>1</td>\n",
       "      <td>1</td>\n",
       "      <td>86</td>\n",
       "      <td>1</td>\n",
       "      <td>...</td>\n",
       "      <td>183</td>\n",
       "      <td>False</td>\n",
       "      <td>False</td>\n",
       "      <td>1</td>\n",
       "      <td>16.963105</td>\n",
       "      <td>1</td>\n",
       "      <td>0.000257</td>\n",
       "      <td>23</td>\n",
       "      <td>-16.449903</td>\n",
       "      <td>-11.926341</td>\n",
       "    </tr>\n",
       "    <tr>\n",
       "      <th>...</th>\n",
       "      <td>...</td>\n",
       "      <td>...</td>\n",
       "      <td>...</td>\n",
       "      <td>...</td>\n",
       "      <td>...</td>\n",
       "      <td>...</td>\n",
       "      <td>...</td>\n",
       "      <td>...</td>\n",
       "      <td>...</td>\n",
       "      <td>...</td>\n",
       "      <td>...</td>\n",
       "      <td>...</td>\n",
       "      <td>...</td>\n",
       "      <td>...</td>\n",
       "      <td>...</td>\n",
       "      <td>...</td>\n",
       "      <td>...</td>\n",
       "      <td>...</td>\n",
       "      <td>...</td>\n",
       "      <td>...</td>\n",
       "      <td>...</td>\n",
       "    </tr>\n",
       "    <tr>\n",
       "      <th>224314</th>\n",
       "      <td>224315</td>\n",
       "      <td>7963.0</td>\n",
       "      <td>7974.0</td>\n",
       "      <td>288.413440</td>\n",
       "      <td>2.362354</td>\n",
       "      <td>2.362354</td>\n",
       "      <td>30</td>\n",
       "      <td>80</td>\n",
       "      <td>303</td>\n",
       "      <td>3</td>\n",
       "      <td>...</td>\n",
       "      <td>405</td>\n",
       "      <td>False</td>\n",
       "      <td>False</td>\n",
       "      <td>1</td>\n",
       "      <td>5.811551</td>\n",
       "      <td>4</td>\n",
       "      <td>0.000953</td>\n",
       "      <td>34</td>\n",
       "      <td>-15.122182</td>\n",
       "      <td>-10.034719</td>\n",
       "    </tr>\n",
       "    <tr>\n",
       "      <th>224315</th>\n",
       "      <td>224316</td>\n",
       "      <td>8714.0</td>\n",
       "      <td>8727.0</td>\n",
       "      <td>292.242848</td>\n",
       "      <td>2.884906</td>\n",
       "      <td>2.882165</td>\n",
       "      <td>30</td>\n",
       "      <td>80</td>\n",
       "      <td>303</td>\n",
       "      <td>3</td>\n",
       "      <td>...</td>\n",
       "      <td>381</td>\n",
       "      <td>False</td>\n",
       "      <td>False</td>\n",
       "      <td>1</td>\n",
       "      <td>5.831994</td>\n",
       "      <td>4</td>\n",
       "      <td>0.000787</td>\n",
       "      <td>34</td>\n",
       "      <td>-15.399512</td>\n",
       "      <td>-10.312049</td>\n",
       "    </tr>\n",
       "    <tr>\n",
       "      <th>224316</th>\n",
       "      <td>224317</td>\n",
       "      <td>9108.0</td>\n",
       "      <td>9139.0</td>\n",
       "      <td>455.156418</td>\n",
       "      <td>5.037857</td>\n",
       "      <td>4.807370</td>\n",
       "      <td>30</td>\n",
       "      <td>80</td>\n",
       "      <td>303</td>\n",
       "      <td>3</td>\n",
       "      <td>...</td>\n",
       "      <td>255</td>\n",
       "      <td>False</td>\n",
       "      <td>False</td>\n",
       "      <td>1</td>\n",
       "      <td>8.625651</td>\n",
       "      <td>4</td>\n",
       "      <td>0.000037</td>\n",
       "      <td>34</td>\n",
       "      <td>-19.824252</td>\n",
       "      <td>-14.736790</td>\n",
       "    </tr>\n",
       "    <tr>\n",
       "      <th>224317</th>\n",
       "      <td>224318</td>\n",
       "      <td>9394.0</td>\n",
       "      <td>9426.0</td>\n",
       "      <td>317.557028</td>\n",
       "      <td>5.585248</td>\n",
       "      <td>5.585248</td>\n",
       "      <td>30</td>\n",
       "      <td>80</td>\n",
       "      <td>303</td>\n",
       "      <td>3</td>\n",
       "      <td>...</td>\n",
       "      <td>378</td>\n",
       "      <td>False</td>\n",
       "      <td>False</td>\n",
       "      <td>1</td>\n",
       "      <td>13.697656</td>\n",
       "      <td>4</td>\n",
       "      <td>0.000476</td>\n",
       "      <td>34</td>\n",
       "      <td>-16.125454</td>\n",
       "      <td>-11.037991</td>\n",
       "    </tr>\n",
       "    <tr>\n",
       "      <th>224318</th>\n",
       "      <td>224319</td>\n",
       "      <td>9804.0</td>\n",
       "      <td>9839.0</td>\n",
       "      <td>423.712189</td>\n",
       "      <td>5.753254</td>\n",
       "      <td>5.666740</td>\n",
       "      <td>30</td>\n",
       "      <td>80</td>\n",
       "      <td>303</td>\n",
       "      <td>3</td>\n",
       "      <td>...</td>\n",
       "      <td>169</td>\n",
       "      <td>False</td>\n",
       "      <td>False</td>\n",
       "      <td>1</td>\n",
       "      <td>17.375090</td>\n",
       "      <td>4</td>\n",
       "      <td>0.000003</td>\n",
       "      <td>34</td>\n",
       "      <td>-23.234150</td>\n",
       "      <td>-18.146688</td>\n",
       "    </tr>\n",
       "  </tbody>\n",
       "</table>\n",
       "<p>224319 rows × 28 columns</p>\n",
       "</div>"
      ],
      "text/plain": [
       "        Unnamed: 0   Start     End     PeakVel      Ampl    sacLen  VP  trial  \\\n",
       "0                1     NaN     NaN         NaN       NaN       NaN   1      1   \n",
       "1                2    99.0   109.0  204.060792  1.493026  1.492857   1      1   \n",
       "2                3   739.0   781.0  381.255743  7.085431  5.909781   1      1   \n",
       "3                4  1009.0  1065.0  406.522941  9.542654  8.586285   1      1   \n",
       "4                5  1330.0  1362.0  481.183495  5.460476  3.963403   1      1   \n",
       "...            ...     ...     ...         ...       ...       ...  ..    ...   \n",
       "224314      224315  7963.0  7974.0  288.413440  2.362354  2.362354  30     80   \n",
       "224315      224316  8714.0  8727.0  292.242848  2.884906  2.882165  30     80   \n",
       "224316      224317  9108.0  9139.0  455.156418  5.037857  4.807370  30     80   \n",
       "224317      224318  9394.0  9426.0  317.557028  5.585248  5.585248  30     80   \n",
       "224318      224319  9804.0  9839.0  423.712189  5.753254  5.666740  30     80   \n",
       "\n",
       "        Img  mode  ...  fixdur  blinkSac  blinkFix  viewnr        dtc  \\\n",
       "0        86     1  ...      98     False     False       1   0.254938   \n",
       "1        86     1  ...     630     False     False       1   1.744902   \n",
       "2        86     1  ...     228     False     False       1   8.408326   \n",
       "3        86     1  ...     265     False     False       1  12.847886   \n",
       "4        86     1  ...     183     False     False       1  16.963105   \n",
       "...     ...   ...  ...     ...       ...       ...     ...        ...   \n",
       "224314  303     3  ...     405     False     False       1   5.811551   \n",
       "224315  303     3  ...     381     False     False       1   5.831994   \n",
       "224316  303     3  ...     255     False     False       1   8.625651   \n",
       "224317  303     3  ...     378     False     False       1  13.697656   \n",
       "224318  303     3  ...     169     False     False       1  17.375090   \n",
       "\n",
       "        imtype2  conformity  gazepathLen  conformityNorm  conformityHans  \n",
       "0             1    0.001490           23      -13.914239       -9.390677  \n",
       "1             1    0.002793           23      -13.007765       -8.484203  \n",
       "2             1    0.001407           23      -13.996878       -9.473316  \n",
       "3             1    0.000376           23      -15.901115      -11.377553  \n",
       "4             1    0.000257           23      -16.449903      -11.926341  \n",
       "...         ...         ...          ...             ...             ...  \n",
       "224314        4    0.000953           34      -15.122182      -10.034719  \n",
       "224315        4    0.000787           34      -15.399512      -10.312049  \n",
       "224316        4    0.000037           34      -19.824252      -14.736790  \n",
       "224317        4    0.000476           34      -16.125454      -11.037991  \n",
       "224318        4    0.000003           34      -23.234150      -18.146688  \n",
       "\n",
       "[224319 rows x 28 columns]"
      ]
     },
     "execution_count": 2,
     "metadata": {},
     "output_type": "execute_result"
    }
   ],
   "source": [
    "# Load Data\n",
    "SAC = pd.read_csv('../../SceneWalk_research/DATA/Mem3/SAC_mem3.csv')\n",
    "SAC"
   ]
  },
  {
   "cell_type": "markdown",
   "metadata": {},
   "source": [
    "From the data frame we extract the relevant data:\n",
    "\n",
    "- positions of all fixations in the image for the emprirical saliency map. \n",
    "- positions and fixation durations of the gaze path we are analyzing. \n",
    "\n",
    "Both of these should be numpy arrays (not pandas) to stay consistent with indexing etc. (pandas is 1 indexed, normal python is 0 indexed)."
   ]
  },
  {
   "cell_type": "code",
   "execution_count": 3,
   "metadata": {
    "collapsed": false,
    "execution": {
     "iopub.execute_input": "2020-03-28T10:36:40.484Z",
     "iopub.status.busy": "2020-03-28T10:36:40.477Z",
     "iopub.status.idle": "2020-03-28T10:36:40.496Z",
     "shell.execute_reply": "2020-03-28T10:36:40.594Z"
    },
    "inputHidden": false,
    "outputHidden": false
   },
   "outputs": [],
   "source": [
    "use_img = 35\n",
    "\n",
    "img_x = np.asarray(SAC.x[SAC['Img'] == use_img])\n",
    "img_y = np.asarray(SAC.y[SAC['Img'] == use_img])\n",
    "\n",
    "use_vp =  np.asarray(SAC.VP[SAC['Img'] == use_img])[0]\n",
    "use_trial = np.asarray(SAC.trial[SAC['Img'] == use_img])[0]\n",
    "\n",
    "path_x=np.asarray(SAC.x[(SAC['Img'] == use_img) & (SAC['VP'] == use_vp) & (SAC['trial'] == use_trial)])\n",
    "path_y=np.asarray(SAC.y[(SAC['Img'] == use_img) & (SAC['VP'] == use_vp) & (SAC['trial'] == use_trial)])\n",
    "path_dur=np.asarray(SAC.fixdur[(SAC['Img'] == use_img) & (SAC['VP'] == use_vp) & (SAC['trial'] == use_trial)])"
   ]
  },
  {
   "cell_type": "markdown",
   "metadata": {},
   "source": [
    "Let's look at the data we imported. Each blue point is a fixation. Each red point is part of the scan path we're going to analyze."
   ]
  },
  {
   "cell_type": "code",
   "execution_count": 4,
   "metadata": {
    "collapsed": false,
    "execution": {
     "iopub.execute_input": "2020-03-28T10:36:40.515Z",
     "iopub.status.busy": "2020-03-28T10:36:40.507Z",
     "iopub.status.idle": "2020-03-28T10:36:40.681Z",
     "shell.execute_reply": "2020-03-28T10:36:40.738Z"
    },
    "inputHidden": false,
    "outputHidden": false
   },
   "outputs": [
    {
     "data": {
      "image/png": "[encoded data removed]",
      "text/plain": [
       "<Figure size 432x288 with 1 Axes>"
      ]
     },
     "metadata": {
      "needs_background": "light"
     },
     "output_type": "display_data"
    }
   ],
   "source": [
    "im=plt.scatter(img_x, img_y)\n",
    "im=plt.plot(path_x, path_y, '.r-')\n"
   ]
  },
  {
   "cell_type": "markdown",
   "metadata": {},
   "source": [
    "## Empirical Fixation density Map\n",
    "Normally the fixation desity that is used comes with the data set (see spatstat or corpus data). For historical reasons, they are computed in R. \n",
    "\n",
    "`sw.empirical_fixation_density()` makes a desity map that is very similar to the R version. It also converts the data to px. "
   ]
  },
  {
   "cell_type": "code",
   "execution_count": 5,
   "metadata": {
    "execution": {
     "iopub.execute_input": "2020-03-28T10:36:40.697Z",
     "iopub.status.busy": "2020-03-28T10:36:40.690Z",
     "iopub.status.idle": "2020-03-28T10:36:42.296Z",
     "shell.execute_reply": "2020-03-28T10:36:42.441Z"
    }
   },
   "outputs": [
    {
     "data": {
      "image/png": "[encoded data removed]",
      "text/plain": [
       "<Figure size 432x288 with 1 Axes>"
      ]
     },
     "metadata": {
      "needs_background": "light"
     },
     "output_type": "display_data"
    }
   ],
   "source": [
    "d_range = {\n",
    "    \"x\" : (0.00000, 39.90938),\n",
    "    \"y\" : (0.00000,  26.60625)\n",
    "}\n",
    "\n",
    "sw = scenewalk_model(\"subtractive\", \"zero\", \"off\", \"off\", \"off\", d_range)\n",
    "img_x_t, img_y_t, fix_dens = sw.empirical_fixation_density(img_x, img_y)\n",
    "\n",
    "plt.scatter(img_x_t, img_y_t, s=1, color='white')\n",
    "plt.imshow(np.float64(fix_dens), origin='lower')\n",
    "plt.show()\n"
   ]
  },
  {
   "cell_type": "markdown",
   "metadata": {},
   "source": [
    "## Model\n",
    "For example we can use Heiko's estimated parameters (sigmas times 4 because this model uses pixels and not degrees). Heiko had 2 parameters that were unreasonable. I've swapped them out here for demonstration purposes."
   ]
  },
  {
   "cell_type": "code",
   "execution_count": 6,
   "metadata": {
    "collapsed": false,
    "execution": {
     "iopub.execute_input": "2020-03-28T10:36:42.312Z",
     "iopub.status.busy": "2020-03-28T10:36:42.306Z",
     "iopub.status.idle": "2020-03-28T10:36:42.323Z",
     "shell.execute_reply": "2020-03-28T10:36:42.447Z"
    },
    "inputHidden": false,
    "outputHidden": false
   },
   "outputs": [],
   "source": [
    "omegaAttention = 10 #2.4*(10^30)\n",
    "omegaInhib = 1.97 \n",
    "sigmaAttention = 5.9\n",
    "sigmaInhib = 4.5\n",
    "gamma = 1#44.780\n",
    "lamb = 0.8115\n",
    "inhibStrength = 0.3637\n",
    "zeta = 0.0722\n",
    "\n",
    "sw_params=[omegaAttention, omegaInhib, sigmaAttention, sigmaInhib, gamma, lamb, inhibStrength, zeta]\n",
    "\n",
    "path_durR = path_dur/1000"
   ]
  },
  {
   "cell_type": "markdown",
   "metadata": {},
   "source": [
    "Already previously we initiated a scenewalk model with the following command. To get into it more: the arguments are \n",
    "- subtractive: the way inhibition is added\n",
    "- zero: the initiation map is zero everywhere\n",
    "- off: no attention shifts\n",
    "- off: no occulomotor potential\n",
    "- off: no location dependent decay (i.e. facilitation of return is off)\n",
    "- data range\n",
    "\n",
    "This is the configuration of the original scenewalk model. "
   ]
  },
  {
   "cell_type": "code",
   "execution_count": 7,
   "metadata": {
    "collapsed": false,
    "execution": {
     "iopub.execute_input": "2020-03-28T10:36:42.342Z",
     "iopub.status.busy": "2020-03-28T10:36:42.335Z",
     "iopub.status.idle": "2020-03-28T10:36:42.352Z",
     "shell.execute_reply": "2020-03-28T10:36:42.453Z"
    },
    "inputHidden": false,
    "outputHidden": false
   },
   "outputs": [],
   "source": [
    "sw = scenewalk_model(\"subtractive\", \"zero\", \"off\", \"off\", \"off\", d_range)\n",
    "sw.update_params(sw_params)"
   ]
  },
  {
   "cell_type": "markdown",
   "metadata": {},
   "source": [
    "Now we can get the likelihood of the scanpath."
   ]
  },
  {
   "cell_type": "code",
   "execution_count": 8,
   "metadata": {
    "collapsed": false,
    "execution": {
     "iopub.execute_input": "2020-03-28T10:36:42.369Z",
     "iopub.status.busy": "2020-03-28T10:36:42.363Z",
     "iopub.status.idle": "2020-03-28T10:36:42.383Z",
     "shell.execute_reply": "2020-03-28T10:36:42.457Z"
    },
    "inputHidden": false,
    "outputHidden": false
   },
   "outputs": [
    {
     "data": {
      "text/plain": [
       "array([20.13561279, 30.63710112, 23.16872571, 19.94138714, 32.54210889,\n",
       "       32.8480808 , 31.62685376, 32.65119453, 36.71663009, 37.4722477 ,\n",
       "       37.00929888, 37.69041898, 37.27004017, 38.73072349, 36.81108229,\n",
       "       37.33921643, 37.04654764, 33.90967033, 25.34245664, 18.37161817,\n",
       "       17.27277989, 20.69035318, 22.55412125, 25.43557853, 18.25189003])"
      ]
     },
     "execution_count": 8,
     "metadata": {},
     "output_type": "execute_result"
    }
   ],
   "source": [
    "path_x"
   ]
  },
  {
   "cell_type": "code",
   "execution_count": 9,
   "metadata": {
    "collapsed": false,
    "execution": {
     "iopub.execute_input": "2020-03-28T10:36:42.399Z",
     "iopub.status.busy": "2020-03-28T10:36:42.393Z",
     "iopub.status.idle": "2020-03-28T10:36:42.485Z",
     "shell.execute_reply": "2020-03-28T10:36:42.462Z"
    },
    "inputHidden": false,
    "outputHidden": false
   },
   "outputs": [
    {
     "data": {
      "text/plain": [
       "-297.28024961378914465"
      ]
     },
     "execution_count": 9,
     "metadata": {},
     "output_type": "execute_result"
    }
   ],
   "source": [
    "sw.get_scanpath_likelihood(path_x, path_y, path_durR, fix_dens)"
   ]
  },
  {
   "cell_type": "markdown",
   "metadata": {},
   "source": [
    "## Unpack scenewalk code\n",
    "\n",
    "Here we step through what happens in the model when we call `get_scanpath_likelihood`."
   ]
  },
  {
   "cell_type": "code",
   "execution_count": 10,
   "metadata": {
    "collapsed": false,
    "execution": {
     "iopub.execute_input": "2020-03-28T10:36:42.501Z",
     "iopub.status.busy": "2020-03-28T10:36:42.495Z",
     "iopub.status.idle": "2020-03-28T10:36:42.507Z",
     "shell.execute_reply": "2020-03-28T10:36:42.466Z"
    },
    "inputHidden": false,
    "outputHidden": false
   },
   "outputs": [],
   "source": [
    "sw = scenewalk_model(\"subtractive\", \"zero\", \"off\", \"off\", \"off\", d_range)\n",
    "sw.update_params(sw_params)"
   ]
  },
  {
   "cell_type": "markdown",
   "metadata": {
    "nteract": {
     "transient": {
      "deleting": false
     }
    }
   },
   "source": [
    "We will need to extract the individual fixations to step through the code"
   ]
  },
  {
   "cell_type": "code",
   "execution_count": 11,
   "metadata": {
    "collapsed": false,
    "execution": {
     "iopub.execute_input": "2020-03-28T10:36:42.522Z",
     "iopub.status.busy": "2020-03-28T10:36:42.516Z",
     "iopub.status.idle": "2020-03-28T10:36:42.529Z",
     "shell.execute_reply": "2020-03-28T10:36:42.472Z"
    },
    "inputHidden": false,
    "outputHidden": false
   },
   "outputs": [],
   "source": [
    "fix_x = path_x[0]\n",
    "fix_x = sw.convert_deg_to_px(fix_x, \"x\", fix=True)\n",
    "fix_y = path_y[0]\n",
    "fix_y = sw.convert_deg_to_px(fix_y, \"y\", fix=True)\n",
    "duration = path_dur[0]"
   ]
  },
  {
   "cell_type": "markdown",
   "metadata": {
    "nteract": {
     "transient": {
      "deleting": false
     }
    }
   },
   "source": [
    "This is the initial state of the model. The attention map is set to (almost) 0. The inhibition map is set to 1. We'll keep working with the configuration described above."
   ]
  },
  {
   "cell_type": "code",
   "execution_count": 12,
   "metadata": {
    "collapsed": false,
    "execution": {
     "iopub.execute_input": "2020-03-28T10:36:42.544Z",
     "iopub.status.busy": "2020-03-28T10:36:42.538Z",
     "iopub.status.idle": "2020-03-28T10:36:42.746Z",
     "shell.execute_reply": "2020-03-28T10:36:42.812Z"
    },
    "inputHidden": false,
    "outputHidden": false
   },
   "outputs": [
    {
     "data": {
      "image/png": "[encoded data removed]",
      "text/plain": [
       "<Figure size 432x288 with 3 Axes>"
      ]
     },
     "metadata": {
      "needs_background": "light"
     },
     "output_type": "display_data"
    }
   ],
   "source": [
    "prev_mapAtt = sw.att_map_init()\n",
    "prev_mapInhib = sw.initialize_map_unif()\n",
    "\n",
    "plot_3_maps(inhib_map=prev_mapInhib, att_map=prev_mapAtt)"
   ]
  },
  {
   "cell_type": "markdown",
   "metadata": {},
   "source": [
    "Start with the first fixation: Gaussians around fixation position"
   ]
  },
  {
   "cell_type": "code",
   "execution_count": 13,
   "metadata": {
    "collapsed": false,
    "execution": {
     "iopub.execute_input": "2020-03-28T10:36:42.761Z",
     "iopub.status.busy": "2020-03-28T10:36:42.755Z",
     "iopub.status.idle": "2020-03-28T10:36:43.017Z",
     "shell.execute_reply": "2020-03-28T10:36:43.107Z"
    },
    "inputHidden": false,
    "outputHidden": false
   },
   "outputs": [
    {
     "data": {
      "image/png": "[encoded data removed]",
      "text/plain": [
       "<Figure size 432x288 with 3 Axes>"
      ]
     },
     "metadata": {
      "needs_background": "light"
     },
     "output_type": "display_data"
    }
   ],
   "source": [
    "### equation 5\n",
    "xx, yy = np.float128(np.mgrid[0:128, 0:128])\n",
    "rad = (-((xx - fix_x) ** 2 + (yy - fix_y) ** 2)).T\n",
    "gaussAttention = 1/(2 * np.pi * (sigmaAttention**2)) * np.exp(rad / (2* (sigmaAttention ** 2)))\n",
    "gaussInhib = 1/(2 * np.pi * (sigmaInhib**2)) * np.exp(rad / (2 * (sigmaInhib**2)))\n",
    "plot_3_maps(inhib_map=gaussInhib, att_map=gaussAttention)"
   ]
  },
  {
   "cell_type": "markdown",
   "metadata": {},
   "source": [
    "The Attention Gauss gets weighted by the empirical saliency. Then we add the exponent to develop the map over time.\n",
    "\n",
    "The Inhibition Gauss also gets developed over time using the exponent."
   ]
  },
  {
   "cell_type": "code",
   "execution_count": 14,
   "metadata": {
    "collapsed": false,
    "execution": {
     "iopub.execute_input": "2020-03-28T10:36:43.032Z",
     "iopub.status.busy": "2020-03-28T10:36:43.026Z",
     "iopub.status.idle": "2020-03-28T10:36:43.042Z",
     "shell.execute_reply": "2020-03-28T10:36:43.112Z"
    },
    "inputHidden": false,
    "outputHidden": false
   },
   "outputs": [],
   "source": [
    "### equation 8\n",
    "salFixation = np.multiply(fix_dens, gaussAttention)\n",
    "salFixation = salFixation / np.sum(salFixation)\n",
    "mapAtt = salFixation + np.exp(-duration * omegaAttention) * (prev_mapAtt - salFixation)"
   ]
  },
  {
   "cell_type": "code",
   "execution_count": 15,
   "metadata": {
    "collapsed": false,
    "execution": {
     "iopub.execute_input": "2020-03-28T10:36:43.057Z",
     "iopub.status.busy": "2020-03-28T10:36:43.051Z",
     "iopub.status.idle": "2020-03-28T10:36:43.068Z",
     "shell.execute_reply": "2020-03-28T10:36:43.116Z"
    },
    "inputHidden": false,
    "outputHidden": false
   },
   "outputs": [],
   "source": [
    "### equation 9\n",
    "gaussInhib = gaussInhib/np.sum(gaussInhib)\n",
    "mapInhib = gaussInhib + np.exp(-duration * omegaInhib) * (prev_mapInhib - gaussInhib)"
   ]
  },
  {
   "cell_type": "markdown",
   "metadata": {
    "nteract": {
     "transient": {
      "deleting": false
     }
    }
   },
   "source": [
    "This is what it looks like after the temporal evolution"
   ]
  },
  {
   "cell_type": "code",
   "execution_count": 16,
   "metadata": {
    "collapsed": false,
    "execution": {
     "iopub.execute_input": "2020-03-28T10:36:43.083Z",
     "iopub.status.busy": "2020-03-28T10:36:43.077Z",
     "iopub.status.idle": "2020-03-28T10:36:43.305Z",
     "shell.execute_reply": "2020-03-28T10:36:43.393Z"
    },
    "inputHidden": false,
    "outputHidden": false
   },
   "outputs": [
    {
     "data": {
      "image/png": "[encoded data removed]",
      "text/plain": [
       "<Figure size 432x288 with 3 Axes>"
      ]
     },
     "metadata": {
      "needs_background": "light"
     },
     "output_type": "display_data"
    }
   ],
   "source": [
    "plot_3_maps(inhib_map=mapInhib, att_map=mapAtt)"
   ]
  },
  {
   "cell_type": "markdown",
   "metadata": {},
   "source": [
    "Next, both maps get weighted with an exponent (lambda or gamma). In then step numerical problems often occur, because taking a large exponent of a number between 0 and 1 can easily make the number so small, that it gets flushed to 0 by the computer."
   ]
  },
  {
   "cell_type": "code",
   "execution_count": 17,
   "metadata": {
    "collapsed": false,
    "execution": {
     "iopub.execute_input": "2020-03-28T10:36:43.321Z",
     "iopub.status.busy": "2020-03-28T10:36:43.315Z",
     "iopub.status.idle": "2020-03-28T10:36:43.331Z",
     "shell.execute_reply": "2020-03-28T10:36:43.397Z"
    },
    "inputHidden": false,
    "outputHidden": false
   },
   "outputs": [],
   "source": [
    "### equation 10\n",
    "mapAttPower = mapAtt ** lamb\n",
    "mapAttPowerNorm = mapAttPower / np.sum(mapAttPower)\n",
    "# handle numerical problem 1\n",
    "if np.isnan(mapAttPowerNorm).any():\n",
    "    raise Exception(\n",
    "        \"Value of *lambda* is too large. All of mapAttPower is flushed to zero.\")\n",
    "    # set to uniform?\n",
    "\n",
    "mapInhibPower = mapInhib ** gamma\n",
    "mapInhibPowerNorm = mapInhibPower / np.sum(mapInhibPower)\n",
    "# handle numerical problem 1\n",
    "if np.isnan(mapInhibPowerNorm).any():\n",
    "    raise Exception(\n",
    "        \"Value of *gamma* is too large. All of mapInhibPower is flushed to zero.\")\n",
    "    \n"
   ]
  },
  {
   "cell_type": "code",
   "execution_count": 18,
   "metadata": {
    "collapsed": false,
    "execution": {
     "iopub.execute_input": "2020-03-28T10:36:43.347Z",
     "iopub.status.busy": "2020-03-28T10:36:43.340Z",
     "iopub.status.idle": "2020-03-28T10:36:43.357Z",
     "shell.execute_reply": "2020-03-28T10:36:43.402Z"
    },
    "inputHidden": false,
    "outputHidden": false
   },
   "outputs": [],
   "source": [
    "u = mapAttPowerNorm - inhibStrength * mapInhibPowerNorm     # subtractive inhibition"
   ]
  },
  {
   "cell_type": "code",
   "execution_count": 19,
   "metadata": {
    "collapsed": false,
    "execution": {
     "iopub.execute_input": "2020-03-28T10:36:43.375Z",
     "iopub.status.busy": "2020-03-28T10:36:43.368Z",
     "iopub.status.idle": "2020-03-28T10:36:43.602Z",
     "shell.execute_reply": "2020-03-28T10:36:43.631Z"
    },
    "inputHidden": false,
    "outputHidden": false
   },
   "outputs": [
    {
     "data": {
      "image/png": "[encoded data removed]",
      "text/plain": [
       "<Figure size 432x288 with 3 Axes>"
      ]
     },
     "metadata": {
      "needs_background": "light"
     },
     "output_type": "display_data"
    }
   ],
   "source": [
    "plot_3_maps(ufinal_map=u, inhib_map=mapInhibPowerNorm, att_map=mapAttPowerNorm)"
   ]
  },
  {
   "cell_type": "markdown",
   "metadata": {},
   "source": [
    "In this state u can can have negative elements. Those are now flushed to 0. "
   ]
  },
  {
   "cell_type": "code",
   "execution_count": 20,
   "metadata": {
    "collapsed": false,
    "execution": {
     "iopub.execute_input": "2020-03-28T10:36:43.617Z",
     "iopub.status.busy": "2020-03-28T10:36:43.611Z",
     "iopub.status.idle": "2020-03-28T10:36:43.903Z",
     "shell.execute_reply": "2020-03-28T10:36:43.962Z"
    },
    "inputHidden": false,
    "outputHidden": false
   },
   "outputs": [
    {
     "data": {
      "image/png": "[encoded data removed]",
      "text/plain": [
       "<Figure size 432x288 with 3 Axes>"
      ]
     },
     "metadata": {
      "needs_background": "light"
     },
     "output_type": "display_data"
    }
   ],
   "source": [
    "### equation 12\n",
    "ustar = u\n",
    "ustar[ustar <= 0] = 0\n",
    "# Heiko handles case where sum(ustar)=0 by if else (path3)\n",
    "plot_3_maps(ufinal_map=ustar, inhib_map=mapInhibPowerNorm, att_map=mapAttPowerNorm)"
   ]
  },
  {
   "cell_type": "markdown",
   "metadata": {},
   "source": [
    "Lastly some noise is added through the zeta parameter"
   ]
  },
  {
   "cell_type": "code",
   "execution_count": 21,
   "metadata": {
    "collapsed": false,
    "execution": {
     "iopub.execute_input": "2020-03-28T10:36:43.922Z",
     "iopub.status.busy": "2020-03-28T10:36:43.915Z",
     "iopub.status.idle": "2020-03-28T10:36:43.934Z",
     "shell.execute_reply": "2020-03-28T10:36:43.966Z"
    },
    "inputHidden": false,
    "outputHidden": false
   },
   "outputs": [],
   "source": [
    "### equation 13\n",
    "uFinal = (1 - zeta) * ustar + zeta / np.prod(np.shape(xx))"
   ]
  },
  {
   "cell_type": "code",
   "execution_count": 22,
   "metadata": {
    "collapsed": false,
    "execution": {
     "iopub.execute_input": "2020-03-28T10:36:43.953Z",
     "iopub.status.busy": "2020-03-28T10:36:43.945Z",
     "iopub.status.idle": "2020-03-28T10:36:44.190Z",
     "shell.execute_reply": "2020-03-28T10:36:44.224Z"
    },
    "inputHidden": false,
    "outputHidden": false
   },
   "outputs": [
    {
     "data": {
      "image/png": "[encoded data removed]",
      "text/plain": [
       "<Figure size 432x288 with 3 Axes>"
      ]
     },
     "metadata": {
      "needs_background": "light"
     },
     "output_type": "display_data"
    }
   ],
   "source": [
    "plot_3_maps(ufinal_map=uFinal, inhib_map=mapInhib, att_map=mapAtt)"
   ]
  },
  {
   "cell_type": "markdown",
   "metadata": {},
   "source": [
    "This is the map after the first fixation. We can now continue evolving the map using the above procedure. Instead of passing in the initialization maps, we pass in the evolved maps (the version before the exponent and the noise are added).\n",
    "\n",
    "The `sw.evolve_maps` function takes the steps explicitely shown above to yield the three maps."
   ]
  },
  {
   "cell_type": "code",
   "execution_count": 23,
   "metadata": {
    "collapsed": false,
    "execution": {
     "iopub.execute_input": "2020-03-28T10:36:44.208Z",
     "iopub.status.busy": "2020-03-28T10:36:44.201Z",
     "iopub.status.idle": "2020-03-28T10:36:44.472Z",
     "shell.execute_reply": "2020-03-28T10:36:44.507Z"
    },
    "inputHidden": false,
    "outputHidden": false
   },
   "outputs": [
    {
     "data": {
      "image/png": "[encoded data removed]",
      "text/plain": [
       "<Figure size 432x288 with 3 Axes>"
      ]
     },
     "metadata": {
      "needs_background": "light"
     },
     "output_type": "display_data"
    }
   ],
   "source": [
    "uFinal2, mapInhib2, mapAtt2, _, _ = sw.evolve_maps(path_durR[0:3],                                                          path_x[0:3],\n",
    "                                                   path_y[0:3], \n",
    "                                                   mapAtt, mapInhib, \n",
    "                                                   fix_dens, 2)\n",
    "plot_3_maps(ufinal_map=uFinal2, inhib_map=mapInhib2, att_map=mapAtt2)"
   ]
  },
  {
   "cell_type": "code",
   "execution_count": 24,
   "metadata": {
    "collapsed": false,
    "execution": {
     "iopub.execute_input": "2020-03-28T10:36:44.492Z",
     "iopub.status.busy": "2020-03-28T10:36:44.485Z",
     "iopub.status.idle": "2020-03-28T10:36:44.754Z",
     "shell.execute_reply": "2020-03-28T10:36:44.760Z"
    },
    "inputHidden": false,
    "outputHidden": false
   },
   "outputs": [
    {
     "data": {
      "image/png": "[encoded data removed]",
      "text/plain": [
       "<Figure size 432x288 with 3 Axes>"
      ]
     },
     "metadata": {
      "needs_background": "light"
     },
     "output_type": "display_data"
    }
   ],
   "source": [
    "uFinal3, mapInhib3, mapAtt3, _, _ = sw.evolve_maps(path_durR[1:4],                                                          path_x[1:4],\n",
    "                                                   path_y[1:4], \n",
    "                                                   mapAtt2, mapInhib2, \n",
    "                                                   fix_dens, 2)\n",
    "plot_3_maps(ufinal_map=uFinal3, inhib_map=mapInhib3, att_map=mapAtt3)"
   ]
  },
  {
   "cell_type": "markdown",
   "metadata": {},
   "source": [
    "etc..."
   ]
  }
 ],
 "metadata": {
  "kernel_info": {
   "name": "sw-temp"
  },
  "kernelspec": {
   "display_name": "sw-temp",
   "language": "python",
   "name": "sw-temp"
  },
  "language_info": {
   "codemirror_mode": {
    "name": "ipython",
    "version": 3
   },
   "file_extension": ".py",
   "mimetype": "text/x-python",
   "name": "python",
   "nbconvert_exporter": "python",
   "pygments_lexer": "ipython3",
   "version": "3.8.0"
  },
  "nteract": {
   "version": "0.22.0"
  }
 },
 "nbformat": 4,
 "nbformat_minor": 4
}
