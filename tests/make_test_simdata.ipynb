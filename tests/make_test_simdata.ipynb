{
  "cells": [
    {
      "cell_type": "markdown",
      "source": [
        "# Sim Test Dataset"
      ],
      "metadata": {}
    },
    {
      "cell_type": "code",
      "source": [
        "import os\n",
        "import shutil\n",
        "import sys\n",
        "import numpy as np\n",
        "from matplotlib import pyplot as plt\n",
        "from scenewalk.simulation import simulate_dataset\n",
        "from scenewalk.scenewalk_model_object import scenewalk as scenewalk_obj"
      ],
      "outputs": [],
      "execution_count": 13,
      "metadata": {
        "collapsed": false,
        "outputHidden": false,
        "inputHidden": false,
        "execution": {
          "iopub.status.busy": "2020-04-14T13:26:50.330Z",
          "iopub.execute_input": "2020-04-14T13:26:50.335Z",
          "iopub.status.idle": "2020-04-14T13:26:50.343Z",
          "shell.execute_reply": "2020-04-14T13:26:50.348Z"
        }
      }
    },
    {
      "cell_type": "code",
      "source": [
        "d_range = np.load(\"/Users/lisa/Documents/SFB1294_B05/SceneWalk/SceneWalk_research/DATA/SpatStat/npy/spatstat_range.npy\", allow_pickle=True)\n",
        "dur_sim = np.load(\"/Users/lisa/Documents/SFB1294_B05/SceneWalk/SceneWalk_research/DATA/SpatStat/npy/spatstat_dur.npy\", allow_pickle=True)\n",
        "im_sim = np.load(\"/Users/lisa/Documents/SFB1294_B05/SceneWalk/SceneWalk_research/DATA/SpatStat/npy/spatstat_im.npy\", allow_pickle=True)\n",
        "dens_dat = np.load(\"/Users/lisa/Documents/SFB1294_B05/SceneWalk/SceneWalk_research/DATA/SpatStat/npy/spatstat_densities.npy\", allow_pickle=True)"
      ],
      "outputs": [],
      "execution_count": 17,
      "metadata": {
        "collapsed": false,
        "outputHidden": false,
        "inputHidden": false,
        "execution": {
          "iopub.status.busy": "2020-04-14T13:27:06.275Z",
          "iopub.execute_input": "2020-04-14T13:27:06.280Z",
          "iopub.status.idle": "2020-04-14T13:27:06.289Z",
          "shell.execute_reply": "2020-04-14T13:27:06.295Z"
        }
      }
    },
    {
      "cell_type": "code",
      "source": [
        "dur_sim = dur_sim[0:5]\n",
        "im_sim = im_sim[0:5]"
      ],
      "outputs": [],
      "execution_count": 18,
      "metadata": {
        "collapsed": false,
        "outputHidden": false,
        "inputHidden": false,
        "execution": {
          "iopub.status.busy": "2020-04-14T13:27:07.336Z",
          "iopub.execute_input": "2020-04-14T13:27:07.343Z",
          "iopub.status.idle": "2020-04-14T13:27:07.350Z",
          "shell.execute_reply": "2020-04-14T13:27:07.356Z"
        }
      }
    },
    {
      "cell_type": "code",
      "source": [
        "sw = scenewalk_obj('subtractive', 'zero','off', \"off\", 'off', {'x': d_range[0], 'y': d_range[1]}, {\"exponents\":1})"
      ],
      "outputs": [],
      "execution_count": 22,
      "metadata": {
        "collapsed": false,
        "outputHidden": false,
        "inputHidden": false,
        "execution": {
          "iopub.status.busy": "2020-04-14T13:27:33.235Z",
          "iopub.execute_input": "2020-04-14T13:27:33.241Z",
          "iopub.status.idle": "2020-04-14T13:27:33.249Z",
          "shell.execute_reply": "2020-04-14T13:27:33.253Z"
        }
      }
    },
    {
      "cell_type": "code",
      "source": [
        "sw_params = [1, 0.1, 5, 4, 1, 0.3, 0.01]\n",
        "sw.update_params(sw_params)\n",
        "sw.check_params_for_config()"
      ],
      "outputs": [
        {
          "output_type": "execute_result",
          "execution_count": 23,
          "data": {
            "text/plain": [
              "True"
            ]
          },
          "metadata": {}
        }
      ],
      "execution_count": 23,
      "metadata": {
        "collapsed": false,
        "outputHidden": false,
        "inputHidden": false,
        "execution": {
          "iopub.status.busy": "2020-04-14T13:27:33.588Z",
          "iopub.execute_input": "2020-04-14T13:27:33.593Z",
          "iopub.status.idle": "2020-04-14T13:27:33.606Z",
          "shell.execute_reply": "2020-04-14T13:27:33.610Z"
        }
      }
    },
    {
      "cell_type": "code",
      "source": [
        "sw.get_params()"
      ],
      "outputs": [
        {
          "output_type": "execute_result",
          "execution_count": 24,
          "data": {
            "text/plain": [
              "OrderedDict([('omegaAttention', 1),\n",
              "             ('omegaInhib', 0.1),\n",
              "             ('sigmaAttention', 5),\n",
              "             ('sigmaInhib', 4),\n",
              "             ('gamma', 1),\n",
              "             ('inhibStrength', 0.3),\n",
              "             ('zeta', 0.01)])"
            ]
          },
          "metadata": {}
        }
      ],
      "execution_count": 24,
      "metadata": {
        "collapsed": false,
        "outputHidden": false,
        "inputHidden": false,
        "execution": {
          "iopub.status.busy": "2020-04-14T13:27:34.434Z",
          "iopub.execute_input": "2020-04-14T13:27:34.440Z",
          "iopub.status.idle": "2020-04-14T13:27:34.452Z",
          "shell.execute_reply": "2020-04-14T13:27:34.457Z"
        }
      }
    },
    {
      "cell_type": "code",
      "source": [
        "simname = simulate_dataset.simulate(dur_sim, im_sim, dens_dat, sw, start_loc=\"center\", x_path=None, y_path=None)"
      ],
      "outputs": [],
      "execution_count": 25,
      "metadata": {
        "collapsed": false,
        "outputHidden": false,
        "inputHidden": false,
        "execution": {
          "iopub.status.busy": "2020-04-14T13:27:35.194Z",
          "iopub.execute_input": "2020-04-14T13:27:35.200Z",
          "iopub.status.idle": "2020-04-14T13:27:48.989Z",
          "shell.execute_reply": "2020-04-14T13:27:48.994Z"
        }
      }
    },
    {
      "cell_type": "code",
      "source": [
        "shutil.rmtree('test_simdata')\n",
        "os.rename(simname, 'test_simdata')\n"
      ],
      "outputs": [],
      "execution_count": 26,
      "metadata": {
        "collapsed": false,
        "outputHidden": false,
        "inputHidden": false,
        "execution": {
          "iopub.status.busy": "2020-04-14T13:29:30.379Z",
          "iopub.execute_input": "2020-04-14T13:29:30.385Z",
          "iopub.status.idle": "2020-04-14T13:29:30.394Z",
          "shell.execute_reply": "2020-04-14T13:29:30.399Z"
        }
      }
    },
    {
      "cell_type": "code",
      "source": [
        "os.rename('test_simdata/'+simname[4:]+\"_sim_dur.npy\", 'test_simdata/sim_dur.npy')\n",
        "os.rename('test_simdata/'+simname[4:]+\"_sim_im.npy\", 'test_simdata/sim_im.npy')\n",
        "os.rename('test_simdata/'+simname[4:]+\"_sim_x.npy\", 'test_simdata/sim_x.npy')\n",
        "os.rename('test_simdata/'+simname[4:]+\"_sim_y.npy\", 'test_simdata/sim_y.npy')\n",
        "os.rename('test_simdata/'+simname[4:]+\"_sim_meta.npy\", 'test_simdata/sim_meta.npy')\n",
        "os.rename('test_simdata/'+simname[4:]+\"_sim_range.npy\", 'test_simdata/sim_range.npy')"
      ],
      "outputs": [],
      "execution_count": 27,
      "metadata": {
        "collapsed": false,
        "outputHidden": false,
        "inputHidden": false,
        "execution": {
          "iopub.status.busy": "2020-04-14T13:29:33.740Z",
          "iopub.execute_input": "2020-04-14T13:29:33.745Z",
          "iopub.status.idle": "2020-04-14T13:29:33.752Z",
          "shell.execute_reply": "2020-04-14T13:29:33.760Z"
        }
      }
    },
    {
      "cell_type": "code",
      "source": [
        "np.save('test_simdata/densities.npy', dens_dat)"
      ],
      "outputs": [],
      "execution_count": 28,
      "metadata": {
        "collapsed": false,
        "outputHidden": false,
        "inputHidden": false,
        "execution": {
          "iopub.status.busy": "2020-04-14T13:29:38.172Z",
          "iopub.execute_input": "2020-04-14T13:29:38.179Z",
          "iopub.status.idle": "2020-04-14T13:29:38.190Z",
          "shell.execute_reply": "2020-04-14T13:29:38.203Z"
        }
      }
    },
    {
      "cell_type": "code",
      "source": [
        "x_dat = np.load('test_simdata/sim_x.npy')\n",
        "y_dat = np.load('test_simdata/sim_y.npy')\n",
        "dur_dat = np.load('test_simdata/sim_dur.npy')\n",
        "im_dat = np.load('test_simdata/sim_im.npy')\n",
        "densities_dat = np.load('test_simdata/densities.npy')\n",
        "meta = np.load('test_simdata/sim_meta.npy')\n",
        "dat_range = np.load('test_simdata/sim_range.npy')"
      ],
      "outputs": [
        {
          "output_type": "error",
          "ename": "ValueError",
          "evalue": "Object arrays cannot be loaded when allow_pickle=False",
          "traceback": [
            "\u001b[0;31m---------------------------------------------------------------------------\u001b[0m",
            "\u001b[0;31mValueError\u001b[0m                                Traceback (most recent call last)",
            "\u001b[0;32m<ipython-input-29-9c793766a678>\u001b[0m in \u001b[0;36m<module>\u001b[0;34m\u001b[0m\n\u001b[0;32m----> 1\u001b[0;31m \u001b[0mx_dat\u001b[0m \u001b[0;34m=\u001b[0m \u001b[0mnp\u001b[0m\u001b[0;34m.\u001b[0m\u001b[0mload\u001b[0m\u001b[0;34m(\u001b[0m\u001b[0;34m'test_simdata/sim_x.npy'\u001b[0m\u001b[0;34m)\u001b[0m\u001b[0;34m\u001b[0m\u001b[0;34m\u001b[0m\u001b[0m\n\u001b[0m\u001b[1;32m      2\u001b[0m \u001b[0my_dat\u001b[0m \u001b[0;34m=\u001b[0m \u001b[0mnp\u001b[0m\u001b[0;34m.\u001b[0m\u001b[0mload\u001b[0m\u001b[0;34m(\u001b[0m\u001b[0;34m'test_simdata/sim_y.npy'\u001b[0m\u001b[0;34m)\u001b[0m\u001b[0;34m\u001b[0m\u001b[0;34m\u001b[0m\u001b[0m\n\u001b[1;32m      3\u001b[0m \u001b[0mdur_dat\u001b[0m \u001b[0;34m=\u001b[0m \u001b[0mnp\u001b[0m\u001b[0;34m.\u001b[0m\u001b[0mload\u001b[0m\u001b[0;34m(\u001b[0m\u001b[0;34m'test_simdata/sim_dur.npy'\u001b[0m\u001b[0;34m)\u001b[0m\u001b[0;34m\u001b[0m\u001b[0;34m\u001b[0m\u001b[0m\n\u001b[1;32m      4\u001b[0m \u001b[0mim_dat\u001b[0m \u001b[0;34m=\u001b[0m \u001b[0mnp\u001b[0m\u001b[0;34m.\u001b[0m\u001b[0mload\u001b[0m\u001b[0;34m(\u001b[0m\u001b[0;34m'test_simdata/sim_im.npy'\u001b[0m\u001b[0;34m)\u001b[0m\u001b[0;34m\u001b[0m\u001b[0;34m\u001b[0m\u001b[0m\n\u001b[1;32m      5\u001b[0m \u001b[0mdensities_dat\u001b[0m \u001b[0;34m=\u001b[0m \u001b[0mnp\u001b[0m\u001b[0;34m.\u001b[0m\u001b[0mload\u001b[0m\u001b[0;34m(\u001b[0m\u001b[0;34m'test_simdata/densities.npy'\u001b[0m\u001b[0;34m)\u001b[0m\u001b[0;34m\u001b[0m\u001b[0;34m\u001b[0m\u001b[0m\n",
            "\u001b[0;32m~/Documents/virtual_envs/scenewalk/lib/python3.8/site-packages/numpy/lib/npyio.py\u001b[0m in \u001b[0;36mload\u001b[0;34m(file, mmap_mode, allow_pickle, fix_imports, encoding)\u001b[0m\n\u001b[1;32m    450\u001b[0m                 \u001b[0;32mreturn\u001b[0m \u001b[0mformat\u001b[0m\u001b[0;34m.\u001b[0m\u001b[0mopen_memmap\u001b[0m\u001b[0;34m(\u001b[0m\u001b[0mfile\u001b[0m\u001b[0;34m,\u001b[0m \u001b[0mmode\u001b[0m\u001b[0;34m=\u001b[0m\u001b[0mmmap_mode\u001b[0m\u001b[0;34m)\u001b[0m\u001b[0;34m\u001b[0m\u001b[0;34m\u001b[0m\u001b[0m\n\u001b[1;32m    451\u001b[0m             \u001b[0;32melse\u001b[0m\u001b[0;34m:\u001b[0m\u001b[0;34m\u001b[0m\u001b[0;34m\u001b[0m\u001b[0m\n\u001b[0;32m--> 452\u001b[0;31m                 return format.read_array(fid, allow_pickle=allow_pickle,\n\u001b[0m\u001b[1;32m    453\u001b[0m                                          pickle_kwargs=pickle_kwargs)\n\u001b[1;32m    454\u001b[0m         \u001b[0;32melse\u001b[0m\u001b[0;34m:\u001b[0m\u001b[0;34m\u001b[0m\u001b[0;34m\u001b[0m\u001b[0m\n",
            "\u001b[0;32m~/Documents/virtual_envs/scenewalk/lib/python3.8/site-packages/numpy/lib/format.py\u001b[0m in \u001b[0;36mread_array\u001b[0;34m(fp, allow_pickle, pickle_kwargs)\u001b[0m\n\u001b[1;32m    737\u001b[0m         \u001b[0;31m# The array contained Python objects. We need to unpickle the data.\u001b[0m\u001b[0;34m\u001b[0m\u001b[0;34m\u001b[0m\u001b[0;34m\u001b[0m\u001b[0m\n\u001b[1;32m    738\u001b[0m         \u001b[0;32mif\u001b[0m \u001b[0;32mnot\u001b[0m \u001b[0mallow_pickle\u001b[0m\u001b[0;34m:\u001b[0m\u001b[0;34m\u001b[0m\u001b[0;34m\u001b[0m\u001b[0m\n\u001b[0;32m--> 739\u001b[0;31m             raise ValueError(\"Object arrays cannot be loaded when \"\n\u001b[0m\u001b[1;32m    740\u001b[0m                              \"allow_pickle=False\")\n\u001b[1;32m    741\u001b[0m         \u001b[0;32mif\u001b[0m \u001b[0mpickle_kwargs\u001b[0m \u001b[0;32mis\u001b[0m \u001b[0;32mNone\u001b[0m\u001b[0;34m:\u001b[0m\u001b[0;34m\u001b[0m\u001b[0;34m\u001b[0m\u001b[0m\n",
            "\u001b[0;31mValueError\u001b[0m: Object arrays cannot be loaded when allow_pickle=False"
          ]
        }
      ],
      "execution_count": 29,
      "metadata": {
        "collapsed": false,
        "outputHidden": false,
        "inputHidden": false,
        "execution": {
          "iopub.status.busy": "2020-04-14T13:29:41.467Z",
          "iopub.execute_input": "2020-04-14T13:29:41.473Z",
          "iopub.status.idle": "2020-04-14T13:29:41.488Z",
          "shell.execute_reply": "2020-04-14T13:29:41.508Z"
        }
      }
    },
    {
      "cell_type": "code",
      "source": [
        "print(type(x_dat))\n",
        "print(type(x_dat[0]))\n",
        "print(type(x_dat[0][0]))\n",
        "print(type(x_dat[0][0][0]))"
      ],
      "outputs": [
        {
          "output_type": "error",
          "ename": "NameError",
          "evalue": "name 'x_dat' is not defined",
          "traceback": [
            "\u001b[0;31m---------------------------------------------------------------------------\u001b[0m",
            "\u001b[0;31mNameError\u001b[0m                                 Traceback (most recent call last)",
            "\u001b[0;32m<ipython-input-30-60eb6901aefa>\u001b[0m in \u001b[0;36m<module>\u001b[0;34m\u001b[0m\n\u001b[0;32m----> 1\u001b[0;31m \u001b[0mprint\u001b[0m\u001b[0;34m(\u001b[0m\u001b[0mtype\u001b[0m\u001b[0;34m(\u001b[0m\u001b[0mx_dat\u001b[0m\u001b[0;34m)\u001b[0m\u001b[0;34m)\u001b[0m\u001b[0;34m\u001b[0m\u001b[0;34m\u001b[0m\u001b[0m\n\u001b[0m\u001b[1;32m      2\u001b[0m \u001b[0mprint\u001b[0m\u001b[0;34m(\u001b[0m\u001b[0mtype\u001b[0m\u001b[0;34m(\u001b[0m\u001b[0mx_dat\u001b[0m\u001b[0;34m[\u001b[0m\u001b[0;36m0\u001b[0m\u001b[0;34m]\u001b[0m\u001b[0;34m)\u001b[0m\u001b[0;34m)\u001b[0m\u001b[0;34m\u001b[0m\u001b[0;34m\u001b[0m\u001b[0m\n\u001b[1;32m      3\u001b[0m \u001b[0mprint\u001b[0m\u001b[0;34m(\u001b[0m\u001b[0mtype\u001b[0m\u001b[0;34m(\u001b[0m\u001b[0mx_dat\u001b[0m\u001b[0;34m[\u001b[0m\u001b[0;36m0\u001b[0m\u001b[0;34m]\u001b[0m\u001b[0;34m[\u001b[0m\u001b[0;36m0\u001b[0m\u001b[0;34m]\u001b[0m\u001b[0;34m)\u001b[0m\u001b[0;34m)\u001b[0m\u001b[0;34m\u001b[0m\u001b[0;34m\u001b[0m\u001b[0m\n\u001b[1;32m      4\u001b[0m \u001b[0mprint\u001b[0m\u001b[0;34m(\u001b[0m\u001b[0mtype\u001b[0m\u001b[0;34m(\u001b[0m\u001b[0mx_dat\u001b[0m\u001b[0;34m[\u001b[0m\u001b[0;36m0\u001b[0m\u001b[0;34m]\u001b[0m\u001b[0;34m[\u001b[0m\u001b[0;36m0\u001b[0m\u001b[0;34m]\u001b[0m\u001b[0;34m[\u001b[0m\u001b[0;36m0\u001b[0m\u001b[0;34m]\u001b[0m\u001b[0;34m)\u001b[0m\u001b[0;34m)\u001b[0m\u001b[0;34m\u001b[0m\u001b[0;34m\u001b[0m\u001b[0m\n",
            "\u001b[0;31mNameError\u001b[0m: name 'x_dat' is not defined"
          ]
        }
      ],
      "execution_count": 30,
      "metadata": {
        "collapsed": false,
        "outputHidden": false,
        "inputHidden": false,
        "execution": {
          "iopub.status.busy": "2020-04-14T13:29:49.742Z",
          "iopub.execute_input": "2020-04-14T13:29:49.749Z",
          "iopub.status.idle": "2020-04-14T13:29:49.763Z",
          "shell.execute_reply": "2020-04-14T13:29:49.768Z"
        }
      }
    },
    {
      "cell_type": "code",
      "source": [
        "print(type(dur_dat))\n",
        "print(type(dur_dat[0]))\n",
        "print(type(dur_dat[0][0]))\n",
        "print(type(dur_dat[0][0][0]))"
      ],
      "outputs": [
        {
          "output_type": "error",
          "ename": "NameError",
          "evalue": "name 'dur_dat' is not defined",
          "traceback": [
            "\u001b[0;31m---------------------------------------------------------------------------\u001b[0m",
            "\u001b[0;31mNameError\u001b[0m                                 Traceback (most recent call last)",
            "\u001b[0;32m<ipython-input-31-6429de5b5b77>\u001b[0m in \u001b[0;36m<module>\u001b[0;34m\u001b[0m\n\u001b[0;32m----> 1\u001b[0;31m \u001b[0mprint\u001b[0m\u001b[0;34m(\u001b[0m\u001b[0mtype\u001b[0m\u001b[0;34m(\u001b[0m\u001b[0mdur_dat\u001b[0m\u001b[0;34m)\u001b[0m\u001b[0;34m)\u001b[0m\u001b[0;34m\u001b[0m\u001b[0;34m\u001b[0m\u001b[0m\n\u001b[0m\u001b[1;32m      2\u001b[0m \u001b[0mprint\u001b[0m\u001b[0;34m(\u001b[0m\u001b[0mtype\u001b[0m\u001b[0;34m(\u001b[0m\u001b[0mdur_dat\u001b[0m\u001b[0;34m[\u001b[0m\u001b[0;36m0\u001b[0m\u001b[0;34m]\u001b[0m\u001b[0;34m)\u001b[0m\u001b[0;34m)\u001b[0m\u001b[0;34m\u001b[0m\u001b[0;34m\u001b[0m\u001b[0m\n\u001b[1;32m      3\u001b[0m \u001b[0mprint\u001b[0m\u001b[0;34m(\u001b[0m\u001b[0mtype\u001b[0m\u001b[0;34m(\u001b[0m\u001b[0mdur_dat\u001b[0m\u001b[0;34m[\u001b[0m\u001b[0;36m0\u001b[0m\u001b[0;34m]\u001b[0m\u001b[0;34m[\u001b[0m\u001b[0;36m0\u001b[0m\u001b[0;34m]\u001b[0m\u001b[0;34m)\u001b[0m\u001b[0;34m)\u001b[0m\u001b[0;34m\u001b[0m\u001b[0;34m\u001b[0m\u001b[0m\n\u001b[1;32m      4\u001b[0m \u001b[0mprint\u001b[0m\u001b[0;34m(\u001b[0m\u001b[0mtype\u001b[0m\u001b[0;34m(\u001b[0m\u001b[0mdur_dat\u001b[0m\u001b[0;34m[\u001b[0m\u001b[0;36m0\u001b[0m\u001b[0;34m]\u001b[0m\u001b[0;34m[\u001b[0m\u001b[0;36m0\u001b[0m\u001b[0;34m]\u001b[0m\u001b[0;34m[\u001b[0m\u001b[0;36m0\u001b[0m\u001b[0;34m]\u001b[0m\u001b[0;34m)\u001b[0m\u001b[0;34m)\u001b[0m\u001b[0;34m\u001b[0m\u001b[0;34m\u001b[0m\u001b[0m\n",
            "\u001b[0;31mNameError\u001b[0m: name 'dur_dat' is not defined"
          ]
        }
      ],
      "execution_count": 31,
      "metadata": {
        "collapsed": false,
        "outputHidden": false,
        "inputHidden": false,
        "execution": {
          "iopub.status.busy": "2020-04-14T13:29:50.704Z",
          "iopub.execute_input": "2020-04-14T13:29:50.711Z",
          "iopub.status.idle": "2020-04-14T13:29:50.724Z",
          "shell.execute_reply": "2020-04-14T13:29:50.731Z"
        }
      }
    },
    {
      "cell_type": "code",
      "source": [
        "print(type(im_dat))\n",
        "print(type(im_dat[0]))\n",
        "print(type(im_dat[0][0]))\n",
        "print(type(im_dat[0][0][0]))"
      ],
      "outputs": [
        {
          "output_type": "stream",
          "name": "stdout",
          "text": [
            "<class 'numpy.ndarray'>\n",
            "<class 'numpy.ndarray'>\n",
            "<class 'numpy.ndarray'>\n",
            "<class 'numpy.int64'>\n"
          ]
        }
      ],
      "execution_count": 14,
      "metadata": {
        "collapsed": false,
        "outputHidden": false,
        "inputHidden": false
      }
    },
    {
      "cell_type": "code",
      "source": [
        "im_dat = np.asarray([np.asarray(el) for el in im_dat])"
      ],
      "outputs": [],
      "execution_count": null,
      "metadata": {
        "collapsed": false,
        "outputHidden": false,
        "inputHidden": false
      }
    },
    {
      "cell_type": "code",
      "source": [
        "print(type(im_dat))\n",
        "print(type(im_dat[0]))\n",
        "print(type(im_dat[0][0]))\n",
        "print(type(im_dat[0][0][0]))"
      ],
      "outputs": [],
      "execution_count": null,
      "metadata": {
        "collapsed": false,
        "outputHidden": false,
        "inputHidden": false
      }
    },
    {
      "cell_type": "code",
      "source": [
        "dat_range"
      ],
      "outputs": [],
      "execution_count": null,
      "metadata": {
        "collapsed": false,
        "outputHidden": false,
        "inputHidden": false
      }
    },
    {
      "cell_type": "code",
      "source": [
        "sw.whoami()"
      ],
      "outputs": [],
      "execution_count": null,
      "metadata": {
        "collapsed": false,
        "outputHidden": false,
        "inputHidden": false
      }
    },
    {
      "cell_type": "code",
      "source": [],
      "outputs": [],
      "execution_count": null,
      "metadata": {
        "collapsed": false,
        "outputHidden": false,
        "inputHidden": false
      }
    },
    {
      "cell_type": "code",
      "source": [
        "dur_dat = np.load(\"/Users/lisa/Documents/SFB1294_B05/SceneWalk/Scenewalk_python/DATA/SpatStat/npy/spatstat_dur.npy\")\n",
        "im_dat = np.load(\"/Users/lisa/Documents/SFB1294_B05/SceneWalk/Scenewalk_python/DATA/SpatStat/npy/spatstat_im.npy\")\n",
        "x_dat = np.load(\"/Users/lisa/Documents/SFB1294_B05/SceneWalk/Scenewalk_python/DATA/SpatStat/npy/spatstat_x.npy\")\n",
        "y_dat = np.load(\"/Users/lisa/Documents/SFB1294_B05/SceneWalk/Scenewalk_python/DATA/SpatStat/npy/spatstat_y.npy\")"
      ],
      "outputs": [],
      "execution_count": null,
      "metadata": {
        "collapsed": false,
        "outputHidden": false,
        "inputHidden": false
      }
    },
    {
      "cell_type": "code",
      "source": [
        "print(\"____\")\n",
        "print(type(x_dat))\n",
        "print(type(x_dat[0]))\n",
        "print(type(x_dat[0][0]))\n",
        "print(type(x_dat[0][0][0]))\n",
        "print(\"____\")\n",
        "print(type(y_dat))\n",
        "print(type(y_dat[0]))\n",
        "print(type(y_dat[0][0]))\n",
        "print(type(y_dat[0][0][0]))\n",
        "print(\"____\")\n",
        "print(type(im_dat))\n",
        "print(type(im_dat[0]))\n",
        "print(type(im_dat[0][0]))\n",
        "print(type(im_dat[0][0][0]))\n",
        "print(\"____\")\n",
        "print(type(dur_dat))\n",
        "print(type(dur_dat[0]))\n",
        "print(type(dur_dat[0][0]))\n",
        "print(type(dur_dat[0][0][0]))"
      ],
      "outputs": [],
      "execution_count": null,
      "metadata": {
        "collapsed": false,
        "outputHidden": false,
        "inputHidden": false
      }
    },
    {
      "cell_type": "code",
      "source": [
        "x_dat[input_indices], y_dat[input_indices], dur_dat[input_indices], im_dat[input_indices]"
      ],
      "outputs": [],
      "execution_count": null,
      "metadata": {
        "collapsed": false,
        "outputHidden": false,
        "inputHidden": false
      }
    },
    {
      "cell_type": "code",
      "source": [
        "# Load Data\n",
        "x_dat = np.load('test_simdata/sim_x.npy')\n",
        "y_dat = np.load('test_simdata/sim_y.npy')\n",
        "dur_dat = np.load('test_simdata/sim_dur.npy')\n",
        "im_dat = np.load('test_simdata/sim_im.npy')\n",
        "densities_dat = np.load('test_simdata/densities.npy')\n",
        "# # meta = np.load('tests/test_simdata/sim_meta.npy')\n",
        "dat_range = np.load('test_simdata/sim_range.npy')"
      ],
      "outputs": [],
      "execution_count": null,
      "metadata": {
        "collapsed": false,
        "outputHidden": false,
        "inputHidden": false
      }
    },
    {
      "cell_type": "code",
      "source": [
        "print(\"____\")\n",
        "print(type(x_dat))\n",
        "print(type(x_dat[0]))\n",
        "print(type(x_dat[0][0]))\n",
        "print(type(x_dat[0][0][0]))\n",
        "print(\"____\")\n",
        "print(type(y_dat))\n",
        "print(type(y_dat[0]))\n",
        "print(type(y_dat[0][0]))\n",
        "print(type(y_dat[0][0][0]))\n",
        "print(\"____\")\n",
        "print(type(im_dat))\n",
        "print(type(im_dat[0]))\n",
        "print(type(im_dat[0][0]))\n",
        "print(type(im_dat[0][0][0]))\n",
        "print(\"____\")\n",
        "print(type(dur_dat))\n",
        "print(type(dur_dat[0]))\n",
        "print(type(dur_dat[0][0]))\n",
        "print(type(dur_dat[0][0][0]))"
      ],
      "outputs": [],
      "execution_count": null,
      "metadata": {
        "collapsed": false,
        "outputHidden": false,
        "inputHidden": false
      }
    },
    {
      "cell_type": "code",
      "source": [
        "input_indices = [1,2,3]\n",
        "try_l = dur_dat[0]\n",
        "try_l[input_indices]"
      ],
      "outputs": [],
      "execution_count": null,
      "metadata": {
        "collapsed": false,
        "outputHidden": false,
        "inputHidden": false
      }
    },
    {
      "cell_type": "code",
      "source": [
        "aa = np.asarray([])"
      ],
      "outputs": [],
      "execution_count": null,
      "metadata": {
        "collapsed": false,
        "outputHidden": false,
        "inputHidden": false
      }
    },
    {
      "cell_type": "code",
      "source": [
        "aa.append(2)"
      ],
      "outputs": [],
      "execution_count": null,
      "metadata": {
        "collapsed": false,
        "outputHidden": false,
        "inputHidden": false
      }
    },
    {
      "cell_type": "code",
      "source": [
        "dur_dat = np.load(\"/Users/lisa/Documents/SFB1294_B05/SceneWalk/Scenewalk_python/DATA/corpusData/npy/corpus_dur.npy\")\n",
        "im_dat = np.load(\"/Users/lisa/Documents/SFB1294_B05/SceneWalk/Scenewalk_python/DATA/corpusData/npy/corpus_im.npy\")\n",
        "x_dat = np.load(\"/Users/lisa/Documents/SFB1294_B05/SceneWalk/Scenewalk_python/DATA/corpusData/npy/corpus_x.npy\")\n",
        "y_dat = np.load(\"/Users/lisa/Documents/SFB1294_B05/SceneWalk/Scenewalk_python/DATA/corpusData/npy/corpus_y.npy\")"
      ],
      "outputs": [],
      "execution_count": null,
      "metadata": {
        "collapsed": false,
        "outputHidden": false,
        "inputHidden": false
      }
    },
    {
      "cell_type": "code",
      "source": [],
      "outputs": [],
      "execution_count": null,
      "metadata": {
        "collapsed": false,
        "outputHidden": false,
        "inputHidden": false
      }
    }
  ],
  "metadata": {
    "kernel_info": {
      "name": "python3"
    },
    "language_info": {
      "name": "python",
      "version": "3.8.0",
      "mimetype": "text/x-python",
      "codemirror_mode": {
        "name": "ipython",
        "version": 3
      },
      "pygments_lexer": "ipython3",
      "nbconvert_exporter": "python",
      "file_extension": ".py"
    },
    "kernelspec": {
      "name": "python3",
      "language": "python",
      "display_name": "Python 3"
    },
    "nteract": {
      "version": "0.22.4"
    }
  },
  "nbformat": 4,
  "nbformat_minor": 4
}