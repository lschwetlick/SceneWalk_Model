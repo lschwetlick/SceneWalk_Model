{
  "cells": [
    {
      "cell_type": "markdown",
      "source": [
        "# Sim Test Dataset"
      ],
      "metadata": {}
    },
    {
      "cell_type": "code",
      "source": [
        "import os\n",
        "import shutil\n",
        "import sys\n",
        "sys.path.append(\"..\") # Adds higher directory to python modules path.\n",
        "import numpy as np\n",
        "from scenewalk_model_object import scenewalk as scenewalk_obj\n",
        "from matplotlib import pyplot as plt\n",
        "from simulation import simulate_dataset"
      ],
      "outputs": [],
      "execution_count": 1,
      "metadata": {
        "collapsed": false,
        "outputHidden": false,
        "inputHidden": false
      }
    },
    {
      "cell_type": "code",
      "source": [
        "d_range = np.load(\"/Users/lisa/Documents/SFB1294_B05/SceneWalk/Scenewalk_python/DATA/SpatStat/npy/spatstat_range.npy\")\n",
        "dur_sim = np.load(\"/Users/lisa/Documents/SFB1294_B05/SceneWalk/Scenewalk_python/DATA/SpatStat/npy/spatstat_dur.npy\")\n",
        "im_sim = np.load(\"/Users/lisa/Documents/SFB1294_B05/SceneWalk/Scenewalk_python/DATA/SpatStat/npy/spatstat_im.npy\")\n",
        "dens_dat = np.load(\"/Users/lisa/Documents/SFB1294_B05/SceneWalk/Scenewalk_python/DATA/SpatStat/npy/spatstat_densities.npy\")"
      ],
      "outputs": [],
      "execution_count": 2,
      "metadata": {
        "collapsed": false,
        "outputHidden": false,
        "inputHidden": false
      }
    },
    {
      "cell_type": "code",
      "source": [
        "dur_sim = dur_sim[0:5]\n",
        "im_sim = im_sim[0:5]"
      ],
      "outputs": [],
      "execution_count": 3,
      "metadata": {
        "collapsed": false,
        "outputHidden": false,
        "inputHidden": false
      }
    },
    {
      "cell_type": "code",
      "source": [
        "sw = scenewalk_obj('subtractive', 'zero','off', 1, 'off', {'x': d_range[0], 'y': d_range[1]})"
      ],
      "outputs": [],
      "execution_count": 4,
      "metadata": {
        "collapsed": false,
        "outputHidden": false,
        "inputHidden": false
      }
    },
    {
      "cell_type": "code",
      "source": [
        "sw_params = [1, 0.1, 5, 4, 1, 0.3, 0.01]\n",
        "sw.update_params(sw_params)\n",
        "sw.check_params_for_config()"
      ],
      "outputs": [
        {
          "output_type": "execute_result",
          "execution_count": 5,
          "data": {
            "text/plain": [
              "True"
            ]
          },
          "metadata": {}
        }
      ],
      "execution_count": 5,
      "metadata": {
        "collapsed": false,
        "outputHidden": false,
        "inputHidden": false
      }
    },
    {
      "cell_type": "code",
      "source": [
        "sw.get_params()"
      ],
      "outputs": [
        {
          "output_type": "execute_result",
          "execution_count": 6,
          "data": {
            "text/plain": [
              "OrderedDict([('omegaAttention', 1),\n",
              "             ('omegaInhib', 0.1),\n",
              "             ('sigmaAttention', 5),\n",
              "             ('sigmaInhib', 4),\n",
              "             ('gamma', 1),\n",
              "             ('inhibStrength', 0.3),\n",
              "             ('zeta', 0.01)])"
            ]
          },
          "metadata": {}
        }
      ],
      "execution_count": 6,
      "metadata": {
        "collapsed": false,
        "outputHidden": false,
        "inputHidden": false
      }
    },
    {
      "cell_type": "code",
      "source": [
        "simname = simulate_dataset.simulate(dur_sim, im_sim, dens_dat, sw, start_loc=\"center\", x_path=None, y_path=None)"
      ],
      "outputs": [
        {
          "output_type": "stream",
          "name": "stdout",
          "text": [
            "sub 0\n",
            "sub 1\n",
            "sub 2\n",
            "sub 3\n",
            "sub 4\n"
          ]
        }
      ],
      "execution_count": 7,
      "metadata": {
        "collapsed": false,
        "outputHidden": false,
        "inputHidden": false
      }
    },
    {
      "cell_type": "code",
      "source": [
        "shutil.rmtree('test_simdata')\n",
        "os.rename(simname, 'test_simdata')\n"
      ],
      "outputs": [],
      "execution_count": 8,
      "metadata": {
        "collapsed": false,
        "outputHidden": false,
        "inputHidden": false
      }
    },
    {
      "cell_type": "code",
      "source": [
        "os.rename('test_simdata/'+simname[4:]+\"_sim_dur.npy\", 'test_simdata/sim_dur.npy')\n",
        "os.rename('test_simdata/'+simname[4:]+\"_sim_im.npy\", 'test_simdata/sim_im.npy')\n",
        "os.rename('test_simdata/'+simname[4:]+\"_sim_x.npy\", 'test_simdata/sim_x.npy')\n",
        "os.rename('test_simdata/'+simname[4:]+\"_sim_y.npy\", 'test_simdata/sim_y.npy')\n",
        "os.rename('test_simdata/'+simname[4:]+\"_sim_meta.npy\", 'test_simdata/sim_meta.npy')\n",
        "os.rename('test_simdata/'+simname[4:]+\"_sim_range.npy\", 'test_simdata/sim_range.npy')"
      ],
      "outputs": [],
      "execution_count": 9,
      "metadata": {
        "collapsed": false,
        "outputHidden": false,
        "inputHidden": false
      }
    },
    {
      "cell_type": "code",
      "source": [
        "np.save('test_simdata/densities.npy', dens_dat)"
      ],
      "outputs": [],
      "execution_count": 10,
      "metadata": {
        "collapsed": false,
        "outputHidden": false,
        "inputHidden": false
      }
    },
    {
      "cell_type": "code",
      "source": [
        "x_dat = np.load('test_simdata/sim_x.npy')\n",
        "y_dat = np.load('test_simdata/sim_y.npy')\n",
        "dur_dat = np.load('test_simdata/sim_dur.npy')\n",
        "im_dat = np.load('test_simdata/sim_im.npy')\n",
        "densities_dat = np.load('test_simdata/densities.npy')\n",
        "meta = np.load('test_simdata/sim_meta.npy')\n",
        "dat_range = np.load('test_simdata/sim_range.npy')"
      ],
      "outputs": [],
      "execution_count": 11,
      "metadata": {
        "collapsed": false,
        "outputHidden": false,
        "inputHidden": false
      }
    },
    {
      "cell_type": "code",
      "source": [
        "print(type(x_dat))\n",
        "print(type(x_dat[0]))\n",
        "print(type(x_dat[0][0]))\n",
        "print(type(x_dat[0][0][0]))"
      ],
      "outputs": [
        {
          "output_type": "stream",
          "name": "stdout",
          "text": [
            "<class 'numpy.ndarray'>\n",
            "<class 'numpy.ndarray'>\n",
            "<class 'numpy.ndarray'>\n",
            "<class 'numpy.float64'>\n"
          ]
        }
      ],
      "execution_count": 12,
      "metadata": {
        "collapsed": false,
        "outputHidden": false,
        "inputHidden": false
      }
    },
    {
      "cell_type": "code",
      "source": [
        "print(type(dur_dat))\n",
        "print(type(dur_dat[0]))\n",
        "print(type(dur_dat[0][0]))\n",
        "print(type(dur_dat[0][0][0]))"
      ],
      "outputs": [
        {
          "output_type": "stream",
          "name": "stdout",
          "text": [
            "<class 'numpy.ndarray'>\n",
            "<class 'numpy.ndarray'>\n",
            "<class 'numpy.ndarray'>\n",
            "<class 'numpy.float64'>\n"
          ]
        }
      ],
      "execution_count": 13,
      "metadata": {
        "collapsed": false,
        "outputHidden": false,
        "inputHidden": false
      }
    },
    {
      "cell_type": "code",
      "source": [
        "print(type(im_dat))\n",
        "print(type(im_dat[0]))\n",
        "print(type(im_dat[0][0]))\n",
        "print(type(im_dat[0][0][0]))"
      ],
      "outputs": [
        {
          "output_type": "stream",
          "name": "stdout",
          "text": [
            "<class 'numpy.ndarray'>\n",
            "<class 'numpy.ndarray'>\n",
            "<class 'numpy.ndarray'>\n",
            "<class 'numpy.int64'>\n"
          ]
        }
      ],
      "execution_count": 14,
      "metadata": {
        "collapsed": false,
        "outputHidden": false,
        "inputHidden": false
      }
    },
    {
      "cell_type": "code",
      "source": [
        "im_dat = np.asarray([np.asarray(el) for el in im_dat])"
      ],
      "outputs": [],
      "execution_count": null,
      "metadata": {
        "collapsed": false,
        "outputHidden": false,
        "inputHidden": false
      }
    },
    {
      "cell_type": "code",
      "source": [
        "print(type(im_dat))\n",
        "print(type(im_dat[0]))\n",
        "print(type(im_dat[0][0]))\n",
        "print(type(im_dat[0][0][0]))"
      ],
      "outputs": [],
      "execution_count": null,
      "metadata": {
        "collapsed": false,
        "outputHidden": false,
        "inputHidden": false
      }
    },
    {
      "cell_type": "code",
      "source": [
        "dat_range"
      ],
      "outputs": [],
      "execution_count": null,
      "metadata": {
        "collapsed": false,
        "outputHidden": false,
        "inputHidden": false
      }
    },
    {
      "cell_type": "code",
      "source": [
        "sw.whoami()"
      ],
      "outputs": [],
      "execution_count": null,
      "metadata": {
        "collapsed": false,
        "outputHidden": false,
        "inputHidden": false
      }
    },
    {
      "cell_type": "code",
      "source": [],
      "outputs": [],
      "execution_count": null,
      "metadata": {
        "collapsed": false,
        "outputHidden": false,
        "inputHidden": false
      }
    },
    {
      "cell_type": "code",
      "source": [
        "dur_dat = np.load(\"/Users/lisa/Documents/SFB1294_B05/SceneWalk/Scenewalk_python/DATA/SpatStat/npy/spatstat_dur.npy\")\n",
        "im_dat = np.load(\"/Users/lisa/Documents/SFB1294_B05/SceneWalk/Scenewalk_python/DATA/SpatStat/npy/spatstat_im.npy\")\n",
        "x_dat = np.load(\"/Users/lisa/Documents/SFB1294_B05/SceneWalk/Scenewalk_python/DATA/SpatStat/npy/spatstat_x.npy\")\n",
        "y_dat = np.load(\"/Users/lisa/Documents/SFB1294_B05/SceneWalk/Scenewalk_python/DATA/SpatStat/npy/spatstat_y.npy\")"
      ],
      "outputs": [],
      "execution_count": null,
      "metadata": {
        "collapsed": false,
        "outputHidden": false,
        "inputHidden": false
      }
    },
    {
      "cell_type": "code",
      "source": [
        "print(\"____\")\n",
        "print(type(x_dat))\n",
        "print(type(x_dat[0]))\n",
        "print(type(x_dat[0][0]))\n",
        "print(type(x_dat[0][0][0]))\n",
        "print(\"____\")\n",
        "print(type(y_dat))\n",
        "print(type(y_dat[0]))\n",
        "print(type(y_dat[0][0]))\n",
        "print(type(y_dat[0][0][0]))\n",
        "print(\"____\")\n",
        "print(type(im_dat))\n",
        "print(type(im_dat[0]))\n",
        "print(type(im_dat[0][0]))\n",
        "print(type(im_dat[0][0][0]))\n",
        "print(\"____\")\n",
        "print(type(dur_dat))\n",
        "print(type(dur_dat[0]))\n",
        "print(type(dur_dat[0][0]))\n",
        "print(type(dur_dat[0][0][0]))"
      ],
      "outputs": [],
      "execution_count": null,
      "metadata": {
        "collapsed": false,
        "outputHidden": false,
        "inputHidden": false
      }
    },
    {
      "cell_type": "code",
      "source": [
        "x_dat[input_indices], y_dat[input_indices], dur_dat[input_indices], im_dat[input_indices]"
      ],
      "outputs": [],
      "execution_count": null,
      "metadata": {
        "collapsed": false,
        "outputHidden": false,
        "inputHidden": false
      }
    },
    {
      "cell_type": "code",
      "source": [
        "# Load Data\n",
        "x_dat = np.load('test_simdata/sim_x.npy')\n",
        "y_dat = np.load('test_simdata/sim_y.npy')\n",
        "dur_dat = np.load('test_simdata/sim_dur.npy')\n",
        "im_dat = np.load('test_simdata/sim_im.npy')\n",
        "densities_dat = np.load('test_simdata/densities.npy')\n",
        "# # meta = np.load('tests/test_simdata/sim_meta.npy')\n",
        "dat_range = np.load('test_simdata/sim_range.npy')"
      ],
      "outputs": [],
      "execution_count": null,
      "metadata": {
        "collapsed": false,
        "outputHidden": false,
        "inputHidden": false
      }
    },
    {
      "cell_type": "code",
      "source": [
        "print(\"____\")\n",
        "print(type(x_dat))\n",
        "print(type(x_dat[0]))\n",
        "print(type(x_dat[0][0]))\n",
        "print(type(x_dat[0][0][0]))\n",
        "print(\"____\")\n",
        "print(type(y_dat))\n",
        "print(type(y_dat[0]))\n",
        "print(type(y_dat[0][0]))\n",
        "print(type(y_dat[0][0][0]))\n",
        "print(\"____\")\n",
        "print(type(im_dat))\n",
        "print(type(im_dat[0]))\n",
        "print(type(im_dat[0][0]))\n",
        "print(type(im_dat[0][0][0]))\n",
        "print(\"____\")\n",
        "print(type(dur_dat))\n",
        "print(type(dur_dat[0]))\n",
        "print(type(dur_dat[0][0]))\n",
        "print(type(dur_dat[0][0][0]))"
      ],
      "outputs": [],
      "execution_count": null,
      "metadata": {
        "collapsed": false,
        "outputHidden": false,
        "inputHidden": false
      }
    },
    {
      "cell_type": "code",
      "source": [
        "input_indices = [1,2,3]\n",
        "try_l = dur_dat[0]\n",
        "try_l[input_indices]"
      ],
      "outputs": [],
      "execution_count": null,
      "metadata": {
        "collapsed": false,
        "outputHidden": false,
        "inputHidden": false
      }
    },
    {
      "cell_type": "code",
      "source": [
        "aa = np.asarray([])"
      ],
      "outputs": [],
      "execution_count": null,
      "metadata": {
        "collapsed": false,
        "outputHidden": false,
        "inputHidden": false
      }
    },
    {
      "cell_type": "code",
      "source": [
        "aa.append(2)"
      ],
      "outputs": [],
      "execution_count": null,
      "metadata": {
        "collapsed": false,
        "outputHidden": false,
        "inputHidden": false
      }
    },
    {
      "cell_type": "code",
      "source": [
        "dur_dat = np.load(\"/Users/lisa/Documents/SFB1294_B05/SceneWalk/Scenewalk_python/DATA/corpusData/npy/corpus_dur.npy\")\n",
        "im_dat = np.load(\"/Users/lisa/Documents/SFB1294_B05/SceneWalk/Scenewalk_python/DATA/corpusData/npy/corpus_im.npy\")\n",
        "x_dat = np.load(\"/Users/lisa/Documents/SFB1294_B05/SceneWalk/Scenewalk_python/DATA/corpusData/npy/corpus_x.npy\")\n",
        "y_dat = np.load(\"/Users/lisa/Documents/SFB1294_B05/SceneWalk/Scenewalk_python/DATA/corpusData/npy/corpus_y.npy\")"
      ],
      "outputs": [],
      "execution_count": null,
      "metadata": {
        "collapsed": false,
        "outputHidden": false,
        "inputHidden": false
      }
    },
    {
      "cell_type": "code",
      "source": [],
      "outputs": [],
      "execution_count": null,
      "metadata": {
        "collapsed": false,
        "outputHidden": false,
        "inputHidden": false
      }
    }
  ],
  "metadata": {
    "kernel_info": {
      "name": "python3"
    },
    "language_info": {
      "name": "python",
      "version": "3.6.3",
      "mimetype": "text/x-python",
      "codemirror_mode": {
        "name": "ipython",
        "version": 3
      },
      "pygments_lexer": "ipython3",
      "nbconvert_exporter": "python",
      "file_extension": ".py"
    },
    "kernelspec": {
      "name": "python3",
      "language": "python",
      "display_name": "Python 3"
    },
    "nteract": {
      "version": "0.12.3"
    }
  },
  "nbformat": 4,
  "nbformat_minor": 4
}