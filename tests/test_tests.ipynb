{
  "cells": [
    {
      "cell_type": "code",
      "source": [
        "import sys\n",
        "from collections import OrderedDict\n",
        "sys.path.append(\"..\") # Adds higher directory to python modules path.\n",
        "import numpy as np\n",
        "from scenewalk_model_object import scenewalk as scenewalk_obj\n",
        "import scenewalk_model as scenewalkfunc\n",
        "from matplotlib import pyplot as plt"
      ],
      "outputs": [],
      "execution_count": 1,
      "metadata": {
        "collapsed": false,
        "outputHidden": false,
        "inputHidden": false
      }
    },
    {
      "cell_type": "code",
      "source": [
        "fix_dens = np.load('emp_dens.npy')"
      ],
      "outputs": [],
      "execution_count": 2,
      "metadata": {
        "collapsed": false,
        "outputHidden": false,
        "inputHidden": false
      }
    },
    {
      "cell_type": "code",
      "source": [
        "d_range = np.load(\"/Users/lisa/Documents/SFB1294_B05/SceneWalk/Scenewalk_python/DATA/SpatStat/npy_short/spatstat_range.npy\")\n",
        "dur_sim = np.load(\"/Users/lisa/Documents/SFB1294_B05/SceneWalk/Scenewalk_python/DATA/SpatStat/npy_short/spatstat_dur.npy\")\n",
        "x_sim = np.load(\"/Users/lisa/Documents/SFB1294_B05/SceneWalk/Scenewalk_python/DATA/SpatStat/npy_short/spatstat_x.npy\")\n",
        "y_sim = np.load(\"/Users/lisa/Documents/SFB1294_B05/SceneWalk/Scenewalk_python/DATA/SpatStat/npy_short/spatstat_y.npy\")\n",
        "im_sim = np.load(\"/Users/lisa/Documents/SFB1294_B05/SceneWalk/Scenewalk_python/DATA/SpatStat/npy_short/spatstat_im.npy\")\n",
        "dens_dat = np.load(\"/Users/lisa/Documents/SFB1294_B05/SceneWalk/Scenewalk_python/DATA/SpatStat/npy_short/spatstat_densities.npy\")"
      ],
      "outputs": [],
      "execution_count": 3,
      "metadata": {
        "collapsed": false,
        "outputHidden": false,
        "inputHidden": false
      }
    },
    {
      "cell_type": "code",
      "source": [
        "d_range"
      ],
      "outputs": [
        {
          "output_type": "execute_result",
          "execution_count": 4,
          "data": {
            "text/plain": [
              "array([[  1.03585769,  32.1115885 ],\n",
              "       [  0.82868615,  25.6892708 ]])"
            ]
          },
          "metadata": {}
        }
      ],
      "execution_count": 4,
      "metadata": {
        "collapsed": false,
        "outputHidden": false,
        "inputHidden": false
      }
    },
    {
      "cell_type": "code",
      "source": [
        "sw = scenewalk_obj('subtractive', 'cb','on', 'on', 1, 'on', {'x': d_range[0], 'y': d_range[1]})"
      ],
      "outputs": [],
      "execution_count": 5,
      "metadata": {
        "collapsed": false,
        "outputHidden": false,
        "inputHidden": false
      }
    },
    {
      "cell_type": "code",
      "source": [
        "needed_param_names = sw.get_param_list_order()\n",
        "needed_param_names"
      ],
      "outputs": [
        {
          "output_type": "execute_result",
          "execution_count": 6,
          "data": {
            "text/plain": [
              "['omegaAttention',\n",
              " 'omegaInhib',\n",
              " 'sigmaAttention',\n",
              " 'sigmaInhib',\n",
              " 'gamma',\n",
              " 'inhibStrength',\n",
              " 'zeta',\n",
              " 'sigmaShift',\n",
              " 'shift_size',\n",
              " 'phi',\n",
              " 'first_fix_OmegaAttention',\n",
              " 'cb_sd_x',\n",
              " 'cb_sd_y',\n",
              " 'omega_prevloc']"
            ]
          },
          "metadata": {}
        }
      ],
      "execution_count": 6,
      "metadata": {
        "collapsed": false,
        "outputHidden": false,
        "inputHidden": false
      }
    },
    {
      "cell_type": "code",
      "source": [
        "p_list = list(range(len(needed_param_names)))\n",
        "p_list\n",
        "sw.update_params(p_list)"
      ],
      "outputs": [],
      "execution_count": 7,
      "metadata": {
        "collapsed": false,
        "outputHidden": false,
        "inputHidden": false
      }
    },
    {
      "cell_type": "code",
      "source": [
        "current = sw.get_params()\n",
        "current"
      ],
      "outputs": [
        {
          "output_type": "execute_result",
          "execution_count": 8,
          "data": {
            "text/plain": [
              "OrderedDict([('omegaAttention', 0),\n",
              "             ('omegaInhib', 1),\n",
              "             ('sigmaAttention', 2),\n",
              "             ('sigmaInhib', 3),\n",
              "             ('gamma', 4),\n",
              "             ('inhibStrength', 5),\n",
              "             ('zeta', 6),\n",
              "             ('omega first', 10),\n",
              "             ('cb_sd_x', 11),\n",
              "             ('cb_sd_y', 12),\n",
              "             ('sigmaShift', 7),\n",
              "             ('shift_size', 8),\n",
              "             ('phi', 9),\n",
              "             ('omega_prevloc', 13)])"
            ]
          },
          "metadata": {}
        }
      ],
      "execution_count": 8,
      "metadata": {
        "collapsed": false,
        "outputHidden": false,
        "inputHidden": false
      }
    },
    {
      "cell_type": "code",
      "source": [
        "p_list == p_list"
      ],
      "outputs": [
        {
          "output_type": "execute_result",
          "execution_count": 19,
          "data": {
            "text/plain": [
              "True"
            ]
          },
          "metadata": {}
        }
      ],
      "execution_count": 19,
      "metadata": {
        "collapsed": false,
        "outputHidden": false,
        "inputHidden": false
      }
    },
    {
      "cell_type": "code",
      "source": [
        "p_list = list(range(len(needed_param_names)))\n",
        "p_list"
      ],
      "outputs": [],
      "execution_count": null,
      "metadata": {
        "collapsed": false,
        "outputHidden": false,
        "inputHidden": false
      }
    },
    {
      "cell_type": "code",
      "source": [
        "sw_params = [1, 0.1, 5, 4, 1, 1, 0.3, 0.01,2]"
      ],
      "outputs": [],
      "execution_count": null,
      "metadata": {
        "collapsed": false,
        "outputHidden": false,
        "inputHidden": false
      }
    },
    {
      "cell_type": "code",
      "source": [
        "sw.update_params(sw_params)"
      ],
      "outputs": [],
      "execution_count": null,
      "metadata": {
        "collapsed": false,
        "outputHidden": false,
        "inputHidden": false
      }
    },
    {
      "cell_type": "code",
      "source": [
        "sw.get_params()"
      ],
      "outputs": [],
      "execution_count": null,
      "metadata": {
        "collapsed": false,
        "outputHidden": false,
        "inputHidden": false
      }
    },
    {
      "cell_type": "code",
      "source": [
        "x_sim[0][0]"
      ],
      "outputs": [],
      "execution_count": null,
      "metadata": {
        "collapsed": false,
        "outputHidden": false,
        "inputHidden": false
      }
    },
    {
      "cell_type": "code",
      "source": [
        "sw.get_scanpath_likelihood(x_sim[0][0], y_sim[0][0], dur_sim[0][0], fix_dens)"
      ],
      "outputs": [],
      "execution_count": null,
      "metadata": {
        "collapsed": false,
        "outputHidden": false,
        "inputHidden": false
      }
    },
    {
      "cell_type": "code",
      "source": [
        "np.negative(-3)"
      ],
      "outputs": [],
      "execution_count": null,
      "metadata": {
        "collapsed": false,
        "outputHidden": false,
        "inputHidden": false
      }
    },
    {
      "cell_type": "code",
      "source": [
        "assert aa is None, \"wrong number of params\""
      ],
      "outputs": [],
      "execution_count": null,
      "metadata": {
        "collapsed": false,
        "outputHidden": false,
        "inputHidden": false
      }
    },
    {
      "cell_type": "code",
      "source": [
        "from simulation import simulate_dataset"
      ],
      "outputs": [],
      "execution_count": null,
      "metadata": {
        "collapsed": false,
        "outputHidden": false,
        "inputHidden": false
      }
    },
    {
      "cell_type": "code",
      "source": [
        "len(dur_sim[0])"
      ],
      "outputs": [],
      "execution_count": null,
      "metadata": {
        "collapsed": false,
        "outputHidden": false,
        "inputHidden": false
      }
    },
    {
      "cell_type": "code",
      "source": [
        "simulate_dataset.simulate(dur_sim, im_sim, dens_dat, sw, start_loc=\"center\", x_path=None, y_path=None)"
      ],
      "outputs": [],
      "execution_count": null,
      "metadata": {
        "collapsed": false,
        "outputHidden": false,
        "inputHidden": false
      }
    },
    {
      "cell_type": "code",
      "source": [
        "a = [[[1,1,1],[2,2,2],[3,3,3]],[[1,1,1],[2,2,2],[3,3,3]]]\n",
        "b = [[[\"a\",\"a\",\"a\"],[\"b\",\"b\",\"b\"],[\"c\",\"c\",\"c\"]],[[\"a2\",\"a2\",\"a2\"],[\"b2\",\"b2\",\"b2\"],[\"c2\",\"c2\",\"c2\"]]]"
      ],
      "outputs": [],
      "execution_count": null,
      "metadata": {
        "collapsed": false,
        "outputHidden": false,
        "inputHidden": false
      }
    },
    {
      "cell_type": "code",
      "source": [
        "ct1 = -1\n",
        "for c, d in zip(a, b):\n",
        "    ct1+=1\n",
        "    ct2=-1\n",
        "    for e,f in zip(c,d):\n",
        "        ct2+=1\n",
        "        print(ct1,ct2)\n",
        "        print( e,f)\n",
        "        "
      ],
      "outputs": [],
      "execution_count": null,
      "metadata": {
        "collapsed": false,
        "outputHidden": false,
        "inputHidden": false
      }
    },
    {
      "cell_type": "code",
      "source": [
        "a = np.load(\"/Users/lisa/Documents/SFB1294_B05/SceneWalk/Scenewalk_python/tests/test_simdata/sim_range.npy\")"
      ],
      "outputs": [],
      "execution_count": null,
      "metadata": {
        "collapsed": false,
        "outputHidden": false,
        "inputHidden": false
      }
    },
    {
      "cell_type": "code",
      "source": [
        "a"
      ],
      "outputs": [],
      "execution_count": null,
      "metadata": {
        "collapsed": false,
        "outputHidden": false,
        "inputHidden": false
      }
    },
    {
      "cell_type": "code",
      "source": [
        "x_path, y_path, avg_log_ll = sw.simulate_scanpath(dur_sim[0][0], fix_dens, startpos, get_LL=True)"
      ],
      "outputs": [],
      "execution_count": null,
      "metadata": {
        "collapsed": false,
        "outputHidden": false,
        "inputHidden": false
      }
    },
    {
      "cell_type": "code",
      "source": [
        "len(x_path)"
      ],
      "outputs": [],
      "execution_count": null,
      "metadata": {
        "collapsed": false,
        "outputHidden": false,
        "inputHidden": false
      }
    },
    {
      "cell_type": "code",
      "source": [
        "y_path"
      ],
      "outputs": [],
      "execution_count": null,
      "metadata": {
        "collapsed": false,
        "outputHidden": false,
        "inputHidden": false
      }
    },
    {
      "cell_type": "code",
      "source": [
        "(y_path<100)"
      ],
      "outputs": [],
      "execution_count": null,
      "metadata": {
        "collapsed": false,
        "outputHidden": false,
        "inputHidden": false
      }
    },
    {
      "cell_type": "code",
      "source": [
        "len(dur_sim[0][0])"
      ],
      "outputs": [],
      "execution_count": null,
      "metadata": {
        "collapsed": false,
        "outputHidden": false,
        "inputHidden": false
      }
    },
    {
      "cell_type": "code",
      "source": [],
      "outputs": [],
      "execution_count": null,
      "metadata": {
        "collapsed": false,
        "outputHidden": false,
        "inputHidden": false
      }
    },
    {
      "cell_type": "code",
      "source": [
        "#%%timeit\n",
        "random.seed(11234)\n",
        "sw.update_params([1,1,1,1,1,1,1,1])\n",
        "init_map_att = sw.att_map_init()\n",
        "init_map_inhib = sw.initialize_map_unif()\n",
        "durations1 = (0.2, 0.3, 0.4)\n",
        "x_deg1 = (29, 28, 24)\n",
        "y_deg1 = (50, 80, 29)\n",
        "att1, inh1, uFinal1, next1, LL1 = sw.evolve_maps(durations1, x_deg1, y_deg1, \n",
        "                                                 init_map_att, init_map_inhib, \n",
        "                                                 fix_dens, 1, sim=False)\n",
        "att1[1]"
      ],
      "outputs": [],
      "execution_count": null,
      "metadata": {
        "collapsed": false,
        "outputHidden": false,
        "inputHidden": false
      }
    },
    {
      "cell_type": "code",
      "source": [
        "#%%timeit\n",
        "random.seed(11234)\n",
        "fixation_position = (28, 80)\n",
        "dat_range_x = (23, 100)\n",
        "dat_range_y = (0, 90)\n",
        "duration=0.3\n",
        "mapAtt_init, mapInhib_init = scenewalkfunc.initialize_maps()\n",
        "\n",
        "mapAtt, mapInhib, uFinal = scenewalkfunc.evolve_maps(duration, [1,1,1,1,1,1,1,1], \n",
        "                                          fixation_position[0], fixation_position[1], \n",
        "                                          dat_range_x, dat_range_y, fix_dens, \n",
        "                                          mapAtt_init, mapInhib_init)\n",
        "mapAtt[1]"
      ],
      "outputs": [],
      "execution_count": null,
      "metadata": {
        "collapsed": false,
        "outputHidden": false,
        "inputHidden": false
      }
    },
    {
      "cell_type": "code",
      "source": [
        "np.isclose(att1, mapAtt).all()"
      ],
      "outputs": [],
      "execution_count": null,
      "metadata": {
        "collapsed": false,
        "outputHidden": false,
        "inputHidden": false
      }
    },
    {
      "cell_type": "code",
      "source": [
        "plt.imshow(np.float64(att1))"
      ],
      "outputs": [],
      "execution_count": null,
      "metadata": {
        "collapsed": false,
        "outputHidden": false,
        "inputHidden": false
      }
    },
    {
      "cell_type": "code",
      "source": [
        "plt.imshow(np.float64(mapAtt))"
      ],
      "outputs": [],
      "execution_count": null,
      "metadata": {
        "collapsed": false,
        "outputHidden": false,
        "inputHidden": false
      }
    },
    {
      "cell_type": "code",
      "source": [
        "sw.update_params([1,1,1,1,1,1,1,1])\n",
        "x_path, y_path, avg_log_ll = sw.simulate_scanpath(dur_sim[0][0], fix_dens, get_LL=True)"
      ],
      "outputs": [],
      "execution_count": null,
      "metadata": {
        "collapsed": false,
        "outputHidden": false,
        "inputHidden": false
      }
    },
    {
      "cell_type": "code",
      "source": [
        "omega = np.array([[1, 2], [1, 1]])\n",
        "np.exp(-50 * omega)"
      ],
      "outputs": [],
      "execution_count": null,
      "metadata": {
        "collapsed": false,
        "outputHidden": false,
        "inputHidden": false
      }
    },
    {
      "cell_type": "code",
      "source": [
        "aa = np.ones((10,10))*2\n",
        "loc= np.asarray([4,4])"
      ],
      "outputs": [],
      "execution_count": null,
      "metadata": {
        "collapsed": false,
        "outputHidden": false,
        "inputHidden": false
      }
    },
    {
      "cell_type": "code",
      "source": [
        "aa"
      ],
      "outputs": [],
      "execution_count": null,
      "metadata": {
        "collapsed": false,
        "outputHidden": false,
        "inputHidden": false
      }
    },
    {
      "cell_type": "code",
      "source": [
        "aa[grid]=3"
      ],
      "outputs": [],
      "execution_count": null,
      "metadata": {
        "collapsed": false,
        "outputHidden": false,
        "inputHidden": false
      }
    },
    {
      "cell_type": "code",
      "source": [
        "grid=np.ogrid[1:3, 4:6]"
      ],
      "outputs": [],
      "execution_count": null,
      "metadata": {
        "collapsed": false,
        "outputHidden": false,
        "inputHidden": false
      }
    },
    {
      "cell_type": "code",
      "source": [
        "grid"
      ],
      "outputs": [],
      "execution_count": null,
      "metadata": {
        "collapsed": false,
        "outputHidden": false,
        "inputHidden": false
      }
    },
    {
      "cell_type": "code",
      "source": [
        "aa = np.zeros((10,10))*2\n",
        "loc= np.asarray([0,0])\n",
        "nelem = 2"
      ],
      "outputs": [],
      "execution_count": null,
      "metadata": {
        "collapsed": false,
        "outputHidden": false,
        "inputHidden": false
      }
    },
    {
      "cell_type": "code",
      "source": [
        "aa[np.clip(loc[0]-nelem, 0):loc[0]+nelem+1, \n",
        "   np.clip(loc[1]-nelem, 0):loc[1]+nelem+1] = 1\n",
        "aa"
      ],
      "outputs": [],
      "execution_count": null,
      "metadata": {
        "collapsed": false,
        "outputHidden": false,
        "inputHidden": false
      }
    },
    {
      "cell_type": "code",
      "source": [
        "loc[0]-nelem"
      ],
      "outputs": [],
      "execution_count": null,
      "metadata": {
        "collapsed": false,
        "outputHidden": false,
        "inputHidden": false
      }
    },
    {
      "cell_type": "code",
      "source": [
        "aa[-1]"
      ],
      "outputs": [],
      "execution_count": null,
      "metadata": {
        "collapsed": false,
        "outputHidden": false,
        "inputHidden": false
      }
    },
    {
      "cell_type": "code",
      "source": [
        "aa[-1:1]=1"
      ],
      "outputs": [],
      "execution_count": null,
      "metadata": {
        "collapsed": false,
        "outputHidden": false,
        "inputHidden": false
      }
    },
    {
      "cell_type": "code",
      "source": [
        "aa"
      ],
      "outputs": [],
      "execution_count": null,
      "metadata": {
        "collapsed": false,
        "outputHidden": false,
        "inputHidden": false
      }
    },
    {
      "cell_type": "code",
      "source": [
        "wall = np.zeros((10,10),dtype=np.int)\n",
        "block = np.arange(1,7).reshape(2,3)\n",
        "\n",
        "x = 9\n",
        "y = 9\n",
        "wall[x:x+block.shape[0], y:y+block.shape[1]] = block"
      ],
      "outputs": [],
      "execution_count": null,
      "metadata": {
        "collapsed": false,
        "outputHidden": false,
        "inputHidden": false
      }
    },
    {
      "cell_type": "code",
      "source": [
        "wall"
      ],
      "outputs": [],
      "execution_count": null,
      "metadata": {
        "collapsed": false,
        "outputHidden": false,
        "inputHidden": false
      }
    },
    {
      "cell_type": "code",
      "source": [
        "from collections import OrderedDict"
      ],
      "outputs": [],
      "execution_count": null,
      "metadata": {
        "collapsed": false,
        "outputHidden": false,
        "inputHidden": false
      }
    },
    {
      "cell_type": "code",
      "source": [
        "p_list = OrderedDict({\n",
        "    \"omegaAttention\": 12,\n",
        "    \"omegaInhib\": 23\n",
        "})"
      ],
      "outputs": [],
      "execution_count": null,
      "metadata": {
        "collapsed": false,
        "outputHidden": false,
        "inputHidden": false
      }
    },
    {
      "cell_type": "code",
      "source": [
        "p_list"
      ],
      "outputs": [],
      "execution_count": null,
      "metadata": {
        "collapsed": false,
        "outputHidden": false,
        "inputHidden": false
      }
    },
    {
      "cell_type": "code",
      "source": [
        "p_list[\"asd\"] = 3"
      ],
      "outputs": [],
      "execution_count": null,
      "metadata": {
        "collapsed": false,
        "outputHidden": false,
        "inputHidden": false
      }
    },
    {
      "cell_type": "code",
      "source": [
        "p_list"
      ],
      "outputs": [],
      "execution_count": null,
      "metadata": {
        "collapsed": false,
        "outputHidden": false,
        "inputHidden": false
      }
    },
    {
      "cell_type": "code",
      "source": [
        "a= [1,2,3]\n",
        "b = None\n",
        "for i,j in zip(a,b):\n",
        "    print(i,j)"
      ],
      "outputs": [],
      "execution_count": null,
      "metadata": {
        "collapsed": false,
        "outputHidden": false,
        "inputHidden": false
      }
    },
    {
      "cell_type": "code",
      "source": [],
      "outputs": [],
      "execution_count": null,
      "metadata": {
        "collapsed": false,
        "outputHidden": false,
        "inputHidden": false
      }
    }
  ],
  "metadata": {
    "kernel_info": {
      "name": "python3"
    },
    "language_info": {
      "name": "python",
      "version": "3.6.3",
      "mimetype": "text/x-python",
      "codemirror_mode": {
        "name": "ipython",
        "version": 3
      },
      "pygments_lexer": "ipython3",
      "nbconvert_exporter": "python",
      "file_extension": ".py"
    },
    "kernelspec": {
      "name": "python3",
      "language": "python",
      "display_name": "Python 3"
    },
    "nteract": {
      "version": "0.12.3"
    }
  },
  "nbformat": 4,
  "nbformat_minor": 4
}