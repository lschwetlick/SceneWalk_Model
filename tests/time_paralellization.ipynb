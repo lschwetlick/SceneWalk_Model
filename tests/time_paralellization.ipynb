{
  "cells": [
    {
      "cell_type": "code",
      "source": [
        "import sys\n",
        "from collections import OrderedDict\n",
        "sys.path.append(\"..\") # Adds higher directory to python modules path.\n",
        "import numpy as np\n",
        "from scenewalk_model_object import scenewalk as scenewalk_obj\n",
        "#import scenewalk_model as scenewalkfunc\n",
        "from matplotlib import pyplot as plt"
      ],
      "outputs": [],
      "execution_count": 2,
      "metadata": {
        "collapsed": false,
        "outputHidden": false,
        "inputHidden": false
      }
    },
    {
      "cell_type": "code",
      "source": [
        "fix_dens = np.load('emp_dens.npy')"
      ],
      "outputs": [],
      "execution_count": 3,
      "metadata": {
        "collapsed": false,
        "outputHidden": false,
        "inputHidden": false
      }
    },
    {
      "cell_type": "code",
      "source": [
        "x_dat = np.load('test_simdata/sim_x.npy')\n",
        "y_dat = np.load('test_simdata/sim_y.npy')\n",
        "dur_dat = np.load('test_simdata/sim_dur.npy')\n",
        "im_dat = np.load('test_simdata/sim_im.npy')\n",
        "densities_dat = np.load('test_simdata/densities.npy')\n",
        "# meta = np.load('tests/test_simdata/sim_meta.npy')\n",
        "dat_range = np.load('test_simdata/sim_range.npy')\n",
        "im_dat = np.asarray([np.asarray(el) for el in im_dat])\n",
        "dur_dat = np.asarray([np.asarray(el) for el in dur_dat])"
      ],
      "outputs": [],
      "execution_count": 4,
      "metadata": {
        "collapsed": false,
        "outputHidden": false,
        "inputHidden": false
      }
    },
    {
      "cell_type": "code",
      "source": [
        "sw_params = OrderedDict({\n",
        "    \"omegaAttention\" : 1,\n",
        "    \"omegaInhib\": 0.1,\n",
        "    \"omfrac\": 2,\n",
        "    \"sigmaAttention\" : 5,\n",
        "    \"sigmaInhib\" : 4,\n",
        "    \"gamma\" : 1,\n",
        "    \"lamb\" : 1,\n",
        "    \"inhibStrength\" : 0.01,\n",
        "    \"zeta\" : 0.01,\n",
        "    \"sigmaShift\" : 5,\n",
        "    \"shift_size\" : 2,\n",
        "    \"phi\" : 100,\n",
        "    \"first_fix_OmegaAttention\" : 3,\n",
        "    \"cb_sd_x\" : 5,\n",
        "    \"cb_sd_y\" : 4,\n",
        "    \"omega_prevloc\" : 1\n",
        "})\n",
        "sw = scenewalk_obj(\"subtractive\", \"cb\", \"pre\", 1, \"off\", {'x': dat_range[0], 'y': dat_range[1]})\n",
        "sw.update_params(sw_params)"
      ],
      "outputs": [],
      "execution_count": 5,
      "metadata": {
        "collapsed": false,
        "outputHidden": false,
        "inputHidden": false
      }
    },
    {
      "cell_type": "code",
      "source": [
        "from evaluation import evaluate_sw_parallel as par_tr"
      ],
      "outputs": [],
      "execution_count": 6,
      "metadata": {
        "collapsed": false,
        "outputHidden": false,
        "inputHidden": false
      }
    },
    {
      "cell_type": "code",
      "source": [
        "x_dat_sub = x_dat[1]\n",
        "y_dat_sub = y_dat[1]\n",
        "dur_dat_sub = dur_dat[1]\n",
        "im_dat_sub = im_dat[1]\n",
        "im_dat_sub = np.asarray(im_dat_sub)\n",
        "dur_dat_sub = np.asarray(dur_dat_sub)"
      ],
      "outputs": [],
      "execution_count": 7,
      "metadata": {
        "collapsed": false,
        "outputHidden": false,
        "inputHidden": false
      }
    },
    {
      "cell_type": "code",
      "source": [
        "vp = 1\n",
        "np.asarray([x_dat[vp]]), np.asarray([y_dat[vp]]), np.asarray([dur_dat[vp]]), np.asarray([im_dat[vp]])"
      ],
      "outputs": [],
      "execution_count": null,
      "metadata": {
        "collapsed": false,
        "outputHidden": false,
        "inputHidden": false
      }
    },
    {
      "cell_type": "code",
      "source": [
        "%%timeit\n",
        "vp = 1\n",
        "prc_tr = 2\n",
        "par_tr.get_neg_tot_like_parallel(sw, np.asarray([x_dat[vp]]), np.asarray([y_dat[vp]]), np.asarray([dur_dat[vp]]), np.asarray([im_dat[vp]]), densities_dat, 1, prc_tr)"
      ],
      "outputs": [
        {
          "output_type": "stream",
          "name": "stdout",
          "text": [
            "1.93 s ± 54.9 ms per loop (mean ± std. dev. of 7 runs, 1 loop each)\n"
          ]
        }
      ],
      "execution_count": 13,
      "metadata": {
        "collapsed": false,
        "outputHidden": false,
        "inputHidden": false
      }
    },
    {
      "cell_type": "code",
      "source": [
        "%%timeit\n",
        "vp = 1\n",
        "prc_tr = 5\n",
        "par_tr.get_neg_tot_like_parallel(sw, np.asarray([x_dat[vp]]), np.asarray([y_dat[vp]]), np.asarray([dur_dat[vp]]), np.asarray([im_dat[vp]]), densities_dat, 1, prc_tr)"
      ],
      "outputs": [
        {
          "output_type": "stream",
          "name": "stdout",
          "text": [
            "1.18 s ± 41.3 ms per loop (mean ± std. dev. of 7 runs, 1 loop each)\n"
          ]
        }
      ],
      "execution_count": 14,
      "metadata": {
        "collapsed": false,
        "outputHidden": false,
        "inputHidden": false
      }
    },
    {
      "cell_type": "code",
      "source": [
        "%%timeit\n",
        "vp = 1\n",
        "prc_tr = 1\n",
        "par_tr.get_neg_tot_like_parallel(sw, np.asarray([x_dat[vp]]), np.asarray([y_dat[vp]]), np.asarray([dur_dat[vp]]), np.asarray([im_dat[vp]]), densities_dat, 1, prc_tr)"
      ],
      "outputs": [
        {
          "output_type": "stream",
          "name": "stdout",
          "text": [
            "3.49 s ± 79.5 ms per loop (mean ± std. dev. of 7 runs, 1 loop each)\n"
          ]
        }
      ],
      "execution_count": 15,
      "metadata": {
        "collapsed": false,
        "outputHidden": false,
        "inputHidden": false
      }
    },
    {
      "cell_type": "code",
      "source": [
        "%%timeit\n",
        "sequential_list = par_tr.get_total_list_LL_trials(sw, x_dat_sub, y_d\n",
        "                                                  at_sub, dur_dat_sub, im_dat_sub, densities_dat)\n",
        "nLL_sequential = np.negative(np.sum(sequential_list))"
      ],
      "outputs": [
        {
          "output_type": "error",
          "ename": "SyntaxError",
          "evalue": "invalid syntax (<unknown>, line 2)",
          "traceback": [
            "Traceback \u001b[0;36m(most recent call last)\u001b[0m:\n",
            "  File \u001b[1;32m\"/Library/Frameworks/Python.framework/Versions/3.6/lib/python3.6/site-packages/IPython/core/interactiveshell.py\"\u001b[0m, line \u001b[1;32m2910\u001b[0m, in \u001b[1;35mrun_code\u001b[0m\n    exec(code_obj, self.user_global_ns, self.user_ns)\n",
            "  File \u001b[1;32m\"<ipython-input-16-75bf591eb246>\"\u001b[0m, line \u001b[1;32m1\u001b[0m, in \u001b[1;35m<module>\u001b[0m\n    get_ipython().run_cell_magic('timeit', '', 'sequential_list = par_tr.get_total_list_LL_trials(sw, x_dat_sub, y_d\\n                                                  at_sub, dur_dat_sub, im_dat_sub, densities_dat)\\nnLL_sequential = np.negative(np.sum(sequential_list))')\n",
            "  File \u001b[1;32m\"/Library/Frameworks/Python.framework/Versions/3.6/lib/python3.6/site-packages/IPython/core/interactiveshell.py\"\u001b[0m, line \u001b[1;32m2131\u001b[0m, in \u001b[1;35mrun_cell_magic\u001b[0m\n    result = fn(magic_arg_s, cell)\n",
            "  File \u001b[1;32m\"<decorator-gen-61>\"\u001b[0m, line \u001b[1;32m2\u001b[0m, in \u001b[1;35mtimeit\u001b[0m\n",
            "  File \u001b[1;32m\"/Library/Frameworks/Python.framework/Versions/3.6/lib/python3.6/site-packages/IPython/core/magic.py\"\u001b[0m, line \u001b[1;32m187\u001b[0m, in \u001b[1;35m<lambda>\u001b[0m\n    call = lambda f, *a, **k: f(*a, **k)\n",
            "  File \u001b[1;32m\"/Library/Frameworks/Python.framework/Versions/3.6/lib/python3.6/site-packages/IPython/core/magics/execution.py\"\u001b[0m, line \u001b[1;32m1044\u001b[0m, in \u001b[1;35mtimeit\u001b[0m\n    ast_stmt = self.shell.compile.ast_parse(transform(cell))\n",
            "\u001b[0;36m  File \u001b[0;32m\"/Library/Frameworks/Python.framework/Versions/3.6/lib/python3.6/site-packages/IPython/core/compilerop.py\"\u001b[0;36m, line \u001b[0;32m99\u001b[0;36m, in \u001b[0;35mast_parse\u001b[0;36m\u001b[0m\n\u001b[0;31m    return compile(source, filename, symbol, self.flags | PyCF_ONLY_AST, 1)\u001b[0m\n",
            "\u001b[0;36m  File \u001b[0;32m\"<unknown>\"\u001b[0;36m, line \u001b[0;32m2\u001b[0m\n\u001b[0;31m    at_sub, dur_dat_sub, im_dat_sub, densities_dat)\u001b[0m\n\u001b[0m         ^\u001b[0m\n\u001b[0;31mSyntaxError\u001b[0m\u001b[0;31m:\u001b[0m invalid syntax\n"
          ]
        }
      ],
      "execution_count": 16,
      "metadata": {
        "collapsed": false,
        "outputHidden": false,
        "inputHidden": false
      }
    },
    {
      "cell_type": "code",
      "source": [],
      "outputs": [],
      "execution_count": null,
      "metadata": {
        "collapsed": false,
        "outputHidden": false,
        "inputHidden": false
      }
    }
  ],
  "metadata": {
    "kernel_info": {
      "name": "python3"
    },
    "language_info": {
      "name": "python",
      "version": "3.6.3",
      "mimetype": "text/x-python",
      "codemirror_mode": {
        "name": "ipython",
        "version": 3
      },
      "pygments_lexer": "ipython3",
      "nbconvert_exporter": "python",
      "file_extension": ".py"
    },
    "kernelspec": {
      "name": "python3",
      "language": "python",
      "display_name": "Python 3"
    },
    "nteract": {
      "version": "0.12.3"
    }
  },
  "nbformat": 4,
  "nbformat_minor": 4
}