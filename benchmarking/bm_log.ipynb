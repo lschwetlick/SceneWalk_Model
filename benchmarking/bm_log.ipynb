{
  "cells": [
    {
      "cell_type": "code",
      "source": [
        "import numpy as np"
      ],
      "outputs": [],
      "execution_count": 1,
      "metadata": {
        "collapsed": true,
        "outputExpanded": false,
        "jupyter": {
          "source_hidden": false,
          "outputs_hidden": false
        },
        "nteract": {
          "transient": {
            "deleting": false
          }
        },
        "execution": {
          "iopub.status.busy": "2020-05-10T07:53:58.475Z",
          "iopub.execute_input": "2020-05-10T07:53:58.481Z",
          "iopub.status.idle": "2020-05-10T07:53:58.557Z",
          "shell.execute_reply": "2020-05-10T07:53:58.566Z"
        }
      }
    },
    {
      "cell_type": "code",
      "source": [
        "aa = np.load(\"/Users/lisa/Documents/SFB1294_B05/SceneWalk/SceneWalk_model/benchmarking/file=aaa.npy\", allow_pickle=True)"
      ],
      "outputs": [],
      "execution_count": 8,
      "metadata": {
        "collapsed": true,
        "outputExpanded": false,
        "jupyter": {
          "source_hidden": false,
          "outputs_hidden": false
        },
        "nteract": {
          "transient": {
            "deleting": false
          }
        },
        "execution": {
          "iopub.status.busy": "2020-05-10T08:44:48.677Z",
          "iopub.execute_input": "2020-05-10T08:44:48.683Z",
          "iopub.status.idle": "2020-05-10T08:44:48.691Z",
          "shell.execute_reply": "2020-05-10T08:44:48.696Z"
        }
      }
    },
    {
      "cell_type": "code",
      "source": [
        "aa"
      ],
      "outputs": [
        {
          "output_type": "execute_result",
          "execution_count": 10,
          "data": {
            "text/plain": [
              "array([], dtype=float64)"
            ]
          },
          "metadata": {}
        }
      ],
      "execution_count": 10,
      "metadata": {
        "collapsed": true,
        "outputExpanded": false,
        "jupyter": {
          "source_hidden": false,
          "outputs_hidden": false
        },
        "nteract": {
          "transient": {
            "deleting": false
          }
        },
        "execution": {
          "iopub.status.busy": "2020-05-10T08:44:55.964Z",
          "iopub.execute_input": "2020-05-10T08:44:55.969Z",
          "iopub.status.idle": "2020-05-10T08:44:55.980Z",
          "shell.execute_reply": "2020-05-10T08:44:55.984Z"
        }
      }
    },
    {
      "cell_type": "code",
      "source": [
        "len(aa[:,0])"
      ],
      "outputs": [
        {
          "output_type": "error",
          "ename": "IndexError",
          "evalue": "too many indices for array",
          "traceback": [
            "\u001b[0;31m---------------------------------------------------------------------------\u001b[0m",
            "\u001b[0;31mIndexError\u001b[0m                                Traceback (most recent call last)",
            "\u001b[0;32m<ipython-input-9-65241b972964>\u001b[0m in \u001b[0;36m<module>\u001b[0;34m\u001b[0m\n\u001b[0;32m----> 1\u001b[0;31m \u001b[0mlen\u001b[0m\u001b[0;34m(\u001b[0m\u001b[0maa\u001b[0m\u001b[0;34m[\u001b[0m\u001b[0;34m:\u001b[0m\u001b[0;34m,\u001b[0m\u001b[0;36m0\u001b[0m\u001b[0;34m]\u001b[0m\u001b[0;34m)\u001b[0m\u001b[0;34m\u001b[0m\u001b[0;34m\u001b[0m\u001b[0m\n\u001b[0m",
            "\u001b[0;31mIndexError\u001b[0m: too many indices for array"
          ]
        }
      ],
      "execution_count": 9,
      "metadata": {
        "collapsed": true,
        "outputExpanded": false,
        "jupyter": {
          "source_hidden": false,
          "outputs_hidden": false
        },
        "nteract": {
          "transient": {
            "deleting": false
          }
        },
        "execution": {
          "iopub.status.busy": "2020-05-10T08:44:49.894Z",
          "iopub.execute_input": "2020-05-10T08:44:49.899Z",
          "iopub.status.idle": "2020-05-10T08:44:49.976Z",
          "shell.execute_reply": "2020-05-10T08:44:50.031Z"
        }
      }
    },
    {
      "cell_type": "code",
      "source": [
        "np.unique(aa, axis=0, return_counts=True)"
      ],
      "outputs": [
        {
          "output_type": "execute_result",
          "execution_count": 45,
          "data": {
            "text/plain": [
              "(array([[0.1, 0.1, 0.1, ..., 0.1, 0.1, 0.1],\n",
              "        [0.1, 0.1, 0.1, ..., 0.1, 0.1, 1.1],\n",
              "        [0.1, 0.1, 0.1, ..., 0.1, 1.1, 0.1],\n",
              "        ...,\n",
              "        [1.1, 1.1, 1.1, ..., 1.1, 0.1, 1.1],\n",
              "        [1.1, 1.1, 1.1, ..., 1.1, 1.1, 0.1],\n",
              "        [1.1, 1.1, 1.1, ..., 1.1, 1.1, 1.1]]),\n",
              " array([1, 1, 1, ..., 1, 1, 1]))"
            ]
          },
          "metadata": {}
        }
      ],
      "execution_count": 45,
      "metadata": {
        "collapsed": true,
        "outputExpanded": false,
        "jupyter": {
          "source_hidden": false,
          "outputs_hidden": false
        },
        "nteract": {
          "transient": {
            "deleting": false
          }
        },
        "execution": {
          "iopub.status.busy": "2020-04-15T10:18:50.637Z",
          "iopub.execute_input": "2020-04-15T10:18:50.639Z",
          "iopub.status.idle": "2020-04-15T10:18:50.645Z",
          "shell.execute_reply": "2020-04-15T10:18:50.648Z"
        }
      }
    },
    {
      "cell_type": "code",
      "source": [
        "from matplotlib import pyplot as plt"
      ],
      "outputs": [],
      "execution_count": 46,
      "metadata": {
        "collapsed": true,
        "outputExpanded": false,
        "jupyter": {
          "source_hidden": false,
          "outputs_hidden": false
        },
        "nteract": {
          "transient": {
            "deleting": false
          }
        },
        "execution": {
          "iopub.status.busy": "2020-04-15T10:19:48.282Z",
          "iopub.execute_input": "2020-04-15T10:19:48.285Z",
          "iopub.status.idle": "2020-04-15T10:19:48.481Z",
          "shell.execute_reply": "2020-04-15T10:19:48.486Z"
        }
      }
    },
    {
      "cell_type": "code",
      "source": [
        "plt.imshow(aa[0:50, 0:11])"
      ],
      "outputs": [
        {
          "output_type": "execute_result",
          "execution_count": 48,
          "data": {
            "text/plain": [
              "<matplotlib.image.AxesImage at 0x11ce3a970>"
            ]
          },
          "metadata": {}
        },
        {
          "output_type": "display_data",
          "data": {
            "text/plain": [
              "<Figure size 432x288 with 1 Axes>"
            ],
            "image/png": "[encoded data removed]"
          },
          "metadata": {
            "needs_background": "light"
          }
        }
      ],
      "execution_count": 48,
      "metadata": {
        "collapsed": true,
        "outputExpanded": false,
        "jupyter": {
          "source_hidden": false,
          "outputs_hidden": false
        },
        "nteract": {
          "transient": {
            "deleting": false
          }
        },
        "execution": {
          "iopub.status.busy": "2020-04-15T10:20:53.647Z",
          "iopub.execute_input": "2020-04-15T10:20:53.650Z",
          "iopub.status.idle": "2020-04-15T10:20:53.777Z",
          "shell.execute_reply": "2020-04-15T10:20:53.783Z"
        }
      }
    },
    {
      "cell_type": "code",
      "source": [
        "from collections import OrderedDict\n",
        "\n",
        "EPS = np.finfo(np.float64).eps\n",
        "\n",
        "bounds_dict = OrderedDict({\n",
        "    \"omegaAttention\" : (EPS, 105),\n",
        "    #\"omegaInhib\": (EPS, 100000),\n",
        "    \"omfrac\": (10, 10),\n",
        "    \"sigmaAttention\" : (EPS, 40),\n",
        "    \"sigmaInhib\" : (EPS, 40),\n",
        "    \"gamma\" : (1, 1),\n",
        "    \"lamb\" : (1, 1),\n",
        "    \"inhibStrength\" : (0.3, 0.3),\n",
        "    \"zeta\" : (-5, 0),\n",
        "    \"sigmaShift\" : (2, 2),\n",
        "    \"shift_size\" : (EPS, 4),\n",
        "    \"first_fix_OmegaAttention\" : (1.5, 1.5),\n",
        "    \"cb_sd_x\" : (4, 4),\n",
        "    \"cb_sd_y\" : (3, 3),\n",
        "    \"omega_prevloc_frac\": (10, 10),\n",
        "    'chi': (0.06, 0.06),\n",
        "    'ompfactor': (-0.6, -0.6)\n",
        "})\n",
        "np.save(\"bounds_dict2.npy\", bounds_dict)"
      ],
      "outputs": [],
      "execution_count": 3,
      "metadata": {
        "collapsed": true,
        "outputExpanded": false,
        "jupyter": {
          "source_hidden": false,
          "outputs_hidden": false
        },
        "nteract": {
          "transient": {
            "deleting": false
          }
        },
        "execution": {
          "iopub.status.busy": "2020-05-10T07:56:30.921Z",
          "iopub.execute_input": "2020-05-10T07:56:30.927Z",
          "iopub.status.idle": "2020-05-10T07:56:30.932Z",
          "shell.execute_reply": "2020-05-10T07:56:30.937Z"
        }
      }
    },
    {
      "cell_type": "code",
      "source": [
        "kwargs_d = {\"coupled_oms\": True, \"saclen_shift\":True, \"coupled_facil\":True, \"exponents\":1, \"logged_z\":True, \"logged_ompf\":True}\n",
        "sw_args = ['subtractive', 'cb','both', 'on', 'on', {'x': (23, 100), 'y': (0, 90)}, kwargs_d]\n",
        "np.save(\"sw_args2.npy\", sw_args)"
      ],
      "outputs": [],
      "execution_count": 2,
      "metadata": {
        "collapsed": true,
        "outputExpanded": false,
        "jupyter": {
          "source_hidden": false,
          "outputs_hidden": false
        },
        "nteract": {
          "transient": {
            "deleting": false
          }
        },
        "execution": {
          "iopub.status.busy": "2020-05-10T07:56:19.122Z",
          "iopub.execute_input": "2020-05-10T07:56:19.129Z",
          "iopub.status.idle": "2020-05-10T07:56:19.135Z",
          "shell.execute_reply": "2020-05-10T07:56:19.142Z"
        }
      }
    },
    {
      "cell_type": "code",
      "source": [
        "from scenewalk.scenewalk_model_object import scenewalk as sw_model"
      ],
      "outputs": [],
      "execution_count": 4,
      "metadata": {
        "collapsed": true,
        "outputExpanded": false,
        "jupyter": {
          "source_hidden": false,
          "outputs_hidden": false
        },
        "nteract": {
          "transient": {
            "deleting": false
          }
        },
        "execution": {
          "iopub.status.busy": "2020-05-10T08:01:38.777Z",
          "iopub.execute_input": "2020-05-10T08:01:38.782Z",
          "iopub.status.idle": "2020-05-10T08:01:38.790Z",
          "shell.execute_reply": "2020-05-10T08:01:38.795Z"
        }
      }
    },
    {
      "cell_type": "code",
      "source": [
        "sw = sw_model(*sw_args)"
      ],
      "outputs": [],
      "execution_count": 5,
      "metadata": {
        "collapsed": true,
        "outputExpanded": false,
        "jupyter": {
          "source_hidden": false,
          "outputs_hidden": false
        },
        "nteract": {
          "transient": {
            "deleting": false
          }
        },
        "execution": {
          "iopub.status.busy": "2020-05-10T08:01:40.464Z",
          "iopub.execute_input": "2020-05-10T08:01:40.468Z",
          "iopub.status.idle": "2020-05-10T08:01:40.476Z",
          "shell.execute_reply": "2020-05-10T08:01:40.480Z"
        }
      }
    },
    {
      "cell_type": "code",
      "source": [
        "sw.get_param_list_order()"
      ],
      "outputs": [
        {
          "output_type": "execute_result",
          "execution_count": 7,
          "data": {
            "text/plain": [
              "['omegaAttention',\n",
              " 'omfrac',\n",
              " 'sigmaAttention',\n",
              " 'sigmaInhib',\n",
              " 'gamma',\n",
              " 'inhibStrength',\n",
              " 'zeta',\n",
              " 'sigmaShift',\n",
              " 'shift_size',\n",
              " 'first_fix_OmegaAttention',\n",
              " 'cb_sd_x',\n",
              " 'cb_sd_y',\n",
              " 'omega_prevloc_frac',\n",
              " 'chi',\n",
              " 'ompfactor']"
            ]
          },
          "metadata": {}
        }
      ],
      "execution_count": 7,
      "metadata": {
        "collapsed": true,
        "outputExpanded": false,
        "jupyter": {
          "source_hidden": false,
          "outputs_hidden": false
        },
        "nteract": {
          "transient": {
            "deleting": false
          }
        },
        "execution": {
          "iopub.status.busy": "2020-05-10T08:01:51.134Z",
          "iopub.execute_input": "2020-05-10T08:01:51.139Z",
          "iopub.status.idle": "2020-05-10T08:01:51.151Z",
          "shell.execute_reply": "2020-05-10T08:01:51.156Z"
        }
      }
    },
    {
      "cell_type": "code",
      "source": [],
      "outputs": [],
      "execution_count": null,
      "metadata": {
        "collapsed": true,
        "outputExpanded": false,
        "jupyter": {
          "source_hidden": false,
          "outputs_hidden": false
        },
        "nteract": {
          "transient": {
            "deleting": false
          }
        }
      }
    }
  ],
  "metadata": {
    "kernel_info": {
      "name": "scenewalk"
    },
    "language_info": {
      "name": "python",
      "version": "3.8.0",
      "mimetype": "text/x-python",
      "codemirror_mode": {
        "name": "ipython",
        "version": 3
      },
      "pygments_lexer": "ipython3",
      "nbconvert_exporter": "python",
      "file_extension": ".py"
    },
    "kernelspec": {
      "argv": [
        "/Users/lisa/Documents/virtual_envs/scenewalk/bin/python3",
        "-m",
        "ipykernel_launcher",
        "-f",
        "{connection_file}"
      ],
      "display_name": "scenewalk",
      "language": "python",
      "name": "scenewalk"
    },
    "nteract": {
      "version": "0.23.1"
    }
  },
  "nbformat": 4,
  "nbformat_minor": 0
}