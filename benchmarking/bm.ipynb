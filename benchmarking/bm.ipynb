{
  "cells": [
    {
      "cell_type": "code",
      "source": [
        "import numpy as np"
      ],
      "outputs": [],
      "execution_count": 1,
      "metadata": {
        "collapsed": true,
        "outputExpanded": false,
        "jupyter": {
          "source_hidden": false,
          "outputs_hidden": false
        },
        "nteract": {
          "transient": {
            "deleting": false
          }
        },
        "execution": {
          "iopub.status.busy": "2020-04-15T11:21:35.000Z",
          "iopub.execute_input": "2020-04-15T11:21:35.003Z",
          "iopub.status.idle": "2020-04-15T11:21:35.112Z",
          "shell.execute_reply": "2020-04-15T11:21:35.116Z"
        }
      }
    },
    {
      "cell_type": "code",
      "source": [
        "np.array(np.meshgrid([1, 2, 3, 5], [4, 5], [6, 7])).T.reshape(-1,3)"
      ],
      "outputs": [
        {
          "output_type": "execute_result",
          "execution_count": 32,
          "data": {
            "text/plain": [
              "array([[1, 4, 6],\n",
              "       [1, 5, 6],\n",
              "       [2, 4, 6],\n",
              "       [2, 5, 6],\n",
              "       [3, 4, 6],\n",
              "       [3, 5, 6],\n",
              "       [5, 4, 6],\n",
              "       [5, 5, 6],\n",
              "       [1, 4, 7],\n",
              "       [1, 5, 7],\n",
              "       [2, 4, 7],\n",
              "       [2, 5, 7],\n",
              "       [3, 4, 7],\n",
              "       [3, 5, 7],\n",
              "       [5, 4, 7],\n",
              "       [5, 5, 7]])"
            ]
          },
          "metadata": {}
        }
      ],
      "execution_count": 32,
      "metadata": {
        "collapsed": true,
        "outputExpanded": false,
        "jupyter": {
          "source_hidden": false,
          "outputs_hidden": false
        },
        "nteract": {
          "transient": {
            "deleting": false
          }
        },
        "execution": {
          "iopub.status.busy": "2020-04-15T09:40:37.848Z",
          "iopub.execute_input": "2020-04-15T09:40:37.850Z",
          "iopub.status.idle": "2020-04-15T09:40:37.857Z",
          "shell.execute_reply": "2020-04-15T09:40:37.859Z"
        }
      }
    },
    {
      "cell_type": "code",
      "source": [
        "p_bounds = [[1,10] for i in range(10)]\n",
        "param_perm = np.array(np.meshgrid(*p_bounds)).T.reshape(-1,len(p_bounds))\n",
        "param_perm[0]"
      ],
      "outputs": [
        {
          "output_type": "execute_result",
          "execution_count": 31,
          "data": {
            "text/plain": [
              "array([1, 1, 1, 1, 1, 1, 1, 1, 1, 1])"
            ]
          },
          "metadata": {}
        }
      ],
      "execution_count": 31,
      "metadata": {
        "collapsed": true,
        "outputExpanded": false,
        "jupyter": {
          "source_hidden": false,
          "outputs_hidden": false
        },
        "nteract": {
          "transient": {
            "deleting": false
          }
        },
        "execution": {
          "iopub.status.busy": "2020-04-15T09:39:55.529Z",
          "iopub.execute_input": "2020-04-15T09:39:55.532Z",
          "iopub.status.idle": "2020-04-15T09:39:55.538Z",
          "shell.execute_reply": "2020-04-15T09:39:55.540Z"
        }
      }
    },
    {
      "cell_type": "code",
      "source": [
        "aa = np.load(\"/Users/lisa/Documents/SFB1294_B05/SceneWalk/SceneWalk_model/faulty_perms.npy\", allow_pickle=True)"
      ],
      "outputs": [],
      "execution_count": 35,
      "metadata": {
        "collapsed": true,
        "outputExpanded": false,
        "jupyter": {
          "source_hidden": false,
          "outputs_hidden": false
        },
        "nteract": {
          "transient": {
            "deleting": false
          }
        },
        "execution": {
          "iopub.status.busy": "2020-04-15T10:11:05.782Z",
          "iopub.execute_input": "2020-04-15T10:11:05.785Z",
          "iopub.status.idle": "2020-04-15T10:11:05.788Z",
          "shell.execute_reply": "2020-04-15T10:11:05.791Z"
        }
      }
    },
    {
      "cell_type": "code",
      "source": [
        "len(aa[:,0])"
      ],
      "outputs": [
        {
          "output_type": "execute_result",
          "execution_count": 40,
          "data": {
            "text/plain": [
              "1024"
            ]
          },
          "metadata": {}
        }
      ],
      "execution_count": 40,
      "metadata": {
        "collapsed": true,
        "outputExpanded": false,
        "jupyter": {
          "source_hidden": false,
          "outputs_hidden": false
        },
        "nteract": {
          "transient": {
            "deleting": false
          }
        },
        "execution": {
          "iopub.status.busy": "2020-04-15T10:12:45.952Z",
          "iopub.execute_input": "2020-04-15T10:12:45.955Z",
          "iopub.status.idle": "2020-04-15T10:12:45.960Z",
          "shell.execute_reply": "2020-04-15T10:12:45.963Z"
        }
      }
    },
    {
      "cell_type": "code",
      "source": [
        "np.unique(aa, axis=0, return_counts=True)"
      ],
      "outputs": [
        {
          "output_type": "execute_result",
          "execution_count": 45,
          "data": {
            "text/plain": [
              "(array([[0.1, 0.1, 0.1, ..., 0.1, 0.1, 0.1],\n",
              "        [0.1, 0.1, 0.1, ..., 0.1, 0.1, 1.1],\n",
              "        [0.1, 0.1, 0.1, ..., 0.1, 1.1, 0.1],\n",
              "        ...,\n",
              "        [1.1, 1.1, 1.1, ..., 1.1, 0.1, 1.1],\n",
              "        [1.1, 1.1, 1.1, ..., 1.1, 1.1, 0.1],\n",
              "        [1.1, 1.1, 1.1, ..., 1.1, 1.1, 1.1]]),\n",
              " array([1, 1, 1, ..., 1, 1, 1]))"
            ]
          },
          "metadata": {}
        }
      ],
      "execution_count": 45,
      "metadata": {
        "collapsed": true,
        "outputExpanded": false,
        "jupyter": {
          "source_hidden": false,
          "outputs_hidden": false
        },
        "nteract": {
          "transient": {
            "deleting": false
          }
        },
        "execution": {
          "iopub.status.busy": "2020-04-15T10:18:50.637Z",
          "iopub.execute_input": "2020-04-15T10:18:50.639Z",
          "iopub.status.idle": "2020-04-15T10:18:50.645Z",
          "shell.execute_reply": "2020-04-15T10:18:50.648Z"
        }
      }
    },
    {
      "cell_type": "code",
      "source": [
        "from matplotlib import pyplot as plt"
      ],
      "outputs": [],
      "execution_count": 46,
      "metadata": {
        "collapsed": true,
        "outputExpanded": false,
        "jupyter": {
          "source_hidden": false,
          "outputs_hidden": false
        },
        "nteract": {
          "transient": {
            "deleting": false
          }
        },
        "execution": {
          "iopub.status.busy": "2020-04-15T10:19:48.282Z",
          "iopub.execute_input": "2020-04-15T10:19:48.285Z",
          "iopub.status.idle": "2020-04-15T10:19:48.481Z",
          "shell.execute_reply": "2020-04-15T10:19:48.486Z"
        }
      }
    },
    {
      "cell_type": "code",
      "source": [
        "plt.imshow(aa[0:50, 0:11])"
      ],
      "outputs": [
        {
          "output_type": "execute_result",
          "execution_count": 48,
          "data": {
            "text/plain": [
              "<matplotlib.image.AxesImage at 0x11ce3a970>"
            ]
          },
          "metadata": {}
        },
        {
          "output_type": "display_data",
          "data": {
            "text/plain": [
              "<Figure size 432x288 with 1 Axes>"
            ],
            "image/png": "[encoded data removed]"
          },
          "metadata": {
            "needs_background": "light"
          }
        }
      ],
      "execution_count": 48,
      "metadata": {
        "collapsed": true,
        "outputExpanded": false,
        "jupyter": {
          "source_hidden": false,
          "outputs_hidden": false
        },
        "nteract": {
          "transient": {
            "deleting": false
          }
        },
        "execution": {
          "iopub.status.busy": "2020-04-15T10:20:53.647Z",
          "iopub.execute_input": "2020-04-15T10:20:53.650Z",
          "iopub.status.idle": "2020-04-15T10:20:53.777Z",
          "shell.execute_reply": "2020-04-15T10:20:53.783Z"
        }
      }
    },
    {
      "cell_type": "code",
      "source": [
        "from collections import OrderedDict\n",
        "\n",
        "EPS = np.finfo(np.float64).eps\n",
        "bounds_dict = OrderedDict({\n",
        "    \"omegaAttention\" : (EPS, 100000),\n",
        "    \"omegaInhib\": (EPS, 100000),\n",
        "    \"omfrac\": (EPS, 100000),\n",
        "    \"sigmaAttention\" : (EPS, 100000),\n",
        "    \"sigmaInhib\" : (EPS, 100000),\n",
        "    \"gamma\" : (EPS, 15),\n",
        "    \"lamb\" : (EPS, 15),\n",
        "    \"inhibStrength\" : (EPS, 100000),\n",
        "    \"zeta\" : (EPS, 1),\n",
        "    \"sigmaShift\" : (EPS, 100000),\n",
        "    \"shift_size\" : (EPS, 100000),\n",
        "    \"phi\" : (1, 100000),\n",
        "    \"first_fix_OmegaAttention\" : (EPS, 100000),\n",
        "    \"cb_sd_x\" : (0.1, 100000),\n",
        "    \"cb_sd_y\" : (0.1, 100000),\n",
        "    \"omega_prevloc\" : (EPS, 100000)\n",
        "})\n",
        "np.save(\"bounds_dict.npy\", bounds_dict)"
      ],
      "outputs": [],
      "execution_count": 5,
      "metadata": {
        "collapsed": true,
        "outputExpanded": false,
        "jupyter": {
          "source_hidden": false,
          "outputs_hidden": false
        },
        "nteract": {
          "transient": {
            "deleting": false
          }
        },
        "execution": {
          "iopub.status.busy": "2020-04-15T11:22:26.353Z",
          "iopub.execute_input": "2020-04-15T11:22:26.357Z",
          "iopub.status.idle": "2020-04-15T11:22:26.362Z",
          "shell.execute_reply": "2020-04-15T11:22:26.365Z"
        }
      }
    },
    {
      "cell_type": "code",
      "source": [
        "my_args = [\"subtractive\", \"cb\", \"off\", \"off\", \"off\", {'x': (23, 100), 'y': (0, 90)}]\n",
        "np.save(\"sw_args.npy\", my_args)"
      ],
      "outputs": [],
      "execution_count": 6,
      "metadata": {
        "collapsed": true,
        "outputExpanded": false,
        "jupyter": {
          "source_hidden": false,
          "outputs_hidden": false
        },
        "nteract": {
          "transient": {
            "deleting": false
          }
        },
        "execution": {
          "iopub.status.busy": "2020-04-15T11:22:26.783Z",
          "iopub.execute_input": "2020-04-15T11:22:26.787Z",
          "iopub.status.idle": "2020-04-15T11:22:26.792Z",
          "shell.execute_reply": "2020-04-15T11:22:26.795Z"
        }
      }
    },
    {
      "cell_type": "code",
      "source": [],
      "outputs": [],
      "execution_count": null,
      "metadata": {
        "collapsed": true,
        "outputExpanded": false,
        "jupyter": {
          "source_hidden": false,
          "outputs_hidden": false
        },
        "nteract": {
          "transient": {
            "deleting": false
          }
        }
      }
    }
  ],
  "metadata": {
    "kernel_info": {
      "name": "scenewalk"
    },
    "language_info": {
      "name": "python",
      "version": "3.8.0",
      "mimetype": "text/x-python",
      "codemirror_mode": {
        "name": "ipython",
        "version": 3
      },
      "pygments_lexer": "ipython3",
      "nbconvert_exporter": "python",
      "file_extension": ".py"
    },
    "kernelspec": {
      "argv": [
        "/Users/lisa/Documents/virtual_envs/scenewalk/bin/python3",
        "-m",
        "ipykernel_launcher",
        "-f",
        "{connection_file}"
      ],
      "display_name": "scenewalk",
      "language": "python",
      "name": "scenewalk"
    },
    "nteract": {
      "version": "0.22.4"
    }
  },
  "nbformat": 4,
  "nbformat_minor": 0
}